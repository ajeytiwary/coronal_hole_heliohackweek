{
 "cells": [
  {
   "cell_type": "code",
   "execution_count": 26,
   "metadata": {},
   "outputs": [
    {
     "name": "stdout",
     "output_type": "stream",
     "text": [
      "171/eit_l1_20070601_120014.fits 171_B/20070601_120100_171eu_L.fts\n",
      "INFO: Obtained JPL HORIZONS location for SOHO (spacecraft) (-21) [sunpy.coordinates.ephemeris]\n"
     ]
    },
    {
     "name": "stderr",
     "output_type": "stream",
     "text": [
      "WARNING: VerifyWarning: Card is too long, comment will be truncated. [astropy.io.fits.card]\n",
      "WARNING: FITSFixedWarning: CROTA = -3.09443546342E-07 \n",
      "keyword looks very much like CROTAn but isn't. [astropy.wcs.wcs]\n",
      "WARNING: VerifyWarning: Card is too long, comment will be truncated. [astropy.io.fits.card]\n",
      "WARNING: FITSFixedWarning: CROTA = -3.09443546342E-07 \n",
      "keyword looks very much like CROTAn but isn't. [astropy.wcs.wcs]\n"
     ]
    },
    {
     "name": "stdout",
     "output_type": "stream",
     "text": [
      "0 0 EIT (after masking) 28.86477841353158 1886.3114422606598\n",
      "EUVI (after masking) 5.684342e-12 22.103533\n",
      "INFO: Obtained JPL HORIZONS location for SOHO (spacecraft) (-21) [sunpy.coordinates.ephemeris]\n"
     ]
    },
    {
     "name": "stderr",
     "output_type": "stream",
     "text": [
      "WARNING: VerifyWarning: Card is too long, comment will be truncated. [astropy.io.fits.card]\n",
      "WARNING: FITSFixedWarning: CROTA = -5.95729371611E-07 \n",
      "keyword looks very much like CROTAn but isn't. [astropy.wcs.wcs]\n",
      "WARNING: VerifyWarning: Card is too long, comment will be truncated. [astropy.io.fits.card]\n",
      "WARNING: FITSFixedWarning: CROTA = -5.95729371611E-07 \n",
      "keyword looks very much like CROTAn but isn't. [astropy.wcs.wcs]\n"
     ]
    },
    {
     "name": "stdout",
     "output_type": "stream",
     "text": [
      "INFO: Obtained JPL HORIZONS location for SOHO (spacecraft) (-21) [sunpy.coordinates.ephemeris]\n"
     ]
    },
    {
     "name": "stderr",
     "output_type": "stream",
     "text": [
      "WARNING: VerifyWarning: Card is too long, comment will be truncated. [astropy.io.fits.card]\n",
      "WARNING: FITSFixedWarning: CROTA = -1.04575514825E-06 \n",
      "keyword looks very much like CROTAn but isn't. [astropy.wcs.wcs]\n",
      "WARNING: VerifyWarning: Card is too long, comment will be truncated. [astropy.io.fits.card]\n",
      "WARNING: FITSFixedWarning: CROTA = -1.04575514825E-06 \n",
      "keyword looks very much like CROTAn but isn't. [astropy.wcs.wcs]\n"
     ]
    },
    {
     "name": "stdout",
     "output_type": "stream",
     "text": [
      "0 1 EIT (after masking) 33.7853518431951 2439.9246515952345\n",
      "EUVI (after masking) 8.4605745e-10 24.725006\n",
      "INFO: Obtained JPL HORIZONS location for SOHO (spacecraft) (-21) [sunpy.coordinates.ephemeris]\n"
     ]
    },
    {
     "name": "stderr",
     "output_type": "stream",
     "text": [
      "WARNING: FITSFixedWarning: CROTA = -2.77481038147E-09 \n",
      "keyword looks very much like CROTAn but isn't. [astropy.wcs.wcs]\n",
      "WARNING: FITSFixedWarning: CROTA = -2.77481038147E-09 \n",
      "keyword looks very much like CROTAn but isn't. [astropy.wcs.wcs]\n"
     ]
    },
    {
     "name": "stdout",
     "output_type": "stream",
     "text": [
      "0 2 EIT (after masking) 26.019357828106326 1586.9895839996336\n",
      "EUVI (after masking) 7.258336e-10 20.086864\n",
      "INFO: Obtained JPL HORIZONS location for SOHO (spacecraft) (-21) [sunpy.coordinates.ephemeris]\n"
     ]
    },
    {
     "name": "stderr",
     "output_type": "stream",
     "text": [
      "WARNING: VerifyWarning: Card is too long, comment will be truncated. [astropy.io.fits.card]\n",
      "WARNING: FITSFixedWarning: CROTA = 1.14469564716E-07 \n",
      "keyword looks very much like CROTAn but isn't. [astropy.wcs.wcs]\n",
      "WARNING: VerifyWarning: Card is too long, comment will be truncated. [astropy.io.fits.card]\n",
      "WARNING: FITSFixedWarning: CROTA = 1.14469564716E-07 \n",
      "keyword looks very much like CROTAn but isn't. [astropy.wcs.wcs]\n"
     ]
    },
    {
     "name": "stdout",
     "output_type": "stream",
     "text": [
      "0 3 EIT (after masking) 26.165531195897216 8925.763430544946\n",
      "EUVI (after masking) 1.9877575e-09 19.46883\n",
      "INFO: Obtained JPL HORIZONS location for SOHO (spacecraft) (-21) [sunpy.coordinates.ephemeris]\n"
     ]
    },
    {
     "name": "stderr",
     "output_type": "stream",
     "text": [
      "WARNING: FITSFixedWarning: CROTA = 4.05532740722E-08 \n",
      "keyword looks very much like CROTAn but isn't. [astropy.wcs.wcs]\n",
      "WARNING: FITSFixedWarning: CROTA = 4.05532740722E-08 \n",
      "keyword looks very much like CROTAn but isn't. [astropy.wcs.wcs]\n"
     ]
    },
    {
     "name": "stdout",
     "output_type": "stream",
     "text": [
      "0 4 EIT (after masking) 24.008324842799887 4545.746161676667\n",
      "EUVI (after masking) 5.392394e-09 22.396729\n",
      "INFO: Obtained JPL HORIZONS location for SOHO (spacecraft) (-21) [sunpy.coordinates.ephemeris]\n"
     ]
    },
    {
     "name": "stderr",
     "output_type": "stream",
     "text": [
      "WARNING: FITSFixedWarning: CROTA = 8.86482793838000E-08 \n",
      "keyword looks very much like CROTAn but isn't. [astropy.wcs.wcs]\n",
      "WARNING: FITSFixedWarning: CROTA = 8.86482793838000E-08 \n",
      "keyword looks very much like CROTAn but isn't. [astropy.wcs.wcs]\n"
     ]
    },
    {
     "name": "stdout",
     "output_type": "stream",
     "text": [
      "0 5 EIT (after masking) 24.622895690135703 6972.337400214008\n",
      "EUVI (after masking) 1.2238161e-08 13.90653\n",
      "INFO: Obtained JPL HORIZONS location for SOHO (spacecraft) (-21) [sunpy.coordinates.ephemeris]\n"
     ]
    },
    {
     "name": "stderr",
     "output_type": "stream",
     "text": [
      "WARNING: FITSFixedWarning: CROTA = 7.07188356762999E-08 \n",
      "keyword looks very much like CROTAn but isn't. [astropy.wcs.wcs]\n",
      "WARNING: FITSFixedWarning: CROTA = 7.07188356762999E-08 \n",
      "keyword looks very much like CROTAn but isn't. [astropy.wcs.wcs]\n"
     ]
    },
    {
     "name": "stdout",
     "output_type": "stream",
     "text": [
      "0 6 EIT (after masking) 27.24808418882617 2323.804143046438\n",
      "EUVI (after masking) 1.1054965e-08 21.467731\n",
      "INFO: Obtained JPL HORIZONS location for SOHO (spacecraft) (-21) [sunpy.coordinates.ephemeris]\n"
     ]
    },
    {
     "name": "stderr",
     "output_type": "stream",
     "text": [
      "WARNING: VerifyWarning: Card is too long, comment will be truncated. [astropy.io.fits.card]\n",
      "WARNING: FITSFixedWarning: CROTA = 2.52335521367E-08 \n",
      "keyword looks very much like CROTAn but isn't. [astropy.wcs.wcs]\n",
      "WARNING: VerifyWarning: Card is too long, comment will be truncated. [astropy.io.fits.card]\n",
      "WARNING: FITSFixedWarning: CROTA = 2.52335521367E-08 \n",
      "keyword looks very much like CROTAn but isn't. [astropy.wcs.wcs]\n"
     ]
    },
    {
     "name": "stdout",
     "output_type": "stream",
     "text": [
      "0 7 EIT (after masking) 27.922807449745946 676.4758795931839\n",
      "EUVI (after masking) 1.7635614e-08 17.541695\n",
      "INFO: Obtained JPL HORIZONS location for SOHO (spacecraft) (-21) [sunpy.coordinates.ephemeris]\n"
     ]
    },
    {
     "name": "stderr",
     "output_type": "stream",
     "text": [
      "WARNING: FITSFixedWarning: CROTA = 2.21986960369E-07 \n",
      "keyword looks very much like CROTAn but isn't. [astropy.wcs.wcs]\n",
      "WARNING: FITSFixedWarning: CROTA = 2.21986960369E-07 \n",
      "keyword looks very much like CROTAn but isn't. [astropy.wcs.wcs]\n"
     ]
    },
    {
     "name": "stdout",
     "output_type": "stream",
     "text": [
      "0 8 EIT (after masking) 27.40892958874603 2303.918454575812\n",
      "EUVI (after masking) 1.5663773e-09 18.855507\n",
      "INFO: Obtained JPL HORIZONS location for SOHO (spacecraft) (-21) [sunpy.coordinates.ephemeris]\n"
     ]
    },
    {
     "name": "stderr",
     "output_type": "stream",
     "text": [
      "WARNING: VerifyWarning: Card is too long, comment will be truncated. [astropy.io.fits.card]\n",
      "WARNING: FITSFixedWarning: CROTA = -1.40143308514E-07 \n",
      "keyword looks very much like CROTAn but isn't. [astropy.wcs.wcs]\n",
      "WARNING: VerifyWarning: Card is too long, comment will be truncated. [astropy.io.fits.card]\n",
      "WARNING: FITSFixedWarning: CROTA = -1.40143308514E-07 \n",
      "keyword looks very much like CROTAn but isn't. [astropy.wcs.wcs]\n"
     ]
    },
    {
     "name": "stdout",
     "output_type": "stream",
     "text": [
      "0 9 EIT (after masking) 19.9537519086501 8511.079127575358\n",
      "EUVI (after masking) 9.094947e-11 26.913906\n",
      "INFO: Obtained JPL HORIZONS location for SOHO (spacecraft) (-21) [sunpy.coordinates.ephemeris]\n"
     ]
    },
    {
     "name": "stderr",
     "output_type": "stream",
     "text": [
      "WARNING: VerifyWarning: Card is too long, comment will be truncated. [astropy.io.fits.card]\n",
      "WARNING: FITSFixedWarning: CROTA = 1.25224275394E-10 \n",
      "keyword looks very much like CROTAn but isn't. [astropy.wcs.wcs]\n",
      "WARNING: VerifyWarning: Card is too long, comment will be truncated. [astropy.io.fits.card]\n",
      "WARNING: FITSFixedWarning: CROTA = 1.25224275394E-10 \n",
      "keyword looks very much like CROTAn but isn't. [astropy.wcs.wcs]\n"
     ]
    },
    {
     "name": "stdout",
     "output_type": "stream",
     "text": [
      "0 10 EIT (after masking) 21.236018612407648 2242.0423927687093\n",
      "EUVI (after masking) 4.604317e-12 17.692966\n",
      "INFO: Obtained JPL HORIZONS location for SOHO (spacecraft) (-21) [sunpy.coordinates.ephemeris]\n"
     ]
    },
    {
     "name": "stderr",
     "output_type": "stream",
     "text": [
      "WARNING: FITSFixedWarning: CROTA = -9.2167615761699E-09 \n",
      "keyword looks very much like CROTAn but isn't. [astropy.wcs.wcs]\n",
      "WARNING: FITSFixedWarning: CROTA = -9.2167615761699E-09 \n",
      "keyword looks very much like CROTAn but isn't. [astropy.wcs.wcs]\n"
     ]
    },
    {
     "name": "stdout",
     "output_type": "stream",
     "text": [
      "0 11 EIT (after masking) 26.413727557643185 1493.9181650441114\n",
      "EUVI (after masking) 1.4210855e-12 23.986483\n",
      "INFO: Obtained JPL HORIZONS location for SOHO (spacecraft) (-21) [sunpy.coordinates.ephemeris]\n"
     ]
    },
    {
     "name": "stderr",
     "output_type": "stream",
     "text": [
      "WARNING: FITSFixedWarning: CROTA = 3.21418427873E-07 \n",
      "keyword looks very much like CROTAn but isn't. [astropy.wcs.wcs]\n",
      "WARNING: FITSFixedWarning: CROTA = 3.21418427873E-07 \n",
      "keyword looks very much like CROTAn but isn't. [astropy.wcs.wcs]\n"
     ]
    },
    {
     "name": "stdout",
     "output_type": "stream",
     "text": [
      "INFO: Obtained JPL HORIZONS location for SOHO (spacecraft) (-21) [sunpy.coordinates.ephemeris]\n"
     ]
    },
    {
     "name": "stderr",
     "output_type": "stream",
     "text": [
      "WARNING: FITSFixedWarning: CROTA = 1.63541804987E-07 \n",
      "keyword looks very much like CROTAn but isn't. [astropy.wcs.wcs]\n",
      "WARNING: FITSFixedWarning: CROTA = 1.63541804987E-07 \n",
      "keyword looks very much like CROTAn but isn't. [astropy.wcs.wcs]\n"
     ]
    },
    {
     "name": "stdout",
     "output_type": "stream",
     "text": [
      "0 12 EIT (after masking) 21.00282124609114 1797.9443624612732\n",
      "EUVI (after masking) 1.945466e-09 24.962997\n",
      "INFO: Obtained JPL HORIZONS location for SOHO (spacecraft) (-21) [sunpy.coordinates.ephemeris]\n"
     ]
    },
    {
     "name": "stderr",
     "output_type": "stream",
     "text": [
      "WARNING: VerifyWarning: Card is too long, comment will be truncated. [astropy.io.fits.card]\n",
      "WARNING: FITSFixedWarning: CROTA = 3.14548366909E-07 \n",
      "keyword looks very much like CROTAn but isn't. [astropy.wcs.wcs]\n",
      "WARNING: VerifyWarning: Card is too long, comment will be truncated. [astropy.io.fits.card]\n",
      "WARNING: FITSFixedWarning: CROTA = 3.14548366909E-07 \n",
      "keyword looks very much like CROTAn but isn't. [astropy.wcs.wcs]\n"
     ]
    },
    {
     "name": "stdout",
     "output_type": "stream",
     "text": [
      "0 13 EIT (after masking) 21.09780256996941 1819.1760288034027\n",
      "EUVI (after masking) 4.9133178e-09 76.85347\n",
      "INFO: Obtained JPL HORIZONS location for SOHO (spacecraft) (-21) [sunpy.coordinates.ephemeris]\n"
     ]
    },
    {
     "name": "stderr",
     "output_type": "stream",
     "text": [
      "WARNING: FITSFixedWarning: CROTA = -1.33133166713E-07 \n",
      "keyword looks very much like CROTAn but isn't. [astropy.wcs.wcs]\n",
      "WARNING: FITSFixedWarning: CROTA = -1.33133166713E-07 \n",
      "keyword looks very much like CROTAn but isn't. [astropy.wcs.wcs]\n"
     ]
    },
    {
     "name": "stdout",
     "output_type": "stream",
     "text": [
      "0 14 EIT (after masking) 20.72849243593277 6442.983011369615\n",
      "EUVI (after masking) 1.4551915e-11 15.472177\n",
      "INFO: Obtained JPL HORIZONS location for SOHO (spacecraft) (-21) [sunpy.coordinates.ephemeris]\n"
     ]
    },
    {
     "name": "stderr",
     "output_type": "stream",
     "text": [
      "WARNING: FITSFixedWarning: CROTA = 2.70840558869E-08 \n",
      "keyword looks very much like CROTAn but isn't. [astropy.wcs.wcs]\n",
      "WARNING: FITSFixedWarning: CROTA = 2.70840558869E-08 \n",
      "keyword looks very much like CROTAn but isn't. [astropy.wcs.wcs]\n"
     ]
    },
    {
     "name": "stdout",
     "output_type": "stream",
     "text": [
      "0 15 EIT (after masking) 23.518279526954483 1294.3831093262831\n",
      "EUVI (after masking) 1.145969e-08 25.941164\n",
      "INFO: Obtained JPL HORIZONS location for SOHO (spacecraft) (-21) [sunpy.coordinates.ephemeris]\n"
     ]
    },
    {
     "name": "stderr",
     "output_type": "stream",
     "text": [
      "WARNING: FITSFixedWarning: CROTA = 4.63950442509E-08 \n",
      "keyword looks very much like CROTAn but isn't. [astropy.wcs.wcs]\n",
      "WARNING: FITSFixedWarning: CROTA = 4.63950442509E-08 \n",
      "keyword looks very much like CROTAn but isn't. [astropy.wcs.wcs]\n"
     ]
    },
    {
     "name": "stdout",
     "output_type": "stream",
     "text": [
      "0 16 EIT (after masking) 26.448841982939307 2197.3523187968085\n",
      "EUVI (after masking) 2.2851196e-07 17.694748\n",
      "INFO: Obtained JPL HORIZONS location for SOHO (spacecraft) (-21) [sunpy.coordinates.ephemeris]\n"
     ]
    },
    {
     "name": "stderr",
     "output_type": "stream",
     "text": [
      "WARNING: FITSFixedWarning: CROTA = -2.15245176349E-07 \n",
      "keyword looks very much like CROTAn but isn't. [astropy.wcs.wcs]\n",
      "WARNING: FITSFixedWarning: CROTA = -2.15245176349E-07 \n",
      "keyword looks very much like CROTAn but isn't. [astropy.wcs.wcs]\n"
     ]
    },
    {
     "name": "stdout",
     "output_type": "stream",
     "text": [
      "0 17 EIT (after masking) 27.866360281271362 1739.9734163522414\n",
      "EUVI (after masking) 5.4274665e-09 14.176671\n",
      "INFO: Obtained JPL HORIZONS location for SOHO (spacecraft) (-21) [sunpy.coordinates.ephemeris]\n"
     ]
    },
    {
     "name": "stderr",
     "output_type": "stream",
     "text": [
      "WARNING: FITSFixedWarning: CROTA = 1.60587555698E-07 \n",
      "keyword looks very much like CROTAn but isn't. [astropy.wcs.wcs]\n",
      "WARNING: FITSFixedWarning: CROTA = 1.60587555698E-07 \n",
      "keyword looks very much like CROTAn but isn't. [astropy.wcs.wcs]\n"
     ]
    },
    {
     "name": "stdout",
     "output_type": "stream",
     "text": [
      "INFO: Obtained JPL HORIZONS location for SOHO (spacecraft) (-21) [sunpy.coordinates.ephemeris]\n"
     ]
    },
    {
     "name": "stderr",
     "output_type": "stream",
     "text": [
      "WARNING: FITSFixedWarning: CROTA = 1.12212837244E-07 \n",
      "keyword looks very much like CROTAn but isn't. [astropy.wcs.wcs]\n",
      "WARNING: FITSFixedWarning: CROTA = 1.12212837244E-07 \n",
      "keyword looks very much like CROTAn but isn't. [astropy.wcs.wcs]\n"
     ]
    },
    {
     "name": "stdout",
     "output_type": "stream",
     "text": [
      "0 18 EIT (after masking) 22.225814297997413 4046.4311053325787\n",
      "EUVI (after masking) 6.963319e-11 23.425486\n",
      "INFO: Obtained JPL HORIZONS location for SOHO (spacecraft) (-21) [sunpy.coordinates.ephemeris]\n"
     ]
    },
    {
     "name": "stderr",
     "output_type": "stream",
     "text": [
      "WARNING: FITSFixedWarning: CROTA = 3.49937714361E-08 \n",
      "keyword looks very much like CROTAn but isn't. [astropy.wcs.wcs]\n",
      "WARNING: FITSFixedWarning: CROTA = 3.49937714361E-08 \n",
      "keyword looks very much like CROTAn but isn't. [astropy.wcs.wcs]\n"
     ]
    },
    {
     "name": "stdout",
     "output_type": "stream",
     "text": [
      "0 19 EIT (after masking) 27.60351470060816 1879.7852143763987\n",
      "EUVI (after masking) 3.0358484e-07 20.433762\n",
      "INFO: Obtained JPL HORIZONS location for SOHO (spacecraft) (-21) [sunpy.coordinates.ephemeris]\n"
     ]
    },
    {
     "name": "stderr",
     "output_type": "stream",
     "text": [
      "WARNING: FITSFixedWarning: CROTA = 2.03938652632E-08 \n",
      "keyword looks very much like CROTAn but isn't. [astropy.wcs.wcs]\n",
      "WARNING: FITSFixedWarning: CROTA = 2.03938652632E-08 \n",
      "keyword looks very much like CROTAn but isn't. [astropy.wcs.wcs]\n"
     ]
    },
    {
     "name": "stdout",
     "output_type": "stream",
     "text": [
      "0 20 EIT (after masking) 28.707306260580502 982.9918770903074\n",
      "EUVI (after masking) 5.6045337e-09 20.59175\n",
      "INFO: Obtained JPL HORIZONS location for SOHO (spacecraft) (-21) [sunpy.coordinates.ephemeris]\n"
     ]
    },
    {
     "name": "stderr",
     "output_type": "stream",
     "text": [
      "WARNING: FITSFixedWarning: CROTA = 1.48974343972E-08 \n",
      "keyword looks very much like CROTAn but isn't. [astropy.wcs.wcs]\n",
      "WARNING: FITSFixedWarning: CROTA = 1.48974343972E-08 \n",
      "keyword looks very much like CROTAn but isn't. [astropy.wcs.wcs]\n"
     ]
    },
    {
     "name": "stdout",
     "output_type": "stream",
     "text": [
      "0 21 EIT (after masking) 22.66833860572316 773.5586321463323\n",
      "EUVI (after masking) 7.163692e-09 20.403652\n",
      "INFO: Obtained JPL HORIZONS location for SOHO (spacecraft) (-21) [sunpy.coordinates.ephemeris]\n"
     ]
    },
    {
     "name": "stderr",
     "output_type": "stream",
     "text": [
      "WARNING: VerifyWarning: Card is too long, comment will be truncated. [astropy.io.fits.card]\n",
      "WARNING: FITSFixedWarning: CROTA = 9.49016785157E-08 \n",
      "keyword looks very much like CROTAn but isn't. [astropy.wcs.wcs]\n",
      "WARNING: VerifyWarning: Card is too long, comment will be truncated. [astropy.io.fits.card]\n",
      "WARNING: FITSFixedWarning: CROTA = 9.49016785157E-08 \n",
      "keyword looks very much like CROTAn but isn't. [astropy.wcs.wcs]\n"
     ]
    },
    {
     "name": "stdout",
     "output_type": "stream",
     "text": [
      "0 22 EIT (after masking) 27.373068222727042 11967.366072150044\n",
      "EUVI (after masking) 3.961759e-09 14.163458\n",
      "INFO: Obtained JPL HORIZONS location for SOHO (spacecraft) (-21) [sunpy.coordinates.ephemeris]\n"
     ]
    },
    {
     "name": "stderr",
     "output_type": "stream",
     "text": [
      "WARNING: FITSFixedWarning: CROTA = -1.63910285345E-07 \n",
      "keyword looks very much like CROTAn but isn't. [astropy.wcs.wcs]\n",
      "WARNING: FITSFixedWarning: CROTA = -1.63910285345E-07 \n",
      "keyword looks very much like CROTAn but isn't. [astropy.wcs.wcs]\n"
     ]
    },
    {
     "name": "stdout",
     "output_type": "stream",
     "text": [
      "0 23 EIT (after masking) 26.07872378315395 2185.2400465148016\n",
      "EUVI (after masking) 1.519362e-08 17.255627\n",
      "INFO: Obtained JPL HORIZONS location for SOHO (spacecraft) (-21) [sunpy.coordinates.ephemeris]\n"
     ]
    },
    {
     "name": "stderr",
     "output_type": "stream",
     "text": [
      "WARNING: FITSFixedWarning: CROTA = -1.51042612195E-07 \n",
      "keyword looks very much like CROTAn but isn't. [astropy.wcs.wcs]\n",
      "WARNING: FITSFixedWarning: CROTA = -1.51042612195E-07 \n",
      "keyword looks very much like CROTAn but isn't. [astropy.wcs.wcs]\n"
     ]
    },
    {
     "name": "stdout",
     "output_type": "stream",
     "text": [
      "0 24 EIT (after masking) 29.118616219719407 5764.350885097625\n",
      "EUVI (after masking) 5.6761564e-09 18.167303\n",
      "INFO: Obtained JPL HORIZONS location for SOHO (spacecraft) (-21) [sunpy.coordinates.ephemeris]\n"
     ]
    },
    {
     "name": "stderr",
     "output_type": "stream",
     "text": [
      "WARNING: FITSFixedWarning: CROTA = -5.2023665197999E-07 \n",
      "keyword looks very much like CROTAn but isn't. [astropy.wcs.wcs]\n",
      "WARNING: FITSFixedWarning: CROTA = -5.2023665197999E-07 \n",
      "keyword looks very much like CROTAn but isn't. [astropy.wcs.wcs]\n"
     ]
    },
    {
     "name": "stdout",
     "output_type": "stream",
     "text": [
      "0 25 EIT (after masking) 22.63553272060957 1003.5868007925892\n",
      "EUVI (after masking) 4.9587698e-08 14.68654\n",
      "INFO: Obtained JPL HORIZONS location for SOHO (spacecraft) (-21) [sunpy.coordinates.ephemeris]\n"
     ]
    },
    {
     "name": "stderr",
     "output_type": "stream",
     "text": [
      "WARNING: FITSFixedWarning: CROTA = -4.45133606419E-07 \n",
      "keyword looks very much like CROTAn but isn't. [astropy.wcs.wcs]\n",
      "WARNING: FITSFixedWarning: CROTA = -4.45133606419E-07 \n",
      "keyword looks very much like CROTAn but isn't. [astropy.wcs.wcs]\n"
     ]
    },
    {
     "name": "stdout",
     "output_type": "stream",
     "text": [
      "0 26 EIT (after masking) 24.684658587910604 4617.617543246276\n",
      "EUVI (after masking) 6.227822e-09 17.5651\n",
      "INFO: Obtained JPL HORIZONS location for SOHO (spacecraft) (-21) [sunpy.coordinates.ephemeris]\n"
     ]
    },
    {
     "name": "stderr",
     "output_type": "stream",
     "text": [
      "WARNING: VerifyWarning: Card is too long, comment will be truncated. [astropy.io.fits.card]\n",
      "WARNING: FITSFixedWarning: CROTA = -4.90437676248E-07 \n",
      "keyword looks very much like CROTAn but isn't. [astropy.wcs.wcs]\n",
      "WARNING: VerifyWarning: Card is too long, comment will be truncated. [astropy.io.fits.card]\n",
      "WARNING: FITSFixedWarning: CROTA = -4.90437676248E-07 \n",
      "keyword looks very much like CROTAn but isn't. [astropy.wcs.wcs]\n"
     ]
    },
    {
     "name": "stdout",
     "output_type": "stream",
     "text": [
      "0 27 EIT (after masking) 20.843123661737295 1385.6615122227174\n",
      "EUVI (after masking) 5.9139893e-10 17.531132\n",
      "INFO: Obtained JPL HORIZONS location for SOHO (spacecraft) (-21) [sunpy.coordinates.ephemeris]\n"
     ]
    },
    {
     "name": "stderr",
     "output_type": "stream",
     "text": [
      "WARNING: VerifyWarning: Card is too long, comment will be truncated. [astropy.io.fits.card]\n",
      "WARNING: FITSFixedWarning: CROTA = -3.16039588277E-07 \n",
      "keyword looks very much like CROTAn but isn't. [astropy.wcs.wcs]\n",
      "WARNING: VerifyWarning: Card is too long, comment will be truncated. [astropy.io.fits.card]\n",
      "WARNING: FITSFixedWarning: CROTA = -3.16039588277E-07 \n",
      "keyword looks very much like CROTAn but isn't. [astropy.wcs.wcs]\n"
     ]
    },
    {
     "name": "stdout",
     "output_type": "stream",
     "text": [
      "0 28 EIT (after masking) 17.256208387433112 1160.703493906526\n",
      "EUVI (after masking) 1.0359713e-09 14.092047\n",
      "INFO: Obtained JPL HORIZONS location for SOHO (spacecraft) (-21) [sunpy.coordinates.ephemeris]\n"
     ]
    },
    {
     "name": "stderr",
     "output_type": "stream",
     "text": [
      "WARNING: FITSFixedWarning: CROTA = -3.78140269319E-07 \n",
      "keyword looks very much like CROTAn but isn't. [astropy.wcs.wcs]\n",
      "WARNING: FITSFixedWarning: CROTA = -3.78140269319E-07 \n",
      "keyword looks very much like CROTAn but isn't. [astropy.wcs.wcs]\n"
     ]
    },
    {
     "name": "stdout",
     "output_type": "stream",
     "text": [
      "INFO: Obtained JPL HORIZONS location for SOHO (spacecraft) (-21) [sunpy.coordinates.ephemeris]\n"
     ]
    },
    {
     "name": "stderr",
     "output_type": "stream",
     "text": [
      "WARNING: FITSFixedWarning: CROTA = -3.34591280904E-07 \n",
      "keyword looks very much like CROTAn but isn't. [astropy.wcs.wcs]\n",
      "WARNING: FITSFixedWarning: CROTA = -3.34591280904E-07 \n",
      "keyword looks very much like CROTAn but isn't. [astropy.wcs.wcs]\n"
     ]
    },
    {
     "name": "stdout",
     "output_type": "stream",
     "text": [
      "0 29 EIT (after masking) 19.503579536122473 1811.3594346658128\n",
      "EUVI (after masking) 1.5288606e-09 20.01391\n",
      "INFO: Obtained JPL HORIZONS location for SOHO (spacecraft) (-21) [sunpy.coordinates.ephemeris]\n"
     ]
    },
    {
     "name": "stderr",
     "output_type": "stream",
     "text": [
      "WARNING: FITSFixedWarning: CROTA = -2.53116026805E-07 \n",
      "keyword looks very much like CROTAn but isn't. [astropy.wcs.wcs]\n",
      "WARNING: FITSFixedWarning: CROTA = -2.53116026805E-07 \n",
      "keyword looks very much like CROTAn but isn't. [astropy.wcs.wcs]\n"
     ]
    },
    {
     "name": "stdout",
     "output_type": "stream",
     "text": [
      "0 30 EIT (after masking) 23.341736421432326 1216.5221247614243\n",
      "EUVI (after masking) 2.5211398e-07 19.80743\n",
      "INFO: Obtained JPL HORIZONS location for SOHO (spacecraft) (-21) [sunpy.coordinates.ephemeris]\n"
     ]
    },
    {
     "name": "stderr",
     "output_type": "stream",
     "text": [
      "WARNING: VerifyWarning: Card is too long, comment will be truncated. [astropy.io.fits.card]\n",
      "WARNING: FITSFixedWarning: CROTA = -2.54039384195E-07 \n",
      "keyword looks very much like CROTAn but isn't. [astropy.wcs.wcs]\n",
      "WARNING: VerifyWarning: Card is too long, comment will be truncated. [astropy.io.fits.card]\n",
      "WARNING: FITSFixedWarning: CROTA = -2.54039384195E-07 \n",
      "keyword looks very much like CROTAn but isn't. [astropy.wcs.wcs]\n"
     ]
    },
    {
     "name": "stdout",
     "output_type": "stream",
     "text": [
      "0 31 EIT (after masking) 20.265543044080786 1500.8495194188854\n",
      "EUVI (after masking) 3.541354e-07 18.057287\n",
      "INFO: Obtained JPL HORIZONS location for SOHO (spacecraft) (-21) [sunpy.coordinates.ephemeris]\n"
     ]
    },
    {
     "name": "stderr",
     "output_type": "stream",
     "text": [
      "WARNING: FITSFixedWarning: CROTA = -1.27460395127E-07 \n",
      "keyword looks very much like CROTAn but isn't. [astropy.wcs.wcs]\n",
      "WARNING: FITSFixedWarning: CROTA = -1.27460395127E-07 \n",
      "keyword looks very much like CROTAn but isn't. [astropy.wcs.wcs]\n"
     ]
    },
    {
     "name": "stdout",
     "output_type": "stream",
     "text": [
      "0 32 EIT (after masking) 19.325881635617126 3531.636939110962\n",
      "EUVI (after masking) 8.599841e-10 18.164906\n",
      "INFO: Obtained JPL HORIZONS location for SOHO (spacecraft) (-21) [sunpy.coordinates.ephemeris]\n"
     ]
    },
    {
     "name": "stderr",
     "output_type": "stream",
     "text": [
      "WARNING: FITSFixedWarning: CROTA = -1.84912600343E-07 \n",
      "keyword looks very much like CROTAn but isn't. [astropy.wcs.wcs]\n",
      "WARNING: FITSFixedWarning: CROTA = -1.84912600343E-07 \n",
      "keyword looks very much like CROTAn but isn't. [astropy.wcs.wcs]\n"
     ]
    },
    {
     "name": "stdout",
     "output_type": "stream",
     "text": [
      "0 33 EIT (after masking) 16.605865024021867 1240.0044706024505\n",
      "EUVI (after masking) 7.1304385e-10 32.033455\n",
      "INFO: Obtained JPL HORIZONS location for SOHO (spacecraft) (-21) [sunpy.coordinates.ephemeris]\n"
     ]
    },
    {
     "name": "stderr",
     "output_type": "stream",
     "text": [
      "WARNING: FITSFixedWarning: CROTA = -2.11980645926E-07 \n",
      "keyword looks very much like CROTAn but isn't. [astropy.wcs.wcs]\n",
      "WARNING: FITSFixedWarning: CROTA = -2.11980645926E-07 \n",
      "keyword looks very much like CROTAn but isn't. [astropy.wcs.wcs]\n"
     ]
    },
    {
     "name": "stdout",
     "output_type": "stream",
     "text": [
      "0 34 EIT (after masking) 20.07099333463378 988.7962344582742\n",
      "EUVI (after masking) 6.148184e-10 16.130537\n",
      "INFO: Obtained JPL HORIZONS location for SOHO (spacecraft) (-21) [sunpy.coordinates.ephemeris]\n"
     ]
    },
    {
     "name": "stderr",
     "output_type": "stream",
     "text": [
      "WARNING: FITSFixedWarning: CROTA = -8.3519677840400E-09 \n",
      "keyword looks very much like CROTAn but isn't. [astropy.wcs.wcs]\n",
      "WARNING: FITSFixedWarning: CROTA = -8.3519677840400E-09 \n",
      "keyword looks very much like CROTAn but isn't. [astropy.wcs.wcs]\n"
     ]
    },
    {
     "name": "stdout",
     "output_type": "stream",
     "text": [
      "0 35 EIT (after masking) 19.444332638052312 1244.7101377865195\n",
      "EUVI (after masking) 9.369842e-09 21.348198\n",
      "INFO: Obtained JPL HORIZONS location for SOHO (spacecraft) (-21) [sunpy.coordinates.ephemeris]\n"
     ]
    },
    {
     "name": "stderr",
     "output_type": "stream",
     "text": [
      "WARNING: VerifyWarning: Card is too long, comment will be truncated. [astropy.io.fits.card]\n",
      "WARNING: FITSFixedWarning: CROTA = -3.37673045081E-09 \n",
      "keyword looks very much like CROTAn but isn't. [astropy.wcs.wcs]\n",
      "WARNING: VerifyWarning: Card is too long, comment will be truncated. [astropy.io.fits.card]\n",
      "WARNING: FITSFixedWarning: CROTA = -3.37673045081E-09 \n",
      "keyword looks very much like CROTAn but isn't. [astropy.wcs.wcs]\n"
     ]
    },
    {
     "name": "stdout",
     "output_type": "stream",
     "text": [
      "0 36 EIT (after masking) 20.425895268348597 1217.1859435112337\n",
      "EUVI (after masking) 3.4583536e-10 17.700686\n",
      "INFO: Obtained JPL HORIZONS location for SOHO (spacecraft) (-21) [sunpy.coordinates.ephemeris]\n"
     ]
    },
    {
     "name": "stderr",
     "output_type": "stream",
     "text": [
      "WARNING: FITSFixedWarning: CROTA = 2.32784683751E-08 \n",
      "keyword looks very much like CROTAn but isn't. [astropy.wcs.wcs]\n",
      "WARNING: FITSFixedWarning: CROTA = 2.32784683751E-08 \n",
      "keyword looks very much like CROTAn but isn't. [astropy.wcs.wcs]\n"
     ]
    },
    {
     "name": "stdout",
     "output_type": "stream",
     "text": [
      "0 37 EIT (after masking) 21.312144991093525 848.8257111500045\n",
      "EUVI (after masking) 1.6822014e-08 13.758061\n",
      "INFO: Obtained JPL HORIZONS location for SOHO (spacecraft) (-21) [sunpy.coordinates.ephemeris]\n"
     ]
    },
    {
     "name": "stderr",
     "output_type": "stream",
     "text": [
      "WARNING: VerifyWarning: Card is too long, comment will be truncated. [astropy.io.fits.card]\n",
      "WARNING: FITSFixedWarning: CROTA = 1.80729117893E-07 / updated 2009-04-13T17:01:15.579 \n",
      "keyword looks very much like CROTAn but isn't. [astropy.wcs.wcs]\n",
      "WARNING: VerifyWarning: Card is too long, comment will be truncated. [astropy.io.fits.card]\n",
      "WARNING: FITSFixedWarning: CROTA = 1.80729117893E-07 / updated 2009-04-13T17:01:15.579 \n",
      "keyword looks very much like CROTAn but isn't. [astropy.wcs.wcs]\n"
     ]
    },
    {
     "name": "stdout",
     "output_type": "stream",
     "text": [
      "0 38 EIT (after masking) 24.190001243037848 1177.554944849831\n",
      "EUVI (after masking) 1.8468427e-10 48.307415\n",
      "INFO: Obtained JPL HORIZONS location for SOHO (spacecraft) (-21) [sunpy.coordinates.ephemeris]\n"
     ]
    },
    {
     "name": "stderr",
     "output_type": "stream",
     "text": [
      "WARNING: FITSFixedWarning: CROTA = 3.66804866481E-07 / updated 2009-04-07T14:20:15.790 \n",
      "keyword looks very much like CROTAn but isn't. [astropy.wcs.wcs]\n",
      "WARNING: FITSFixedWarning: CROTA = 3.66804866481E-07 / updated 2009-04-07T14:20:15.790 \n",
      "keyword looks very much like CROTAn but isn't. [astropy.wcs.wcs]\n"
     ]
    },
    {
     "name": "stdout",
     "output_type": "stream",
     "text": [
      "0 39 EIT (after masking) 22.165210963631292 1793.6894790199483\n",
      "EUVI (after masking) 1.07625965e-07 14.521696\n",
      "INFO: Obtained JPL HORIZONS location for SOHO (spacecraft) (-21) [sunpy.coordinates.ephemeris]\n"
     ]
    },
    {
     "name": "stderr",
     "output_type": "stream",
     "text": [
      "WARNING: FITSFixedWarning: CROTA = -4.15266896425E-06 / updated 2009-04-07T13:13:09.360 \n",
      "keyword looks very much like CROTAn but isn't. [astropy.wcs.wcs]\n",
      "WARNING: FITSFixedWarning: CROTA = -4.15266896425E-06 / updated 2009-04-07T13:13:09.360 \n",
      "keyword looks very much like CROTAn but isn't. [astropy.wcs.wcs]\n"
     ]
    },
    {
     "name": "stdout",
     "output_type": "stream",
     "text": [
      "0 40 EIT (after masking) 23.452486652237944 12842.813321518153\n",
      "EUVI (after masking) 1.945466e-09 14.397086\n",
      "INFO: Obtained JPL HORIZONS location for SOHO (spacecraft) (-21) [sunpy.coordinates.ephemeris]\n"
     ]
    },
    {
     "name": "stderr",
     "output_type": "stream",
     "text": [
      "WARNING: FITSFixedWarning: CROTA = 4.59341829462E-07 / updated 2009-04-07T13:04:26.742 \n",
      "keyword looks very much like CROTAn but isn't. [astropy.wcs.wcs]\n",
      "WARNING: FITSFixedWarning: CROTA = 4.59341829462E-07 / updated 2009-04-07T13:04:26.742 \n",
      "keyword looks very much like CROTAn but isn't. [astropy.wcs.wcs]\n"
     ]
    },
    {
     "name": "stdout",
     "output_type": "stream",
     "text": [
      "0 41 EIT (after masking) 24.425847109029938 795.3966662624327\n",
      "EUVI (after masking) 2.0520474e-11 21.023983\n",
      "INFO: Obtained JPL HORIZONS location for SOHO (spacecraft) (-21) [sunpy.coordinates.ephemeris]\n"
     ]
    },
    {
     "name": "stderr",
     "output_type": "stream",
     "text": [
      "WARNING: FITSFixedWarning: CROTA = 5.32248939145E-07 / updated 2009-04-07T12:26:18.817 \n",
      "keyword looks very much like CROTAn but isn't. [astropy.wcs.wcs]\n",
      "WARNING: FITSFixedWarning: CROTA = 5.32248939145E-07 / updated 2009-04-07T12:26:18.817 \n",
      "keyword looks very much like CROTAn but isn't. [astropy.wcs.wcs]\n"
     ]
    },
    {
     "name": "stdout",
     "output_type": "stream",
     "text": [
      "0 42 EIT (after masking) 22.984297365830876 771.4808582494563\n",
      "EUVI (after masking) 2.2127603e-07 16.565052\n",
      "INFO: Obtained JPL HORIZONS location for SOHO (spacecraft) (-21) [sunpy.coordinates.ephemeris]\n"
     ]
    },
    {
     "name": "stderr",
     "output_type": "stream",
     "text": [
      "WARNING: FITSFixedWarning: CROTA = 2.44060447407E-07 / updated 2009-04-07T11:59:48.628 \n",
      "keyword looks very much like CROTAn but isn't. [astropy.wcs.wcs]\n",
      "WARNING: FITSFixedWarning: CROTA = 2.44060447407E-07 / updated 2009-04-07T11:59:48.628 \n",
      "keyword looks very much like CROTAn but isn't. [astropy.wcs.wcs]\n"
     ]
    },
    {
     "name": "stdout",
     "output_type": "stream",
     "text": [
      "0 43 EIT (after masking) 25.344862770409485 6937.291129629037\n",
      "EUVI (after masking) 1.0982717e-09 14.387612\n",
      "INFO: Obtained JPL HORIZONS location for SOHO (spacecraft) (-21) [sunpy.coordinates.ephemeris]\n"
     ]
    },
    {
     "name": "stderr",
     "output_type": "stream",
     "text": [
      "WARNING: VerifyWarning: Card is too long, comment will be truncated. [astropy.io.fits.card]\n",
      "WARNING: FITSFixedWarning: CROTA = 2.0488641006E-07 / updated 2009-04-07T12:01:06.968 \n",
      "keyword looks very much like CROTAn but isn't. [astropy.wcs.wcs]\n",
      "WARNING: VerifyWarning: Card is too long, comment will be truncated. [astropy.io.fits.card]\n",
      "WARNING: FITSFixedWarning: CROTA = 2.0488641006E-07 / updated 2009-04-07T12:01:06.968 \n",
      "keyword looks very much like CROTAn but isn't. [astropy.wcs.wcs]\n"
     ]
    },
    {
     "name": "stdout",
     "output_type": "stream",
     "text": [
      "0 44 EIT (after masking) 24.15008003416392 1130.8411802132619\n",
      "EUVI (after masking) 1.4210855e-08 33.961006\n",
      "INFO: Obtained JPL HORIZONS location for SOHO (spacecraft) (-21) [sunpy.coordinates.ephemeris]\n"
     ]
    },
    {
     "name": "stderr",
     "output_type": "stream",
     "text": [
      "WARNING: FITSFixedWarning: CROTA = 2.75957991569E-07 / updated 2009-04-07T11:52:27.920 \n",
      "keyword looks very much like CROTAn but isn't. [astropy.wcs.wcs]\n",
      "WARNING: FITSFixedWarning: CROTA = 2.75957991569E-07 / updated 2009-04-07T11:52:27.920 \n",
      "keyword looks very much like CROTAn but isn't. [astropy.wcs.wcs]\n"
     ]
    },
    {
     "name": "stdout",
     "output_type": "stream",
     "text": [
      "0 45 EIT (after masking) 22.210504077129798 3965.982495688265\n",
      "EUVI (after masking) 9.602047e-09 23.902802\n",
      "INFO: Obtained JPL HORIZONS location for SOHO (spacecraft) (-21) [sunpy.coordinates.ephemeris]\n"
     ]
    },
    {
     "name": "stderr",
     "output_type": "stream",
     "text": [
      "WARNING: FITSFixedWarning: CROTA = 6.66118293857E-07 / updated 2009-04-07T11:44:00.629 \n",
      "keyword looks very much like CROTAn but isn't. [astropy.wcs.wcs]\n",
      "WARNING: FITSFixedWarning: CROTA = 6.66118293857E-07 / updated 2009-04-07T11:44:00.629 \n",
      "keyword looks very much like CROTAn but isn't. [astropy.wcs.wcs]\n"
     ]
    },
    {
     "name": "stdout",
     "output_type": "stream",
     "text": [
      "0 46 EIT (after masking) 21.998602743815287 7228.403797703604\n",
      "EUVI (after masking) 3.379006e-08 18.720293\n",
      "INFO: Obtained JPL HORIZONS location for SOHO (spacecraft) (-21) [sunpy.coordinates.ephemeris]\n"
     ]
    },
    {
     "name": "stderr",
     "output_type": "stream",
     "text": [
      "WARNING: FITSFixedWarning: CROTA = 2.1224912139E-07 / updated 2009-04-07T11:11:14.071 \n",
      "keyword looks very much like CROTAn but isn't. [astropy.wcs.wcs]\n",
      "WARNING: FITSFixedWarning: CROTA = 2.1224912139E-07 / updated 2009-04-07T11:11:14.071 \n",
      "keyword looks very much like CROTAn but isn't. [astropy.wcs.wcs]\n"
     ]
    },
    {
     "name": "stdout",
     "output_type": "stream",
     "text": [
      "0 47 EIT (after masking) 25.150963984992767 1260.1033677884154\n",
      "EUVI (after masking) 3.5527137e-11 18.51198\n",
      "INFO: Obtained JPL HORIZONS location for SOHO (spacecraft) (-21) [sunpy.coordinates.ephemeris]\n"
     ]
    },
    {
     "name": "stderr",
     "output_type": "stream",
     "text": [
      "WARNING: FITSFixedWarning: CROTA = 4.21663870043E-07 / updated 2009-02-02T20:48:39.712 \n",
      "keyword looks very much like CROTAn but isn't. [astropy.wcs.wcs]\n",
      "WARNING: FITSFixedWarning: CROTA = 4.21663870043E-07 / updated 2009-02-02T20:48:39.712 \n",
      "keyword looks very much like CROTAn but isn't. [astropy.wcs.wcs]\n"
     ]
    },
    {
     "name": "stdout",
     "output_type": "stream",
     "text": [
      "0 48 EIT (after masking) 24.40352102155388 1477.7421315510308\n",
      "EUVI (after masking) 1.6209242e-08 21.258102\n",
      "INFO: Obtained JPL HORIZONS location for SOHO (spacecraft) (-21) [sunpy.coordinates.ephemeris]\n"
     ]
    },
    {
     "name": "stderr",
     "output_type": "stream",
     "text": [
      "WARNING: FITSFixedWarning: CROTA = 4.95402986189E-07 / updated 2009-02-02T20:39:58.878 \n",
      "keyword looks very much like CROTAn but isn't. [astropy.wcs.wcs]\n",
      "WARNING: FITSFixedWarning: CROTA = 4.95402986189E-07 / updated 2009-02-02T20:39:58.878 \n",
      "keyword looks very much like CROTAn but isn't. [astropy.wcs.wcs]\n"
     ]
    },
    {
     "name": "stdout",
     "output_type": "stream",
     "text": [
      "0 49 EIT (after masking) 19.887694637549355 1632.4362883600095\n",
      "EUVI (after masking) 8.782587e-08 22.244232\n",
      "INFO: Obtained JPL HORIZONS location for SOHO (spacecraft) (-21) [sunpy.coordinates.ephemeris]\n"
     ]
    },
    {
     "name": "stderr",
     "output_type": "stream",
     "text": [
      "WARNING: FITSFixedWarning: CROTA = 3.46278978824E-07 / updated 2009-02-02T20:33:23.591 \n",
      "keyword looks very much like CROTAn but isn't. [astropy.wcs.wcs]\n",
      "WARNING: FITSFixedWarning: CROTA = 3.46278978824E-07 / updated 2009-02-02T20:33:23.591 \n",
      "keyword looks very much like CROTAn but isn't. [astropy.wcs.wcs]\n"
     ]
    },
    {
     "name": "stdout",
     "output_type": "stream",
     "text": [
      "0 50 EIT (after masking) 23.515757612988917 1283.6365056795971\n",
      "EUVI (after masking) 1.5475621e-09 17.813627\n",
      "INFO: Obtained JPL HORIZONS location for SOHO (spacecraft) (-21) [sunpy.coordinates.ephemeris]\n"
     ]
    },
    {
     "name": "stderr",
     "output_type": "stream",
     "text": [
      "WARNING: FITSFixedWarning: CROTA = 4.78628706446E-07 / updated 2009-02-02T20:13:32.623 \n",
      "keyword looks very much like CROTAn but isn't. [astropy.wcs.wcs]\n",
      "WARNING: FITSFixedWarning: CROTA = 4.78628706446E-07 / updated 2009-02-02T20:13:32.623 \n",
      "keyword looks very much like CROTAn but isn't. [astropy.wcs.wcs]\n"
     ]
    },
    {
     "name": "stdout",
     "output_type": "stream",
     "text": [
      "0 51 EIT (after masking) 24.22969071235642 3653.390930771835\n",
      "EUVI (after masking) 8.645884e-11 35.805553\n",
      "INFO: Obtained JPL HORIZONS location for SOHO (spacecraft) (-21) [sunpy.coordinates.ephemeris]\n"
     ]
    },
    {
     "name": "stderr",
     "output_type": "stream",
     "text": [
      "WARNING: FITSFixedWarning: CROTA = 4.67607790711E-07 / updated 2009-02-02T19:37:22.126 \n",
      "keyword looks very much like CROTAn but isn't. [astropy.wcs.wcs]\n",
      "WARNING: FITSFixedWarning: CROTA = 4.67607790711E-07 / updated 2009-02-02T19:37:22.126 \n",
      "keyword looks very much like CROTAn but isn't. [astropy.wcs.wcs]\n"
     ]
    },
    {
     "name": "stdout",
     "output_type": "stream",
     "text": [
      "0 52 EIT (after masking) 22.329623726242865 1800.4274370413273\n",
      "EUVI (after masking) 1.4267755e-08 17.909847\n",
      "INFO: Obtained JPL HORIZONS location for SOHO (spacecraft) (-21) [sunpy.coordinates.ephemeris]\n"
     ]
    },
    {
     "name": "stderr",
     "output_type": "stream",
     "text": [
      "WARNING: FITSFixedWarning: CROTA = -7.91861598515E-08 \n",
      "keyword looks very much like CROTAn but isn't. [astropy.wcs.wcs]\n",
      "WARNING: FITSFixedWarning: CROTA = -7.91861598515E-08 \n",
      "keyword looks very much like CROTAn but isn't. [astropy.wcs.wcs]\n"
     ]
    },
    {
     "name": "stdout",
     "output_type": "stream",
     "text": [
      "0 53 EIT (after masking) 26.371090680647335 876.4884057657745\n",
      "EUVI (after masking) 1.0825261e-09 19.265757\n",
      "INFO: Obtained JPL HORIZONS location for SOHO (spacecraft) (-21) [sunpy.coordinates.ephemeris]\n"
     ]
    },
    {
     "name": "stderr",
     "output_type": "stream",
     "text": [
      "WARNING: FITSFixedWarning: CROTA = 1.52336397718E-07 \n",
      "keyword looks very much like CROTAn but isn't. [astropy.wcs.wcs]\n",
      "WARNING: FITSFixedWarning: CROTA = 1.52336397718E-07 \n",
      "keyword looks very much like CROTAn but isn't. [astropy.wcs.wcs]\n"
     ]
    },
    {
     "name": "stdout",
     "output_type": "stream",
     "text": [
      "0 54 EIT (after masking) 22.996257152088823 1507.2134861434197\n",
      "EUVI (after masking) 1.7195134e-10 20.903406\n",
      "INFO: Obtained JPL HORIZONS location for SOHO (spacecraft) (-21) [sunpy.coordinates.ephemeris]\n"
     ]
    },
    {
     "name": "stderr",
     "output_type": "stream",
     "text": [
      "WARNING: FITSFixedWarning: CROTA = -4.73158809911E-08 \n",
      "keyword looks very much like CROTAn but isn't. [astropy.wcs.wcs]\n",
      "WARNING: FITSFixedWarning: CROTA = -4.73158809911E-08 \n",
      "keyword looks very much like CROTAn but isn't. [astropy.wcs.wcs]\n"
     ]
    },
    {
     "name": "stdout",
     "output_type": "stream",
     "text": [
      "0 55 EIT (after masking) 21.325533853771674 2522.013537887017\n",
      "EUVI (after masking) 3.414158e-08 17.04641\n",
      "INFO: Obtained JPL HORIZONS location for SOHO (spacecraft) (-21) [sunpy.coordinates.ephemeris]\n"
     ]
    },
    {
     "name": "stderr",
     "output_type": "stream",
     "text": [
      "WARNING: FITSFixedWarning: CROTA = -2.26669982339E-07 \n",
      "keyword looks very much like CROTAn but isn't. [astropy.wcs.wcs]\n",
      "WARNING: FITSFixedWarning: CROTA = -2.26669982339E-07 \n",
      "keyword looks very much like CROTAn but isn't. [astropy.wcs.wcs]\n"
     ]
    },
    {
     "name": "stdout",
     "output_type": "stream",
     "text": [
      "0 56 EIT (after masking) 22.429778750932492 1232.1520885872837\n",
      "EUVI (after masking) 9.904397e-10 20.691942\n",
      "INFO: Obtained JPL HORIZONS location for SOHO (spacecraft) (-21) [sunpy.coordinates.ephemeris]\n"
     ]
    },
    {
     "name": "stderr",
     "output_type": "stream",
     "text": [
      "WARNING: FITSFixedWarning: CROTA = -2.53264202499E-07 \n",
      "keyword looks very much like CROTAn but isn't. [astropy.wcs.wcs]\n",
      "WARNING: FITSFixedWarning: CROTA = -2.53264202499E-07 \n",
      "keyword looks very much like CROTAn but isn't. [astropy.wcs.wcs]\n"
     ]
    },
    {
     "name": "stdout",
     "output_type": "stream",
     "text": [
      "0 57 EIT (after masking) 21.24063673880512 792.3973503778668\n",
      "EUVI (after masking) 1.9015494e-07 14.414227\n",
      "INFO: Obtained JPL HORIZONS location for SOHO (spacecraft) (-21) [sunpy.coordinates.ephemeris]\n"
     ]
    },
    {
     "name": "stderr",
     "output_type": "stream",
     "text": [
      "WARNING: VerifyWarning: Card is too long, comment will be truncated. [astropy.io.fits.card]\n",
      "WARNING: FITSFixedWarning: CROTA = -2.12117353016E-07 \n",
      "keyword looks very much like CROTAn but isn't. [astropy.wcs.wcs]\n",
      "WARNING: VerifyWarning: Card is too long, comment will be truncated. [astropy.io.fits.card]\n",
      "WARNING: FITSFixedWarning: CROTA = -2.12117353016E-07 \n",
      "keyword looks very much like CROTAn but isn't. [astropy.wcs.wcs]\n"
     ]
    },
    {
     "name": "stdout",
     "output_type": "stream",
     "text": [
      "0 58 EIT (after masking) 20.52547448913679 1738.1615864921375\n",
      "EUVI (after masking) 1.0715718e-07 14.86693\n",
      "INFO: Obtained JPL HORIZONS location for SOHO (spacecraft) (-21) [sunpy.coordinates.ephemeris]\n"
     ]
    },
    {
     "name": "stderr",
     "output_type": "stream",
     "text": [
      "WARNING: FITSFixedWarning: CROTA = -2.43846427495E-08 \n",
      "keyword looks very much like CROTAn but isn't. [astropy.wcs.wcs]\n",
      "WARNING: FITSFixedWarning: CROTA = -2.43846427495E-08 \n",
      "keyword looks very much like CROTAn but isn't. [astropy.wcs.wcs]\n"
     ]
    },
    {
     "name": "stdout",
     "output_type": "stream",
     "text": [
      "0 59 EIT (after masking) 19.098065883148625 1840.3682461643402\n",
      "EUVI (after masking) 5.3483973e-08 14.174124\n",
      "INFO: Obtained JPL HORIZONS location for SOHO (spacecraft) (-21) [sunpy.coordinates.ephemeris]\n"
     ]
    },
    {
     "name": "stderr",
     "output_type": "stream",
     "text": [
      "WARNING: VerifyWarning: Card is too long, comment will be truncated. [astropy.io.fits.card]\n",
      "WARNING: FITSFixedWarning: CROTA = -1.51822034056E-07 \n",
      "keyword looks very much like CROTAn but isn't. [astropy.wcs.wcs]\n",
      "WARNING: VerifyWarning: Card is too long, comment will be truncated. [astropy.io.fits.card]\n",
      "WARNING: FITSFixedWarning: CROTA = -1.51822034056E-07 \n",
      "keyword looks very much like CROTAn but isn't. [astropy.wcs.wcs]\n"
     ]
    },
    {
     "name": "stdout",
     "output_type": "stream",
     "text": [
      "INFO: Obtained JPL HORIZONS location for SOHO (spacecraft) (-21) [sunpy.coordinates.ephemeris]\n"
     ]
    },
    {
     "name": "stderr",
     "output_type": "stream",
     "text": [
      "WARNING: FITSFixedWarning: CROTA = -1.78633134951E-07 \n",
      "keyword looks very much like CROTAn but isn't. [astropy.wcs.wcs]\n",
      "WARNING: FITSFixedWarning: CROTA = -1.78633134951E-07 \n",
      "keyword looks very much like CROTAn but isn't. [astropy.wcs.wcs]\n"
     ]
    },
    {
     "name": "stdout",
     "output_type": "stream",
     "text": [
      "0 60 EIT (after masking) 20.612313064021055 1156.3225127677201\n",
      "EUVI (after masking) 8.599841e-10 18.33845\n",
      "INFO: Obtained JPL HORIZONS location for SOHO (spacecraft) (-21) [sunpy.coordinates.ephemeris]\n"
     ]
    },
    {
     "name": "stderr",
     "output_type": "stream",
     "text": [
      "WARNING: VerifyWarning: Card is too long, comment will be truncated. [astropy.io.fits.card]\n",
      "WARNING: FITSFixedWarning: CROTA = 9.19899179053E-09 \n",
      "keyword looks very much like CROTAn but isn't. [astropy.wcs.wcs]\n",
      "WARNING: VerifyWarning: Card is too long, comment will be truncated. [astropy.io.fits.card]\n",
      "WARNING: FITSFixedWarning: CROTA = 9.19899179053E-09 \n",
      "keyword looks very much like CROTAn but isn't. [astropy.wcs.wcs]\n"
     ]
    },
    {
     "name": "stdout",
     "output_type": "stream",
     "text": [
      "0 61 EIT (after masking) 25.903317904555486 2817.962522030218\n",
      "EUVI (after masking) 3.5243488e-09 16.494152\n",
      "INFO: Obtained JPL HORIZONS location for SOHO (spacecraft) (-21) [sunpy.coordinates.ephemeris]\n"
     ]
    },
    {
     "name": "stderr",
     "output_type": "stream",
     "text": [
      "WARNING: VerifyWarning: Card is too long, comment will be truncated. [astropy.io.fits.card]\n",
      "WARNING: FITSFixedWarning: CROTA = -4.62477629526E-08 \n",
      "keyword looks very much like CROTAn but isn't. [astropy.wcs.wcs]\n",
      "WARNING: VerifyWarning: Card is too long, comment will be truncated. [astropy.io.fits.card]\n",
      "WARNING: FITSFixedWarning: CROTA = -4.62477629526E-08 \n",
      "keyword looks very much like CROTAn but isn't. [astropy.wcs.wcs]\n"
     ]
    },
    {
     "name": "stdout",
     "output_type": "stream",
     "text": [
      "0 62 EIT (after masking) 24.000692503144034 1408.6827377495754\n",
      "EUVI (after masking) 7.7812956e-10 17.306911\n",
      "INFO: Obtained JPL HORIZONS location for SOHO (spacecraft) (-21) [sunpy.coordinates.ephemeris]\n"
     ]
    },
    {
     "name": "stderr",
     "output_type": "stream",
     "text": [
      "WARNING: VerifyWarning: Card is too long, comment will be truncated. [astropy.io.fits.card]\n",
      "WARNING: FITSFixedWarning: CROTA = -4.73605077378E-08 \n",
      "keyword looks very much like CROTAn but isn't. [astropy.wcs.wcs]\n",
      "WARNING: VerifyWarning: Card is too long, comment will be truncated. [astropy.io.fits.card]\n",
      "WARNING: FITSFixedWarning: CROTA = -4.73605077378E-08 \n",
      "keyword looks very much like CROTAn but isn't. [astropy.wcs.wcs]\n"
     ]
    },
    {
     "name": "stdout",
     "output_type": "stream",
     "text": [
      "0 63 EIT (after masking) 22.483587010970524 8766.20207085042\n",
      "EUVI (after masking) 2.5067948e-09 23.081173\n",
      "INFO: Obtained JPL HORIZONS location for SOHO (spacecraft) (-21) [sunpy.coordinates.ephemeris]\n"
     ]
    },
    {
     "name": "stderr",
     "output_type": "stream",
     "text": [
      "WARNING: FITSFixedWarning: CROTA = 5.26310339755E-09 \n",
      "keyword looks very much like CROTAn but isn't. [astropy.wcs.wcs]\n",
      "WARNING: FITSFixedWarning: CROTA = 5.26310339755E-09 \n",
      "keyword looks very much like CROTAn but isn't. [astropy.wcs.wcs]\n"
     ]
    },
    {
     "name": "stdout",
     "output_type": "stream",
     "text": [
      "0 64 EIT (after masking) 24.57658064563412 1091.4709817320206\n",
      "EUVI (after masking) 1.7826096e-10 15.040255\n",
      "INFO: Obtained JPL HORIZONS location for SOHO (spacecraft) (-21) [sunpy.coordinates.ephemeris]\n"
     ]
    },
    {
     "name": "stderr",
     "output_type": "stream",
     "text": [
      "WARNING: FITSFixedWarning: CROTA = 5.96951772736E-10 \n",
      "keyword looks very much like CROTAn but isn't. [astropy.wcs.wcs]\n",
      "WARNING: FITSFixedWarning: CROTA = 5.96951772736E-10 \n",
      "keyword looks very much like CROTAn but isn't. [astropy.wcs.wcs]\n"
     ]
    },
    {
     "name": "stdout",
     "output_type": "stream",
     "text": [
      "0 65 EIT (after masking) 25.68241504442379 7325.121046716627\n",
      "EUVI (after masking) 2.2346796e-08 15.548432\n",
      "INFO: Obtained JPL HORIZONS location for SOHO (spacecraft) (-21) [sunpy.coordinates.ephemeris]\n"
     ]
    },
    {
     "name": "stderr",
     "output_type": "stream",
     "text": [
      "WARNING: VerifyWarning: Card is too long, comment will be truncated. [astropy.io.fits.card]\n",
      "WARNING: FITSFixedWarning: CROTA = -4.49803611025E-10 \n",
      "keyword looks very much like CROTAn but isn't. [astropy.wcs.wcs]\n",
      "WARNING: VerifyWarning: Card is too long, comment will be truncated. [astropy.io.fits.card]\n",
      "WARNING: FITSFixedWarning: CROTA = -4.49803611025E-10 \n",
      "keyword looks very much like CROTAn but isn't. [astropy.wcs.wcs]\n"
     ]
    },
    {
     "name": "stdout",
     "output_type": "stream",
     "text": [
      "0 66 EIT (after masking) 22.946561297253314 3060.734446666104\n",
      "EUVI (after masking) 4.7072035e-10 20.44327\n",
      "INFO: Obtained JPL HORIZONS location for SOHO (spacecraft) (-21) [sunpy.coordinates.ephemeris]\n"
     ]
    },
    {
     "name": "stderr",
     "output_type": "stream",
     "text": [
      "WARNING: VerifyWarning: Card is too long, comment will be truncated. [astropy.io.fits.card]\n",
      "WARNING: FITSFixedWarning: CROTA = 9.51539358418E-09 \n",
      "keyword looks very much like CROTAn but isn't. [astropy.wcs.wcs]\n",
      "WARNING: VerifyWarning: Card is too long, comment will be truncated. [astropy.io.fits.card]\n",
      "WARNING: FITSFixedWarning: CROTA = 9.51539358418E-09 \n",
      "keyword looks very much like CROTAn but isn't. [astropy.wcs.wcs]\n"
     ]
    },
    {
     "name": "stdout",
     "output_type": "stream",
     "text": [
      "0 67 EIT (after masking) 30.958738981150642 2336.5969486459903\n",
      "EUVI (after masking) 5.568893e-09 23.158367\n",
      "INFO: Obtained JPL HORIZONS location for SOHO (spacecraft) (-21) [sunpy.coordinates.ephemeris]\n"
     ]
    },
    {
     "name": "stderr",
     "output_type": "stream",
     "text": [
      "WARNING: FITSFixedWarning: CROTA = 7.10854330954E-09 \n",
      "keyword looks very much like CROTAn but isn't. [astropy.wcs.wcs]\n",
      "WARNING: FITSFixedWarning: CROTA = 7.10854330954E-09 \n",
      "keyword looks very much like CROTAn but isn't. [astropy.wcs.wcs]\n"
     ]
    },
    {
     "name": "stdout",
     "output_type": "stream",
     "text": [
      "0 68 EIT (after masking) 32.06598092755096 11586.998453812133\n",
      "EUVI (after masking) 9.1538425e-08 22.065048\n",
      "INFO: Obtained JPL HORIZONS location for SOHO (spacecraft) (-21) [sunpy.coordinates.ephemeris]\n"
     ]
    },
    {
     "name": "stderr",
     "output_type": "stream",
     "text": [
      "WARNING: FITSFixedWarning: CROTA = -1.92232563201E-08 \n",
      "keyword looks very much like CROTAn but isn't. [astropy.wcs.wcs]\n",
      "WARNING: FITSFixedWarning: CROTA = -1.92232563201E-08 \n",
      "keyword looks very much like CROTAn but isn't. [astropy.wcs.wcs]\n"
     ]
    },
    {
     "name": "stdout",
     "output_type": "stream",
     "text": [
      "0 69 EIT (after masking) 28.43825747830451 3502.734712141058\n",
      "EUVI (after masking) 3.6384904e-09 21.047047\n",
      "INFO: Obtained JPL HORIZONS location for SOHO (spacecraft) (-21) [sunpy.coordinates.ephemeris]\n"
     ]
    },
    {
     "name": "stderr",
     "output_type": "stream",
     "text": [
      "WARNING: VerifyWarning: Card is too long, comment will be truncated. [astropy.io.fits.card]\n",
      "WARNING: FITSFixedWarning: CROTA = 2.70784656919E-08 \n",
      "keyword looks very much like CROTAn but isn't. [astropy.wcs.wcs]\n",
      "WARNING: VerifyWarning: Card is too long, comment will be truncated. [astropy.io.fits.card]\n",
      "WARNING: FITSFixedWarning: CROTA = 2.70784656919E-08 \n",
      "keyword looks very much like CROTAn but isn't. [astropy.wcs.wcs]\n"
     ]
    },
    {
     "name": "stdout",
     "output_type": "stream",
     "text": [
      "0 70 EIT (after masking) 26.908214096164016 3347.8051260051707\n",
      "EUVI (after masking) 7.3356205e-08 15.198711\n",
      "INFO: Obtained JPL HORIZONS location for SOHO (spacecraft) (-21) [sunpy.coordinates.ephemeris]\n"
     ]
    },
    {
     "name": "stderr",
     "output_type": "stream",
     "text": [
      "WARNING: FITSFixedWarning: CROTA = 4.12562215502E-08 \n",
      "keyword looks very much like CROTAn but isn't. [astropy.wcs.wcs]\n",
      "WARNING: FITSFixedWarning: CROTA = 4.12562215502E-08 \n",
      "keyword looks very much like CROTAn but isn't. [astropy.wcs.wcs]\n"
     ]
    },
    {
     "name": "stdout",
     "output_type": "stream",
     "text": [
      "0 71 EIT (after masking) 31.018834845980024 5016.012425406712\n",
      "EUVI (after masking) 3.9318024e-09 22.802288\n",
      "INFO: Obtained JPL HORIZONS location for SOHO (spacecraft) (-21) [sunpy.coordinates.ephemeris]\n"
     ]
    },
    {
     "name": "stderr",
     "output_type": "stream",
     "text": [
      "WARNING: VerifyWarning: Card is too long, comment will be truncated. [astropy.io.fits.card]\n",
      "WARNING: FITSFixedWarning: CROTA = 1.78128343187E-08 \n",
      "keyword looks very much like CROTAn but isn't. [astropy.wcs.wcs]\n",
      "WARNING: VerifyWarning: Card is too long, comment will be truncated. [astropy.io.fits.card]\n",
      "WARNING: FITSFixedWarning: CROTA = 1.78128343187E-08 \n",
      "keyword looks very much like CROTAn but isn't. [astropy.wcs.wcs]\n"
     ]
    },
    {
     "name": "stdout",
     "output_type": "stream",
     "text": [
      "0 72 EIT (after masking) 31.09842346578305 1362.8695089535222\n",
      "EUVI (after masking) 6.1527885e-09 18.788153\n",
      "INFO: Obtained JPL HORIZONS location for SOHO (spacecraft) (-21) [sunpy.coordinates.ephemeris]\n"
     ]
    },
    {
     "name": "stderr",
     "output_type": "stream",
     "text": [
      "WARNING: FITSFixedWarning: CROTA = 4.00666624323E-08 \n",
      "keyword looks very much like CROTAn but isn't. [astropy.wcs.wcs]\n",
      "WARNING: FITSFixedWarning: CROTA = 4.00666624323E-08 \n",
      "keyword looks very much like CROTAn but isn't. [astropy.wcs.wcs]\n"
     ]
    },
    {
     "name": "stdout",
     "output_type": "stream",
     "text": [
      "0 73 EIT (after masking) 34.842380800366804 5879.975913058194\n",
      "EUVI (after masking) 8.4328576e-08 20.364712\n",
      "INFO: Obtained JPL HORIZONS location for SOHO (spacecraft) (-21) [sunpy.coordinates.ephemeris]\n"
     ]
    },
    {
     "name": "stderr",
     "output_type": "stream",
     "text": [
      "WARNING: FITSFixedWarning: CROTA = 7.02891078674E-10 \n",
      "keyword looks very much like CROTAn but isn't. [astropy.wcs.wcs]\n",
      "WARNING: FITSFixedWarning: CROTA = 7.02891078674E-10 \n",
      "keyword looks very much like CROTAn but isn't. [astropy.wcs.wcs]\n"
     ]
    },
    {
     "name": "stdout",
     "output_type": "stream",
     "text": [
      "0 74 EIT (after masking) 24.437822311755426 1768.6198651554168\n",
      "EUVI (after masking) 9.049529e-09 13.9312525\n",
      "INFO: Obtained JPL HORIZONS location for SOHO (spacecraft) (-21) [sunpy.coordinates.ephemeris]\n"
     ]
    },
    {
     "name": "stderr",
     "output_type": "stream",
     "text": [
      "WARNING: FITSFixedWarning: CROTA = -4.53116655308E-09 \n",
      "keyword looks very much like CROTAn but isn't. [astropy.wcs.wcs]\n",
      "WARNING: FITSFixedWarning: CROTA = -4.53116655308E-09 \n",
      "keyword looks very much like CROTAn but isn't. [astropy.wcs.wcs]\n"
     ]
    },
    {
     "name": "stdout",
     "output_type": "stream",
     "text": [
      "0 75 EIT (after masking) 32.31150994257718 3335.616666879092\n",
      "EUVI (after masking) 5.893753e-09 22.684002\n",
      "INFO: Obtained JPL HORIZONS location for SOHO (spacecraft) (-21) [sunpy.coordinates.ephemeris]\n"
     ]
    },
    {
     "name": "stderr",
     "output_type": "stream",
     "text": [
      "WARNING: VerifyWarning: Card is too long, comment will be truncated. [astropy.io.fits.card]\n",
      "WARNING: FITSFixedWarning: CROTA = 1.62554414374E-11 \n",
      "keyword looks very much like CROTAn but isn't. [astropy.wcs.wcs]\n",
      "WARNING: VerifyWarning: Card is too long, comment will be truncated. [astropy.io.fits.card]\n",
      "WARNING: FITSFixedWarning: CROTA = 1.62554414374E-11 \n",
      "keyword looks very much like CROTAn but isn't. [astropy.wcs.wcs]\n"
     ]
    },
    {
     "name": "stdout",
     "output_type": "stream",
     "text": [
      "0 76 EIT (after masking) 25.914316975018554 4351.629806566466\n",
      "EUVI (after masking) 1.6427748e-11 69.60733\n",
      "INFO: Obtained JPL HORIZONS location for SOHO (spacecraft) (-21) [sunpy.coordinates.ephemeris]\n"
     ]
    },
    {
     "name": "stderr",
     "output_type": "stream",
     "text": [
      "WARNING: VerifyWarning: Card is too long, comment will be truncated. [astropy.io.fits.card]\n",
      "WARNING: FITSFixedWarning: CROTA = 3.55148754849E-08 \n",
      "keyword looks very much like CROTAn but isn't. [astropy.wcs.wcs]\n",
      "WARNING: VerifyWarning: Card is too long, comment will be truncated. [astropy.io.fits.card]\n",
      "WARNING: FITSFixedWarning: CROTA = 3.55148754849E-08 \n",
      "keyword looks very much like CROTAn but isn't. [astropy.wcs.wcs]\n"
     ]
    },
    {
     "name": "stdout",
     "output_type": "stream",
     "text": [
      "0 77 EIT (after masking) 30.281679070948517 1530.605011985861\n",
      "EUVI (after masking) 5.798597e-08 19.602661\n",
      "INFO: Obtained JPL HORIZONS location for SOHO (spacecraft) (-21) [sunpy.coordinates.ephemeris]\n"
     ]
    },
    {
     "name": "stderr",
     "output_type": "stream",
     "text": [
      "WARNING: FITSFixedWarning: CROTA = 1.08218542572E-07 \n",
      "keyword looks very much like CROTAn but isn't. [astropy.wcs.wcs]\n",
      "WARNING: FITSFixedWarning: CROTA = 1.08218542572E-07 \n",
      "keyword looks very much like CROTAn but isn't. [astropy.wcs.wcs]\n"
     ]
    },
    {
     "name": "stdout",
     "output_type": "stream",
     "text": [
      "0 78 EIT (after masking) 28.673089764001073 6389.066944374213\n",
      "EUVI (after masking) 3.121164e-08 18.336807\n",
      "INFO: Obtained JPL HORIZONS location for SOHO (spacecraft) (-21) [sunpy.coordinates.ephemeris]\n"
     ]
    },
    {
     "name": "stderr",
     "output_type": "stream",
     "text": [
      "WARNING: FITSFixedWarning: CROTA = 2.53640553893E-07 \n",
      "keyword looks very much like CROTAn but isn't. [astropy.wcs.wcs]\n",
      "WARNING: FITSFixedWarning: CROTA = 2.53640553893E-07 \n",
      "keyword looks very much like CROTAn but isn't. [astropy.wcs.wcs]\n"
     ]
    },
    {
     "name": "stdout",
     "output_type": "stream",
     "text": [
      "0 79 EIT (after masking) 31.034502731811013 3947.4419903683192\n",
      "EUVI (after masking) 5.5712235e-10 23.368368\n",
      "INFO: Obtained JPL HORIZONS location for SOHO (spacecraft) (-21) [sunpy.coordinates.ephemeris]\n"
     ]
    },
    {
     "name": "stderr",
     "output_type": "stream",
     "text": [
      "WARNING: FITSFixedWarning: CROTA = 1.85487205151E-07 \n",
      "keyword looks very much like CROTAn but isn't. [astropy.wcs.wcs]\n",
      "WARNING: FITSFixedWarning: CROTA = 1.85487205151E-07 \n",
      "keyword looks very much like CROTAn but isn't. [astropy.wcs.wcs]\n"
     ]
    },
    {
     "name": "stdout",
     "output_type": "stream",
     "text": [
      "0 80 EIT (after masking) 29.658700574232487 1559.67948266134\n",
      "EUVI (after masking) 4.4521187e-08 13.72927\n",
      "INFO: Obtained JPL HORIZONS location for SOHO (spacecraft) (-21) [sunpy.coordinates.ephemeris]\n"
     ]
    },
    {
     "name": "stderr",
     "output_type": "stream",
     "text": [
      "WARNING: FITSFixedWarning: CROTA = -1.08369332175E-07 \n",
      "keyword looks very much like CROTAn but isn't. [astropy.wcs.wcs]\n",
      "WARNING: FITSFixedWarning: CROTA = -1.08369332175E-07 \n",
      "keyword looks very much like CROTAn but isn't. [astropy.wcs.wcs]\n"
     ]
    },
    {
     "name": "stdout",
     "output_type": "stream",
     "text": [
      "0 81 EIT (after masking) 20.290629730199036 1820.1447671034393\n",
      "EUVI (after masking) 9.024461e-10 16.986692\n",
      "INFO: Obtained JPL HORIZONS location for SOHO (spacecraft) (-21) [sunpy.coordinates.ephemeris]\n"
     ]
    },
    {
     "name": "stderr",
     "output_type": "stream",
     "text": [
      "WARNING: VerifyWarning: Card is too long, comment will be truncated. [astropy.io.fits.card]\n",
      "WARNING: FITSFixedWarning: CROTA = -6.81590117679E-08 \n",
      "keyword looks very much like CROTAn but isn't. [astropy.wcs.wcs]\n",
      "WARNING: VerifyWarning: Card is too long, comment will be truncated. [astropy.io.fits.card]\n",
      "WARNING: FITSFixedWarning: CROTA = -6.81590117679E-08 \n",
      "keyword looks very much like CROTAn but isn't. [astropy.wcs.wcs]\n"
     ]
    },
    {
     "name": "stdout",
     "output_type": "stream",
     "text": [
      "0 82 EIT (after masking) 23.029694044529215 643.5075105910644\n",
      "EUVI (after masking) 1.7408297e-09 15.787096\n",
      "INFO: Obtained JPL HORIZONS location for SOHO (spacecraft) (-21) [sunpy.coordinates.ephemeris]\n"
     ]
    },
    {
     "name": "stderr",
     "output_type": "stream",
     "text": [
      "WARNING: FITSFixedWarning: CROTA = 3.7972991862E-08 \n",
      "keyword looks very much like CROTAn but isn't. [astropy.wcs.wcs]\n",
      "WARNING: FITSFixedWarning: CROTA = 3.7972991862E-08 \n",
      "keyword looks very much like CROTAn but isn't. [astropy.wcs.wcs]\n"
     ]
    },
    {
     "name": "stdout",
     "output_type": "stream",
     "text": [
      "0 83 EIT (after masking) 21.980731642852977 5647.187782430722\n",
      "EUVI (after masking) 1.6575541e-08 19.082333\n",
      "INFO: Obtained JPL HORIZONS location for SOHO (spacecraft) (-21) [sunpy.coordinates.ephemeris]\n"
     ]
    },
    {
     "name": "stderr",
     "output_type": "stream",
     "text": [
      "WARNING: VerifyWarning: Card is too long, comment will be truncated. [astropy.io.fits.card]\n",
      "WARNING: FITSFixedWarning: CROTA = -6.50338449759E-09 \n",
      "keyword looks very much like CROTAn but isn't. [astropy.wcs.wcs]\n",
      "WARNING: VerifyWarning: Card is too long, comment will be truncated. [astropy.io.fits.card]\n",
      "WARNING: FITSFixedWarning: CROTA = -6.50338449759E-09 \n",
      "keyword looks very much like CROTAn but isn't. [astropy.wcs.wcs]\n"
     ]
    },
    {
     "name": "stdout",
     "output_type": "stream",
     "text": [
      "0 84 EIT (after masking) 20.125096266591747 1167.3059913496675\n",
      "EUVI (after masking) 5.0376566e-06 19.367382\n",
      "INFO: Obtained JPL HORIZONS location for SOHO (spacecraft) (-21) [sunpy.coordinates.ephemeris]\n"
     ]
    },
    {
     "name": "stderr",
     "output_type": "stream",
     "text": [
      "WARNING: VerifyWarning: Card is too long, comment will be truncated. [astropy.io.fits.card]\n",
      "WARNING: FITSFixedWarning: CROTA = -2.76001651756E-07 \n",
      "keyword looks very much like CROTAn but isn't. [astropy.wcs.wcs]\n",
      "WARNING: VerifyWarning: Card is too long, comment will be truncated. [astropy.io.fits.card]\n",
      "WARNING: FITSFixedWarning: CROTA = -2.76001651756E-07 \n",
      "keyword looks very much like CROTAn but isn't. [astropy.wcs.wcs]\n"
     ]
    },
    {
     "name": "stdout",
     "output_type": "stream",
     "text": [
      "0 85 EIT (after masking) 23.001903433226545 1289.044865087076\n",
      "EUVI (after masking) 6.4909837e-06 14.799531\n",
      "INFO: Obtained JPL HORIZONS location for SOHO (spacecraft) (-21) [sunpy.coordinates.ephemeris]\n"
     ]
    },
    {
     "name": "stderr",
     "output_type": "stream",
     "text": [
      "WARNING: FITSFixedWarning: CROTA = 2.99602298526E-08 \n",
      "keyword looks very much like CROTAn but isn't. [astropy.wcs.wcs]\n",
      "WARNING: FITSFixedWarning: CROTA = 2.99602298526E-08 \n",
      "keyword looks very much like CROTAn but isn't. [astropy.wcs.wcs]\n"
     ]
    },
    {
     "name": "stdout",
     "output_type": "stream",
     "text": [
      "0 86 EIT (after masking) 27.283695193944684 2744.5762274374133\n",
      "EUVI (after masking) 1.2412856e-06 21.561758\n",
      "INFO: Obtained JPL HORIZONS location for SOHO (spacecraft) (-21) [sunpy.coordinates.ephemeris]\n"
     ]
    },
    {
     "name": "stderr",
     "output_type": "stream",
     "text": [
      "WARNING: VerifyWarning: Card is too long, comment will be truncated. [astropy.io.fits.card]\n",
      "WARNING: FITSFixedWarning: CROTA = -1.40818690042E-08 \n",
      "keyword looks very much like CROTAn but isn't. [astropy.wcs.wcs]\n",
      "WARNING: VerifyWarning: Card is too long, comment will be truncated. [astropy.io.fits.card]\n",
      "WARNING: FITSFixedWarning: CROTA = -1.40818690042E-08 \n",
      "keyword looks very much like CROTAn but isn't. [astropy.wcs.wcs]\n"
     ]
    },
    {
     "name": "stdout",
     "output_type": "stream",
     "text": [
      "0 87 EIT (after masking) 24.111330046343074 1872.6509697162458\n",
      "EUVI (after masking) 8.036295e-09 24.664694\n",
      "INFO: Obtained JPL HORIZONS location for SOHO (spacecraft) (-21) [sunpy.coordinates.ephemeris]\n"
     ]
    },
    {
     "name": "stderr",
     "output_type": "stream",
     "text": [
      "WARNING: VerifyWarning: Card is too long, comment will be truncated. [astropy.io.fits.card]\n",
      "WARNING: FITSFixedWarning: CROTA = -4.09841209859E-08 \n",
      "keyword looks very much like CROTAn but isn't. [astropy.wcs.wcs]\n",
      "WARNING: VerifyWarning: Card is too long, comment will be truncated. [astropy.io.fits.card]\n",
      "WARNING: FITSFixedWarning: CROTA = -4.09841209859E-08 \n",
      "keyword looks very much like CROTAn but isn't. [astropy.wcs.wcs]\n"
     ]
    },
    {
     "name": "stdout",
     "output_type": "stream",
     "text": [
      "0 88 EIT (after masking) 22.628990720010208 4039.014498825923\n",
      "EUVI (after masking) 4.6495643e-09 20.62731\n",
      "INFO: Obtained JPL HORIZONS location for SOHO (spacecraft) (-21) [sunpy.coordinates.ephemeris]\n"
     ]
    },
    {
     "name": "stderr",
     "output_type": "stream",
     "text": [
      "WARNING: VerifyWarning: Card is too long, comment will be truncated. [astropy.io.fits.card]\n",
      "WARNING: FITSFixedWarning: CROTA = 3.4549347383E-08 \n",
      "keyword looks very much like CROTAn but isn't. [astropy.wcs.wcs]\n",
      "WARNING: VerifyWarning: Card is too long, comment will be truncated. [astropy.io.fits.card]\n",
      "WARNING: FITSFixedWarning: CROTA = 3.4549347383E-08 \n",
      "keyword looks very much like CROTAn but isn't. [astropy.wcs.wcs]\n"
     ]
    },
    {
     "name": "stdout",
     "output_type": "stream",
     "text": [
      "0 89 EIT (after masking) 21.92339609450146 2594.9628306592535\n",
      "EUVI (after masking) 4.2520156e-07 15.986293\n",
      "INFO: Obtained JPL HORIZONS location for SOHO (spacecraft) (-21) [sunpy.coordinates.ephemeris]\n"
     ]
    },
    {
     "name": "stderr",
     "output_type": "stream",
     "text": [
      "WARNING: FITSFixedWarning: CROTA = -3.34401870639E-08 \n",
      "keyword looks very much like CROTAn but isn't. [astropy.wcs.wcs]\n",
      "WARNING: FITSFixedWarning: CROTA = -3.34401870639E-08 \n",
      "keyword looks very much like CROTAn but isn't. [astropy.wcs.wcs]\n"
     ]
    },
    {
     "name": "stdout",
     "output_type": "stream",
     "text": [
      "0 90 EIT (after masking) 26.680138515063057 4077.4570692592965\n",
      "EUVI (after masking) 2.9467628e-08 14.668616\n",
      "INFO: Obtained JPL HORIZONS location for SOHO (spacecraft) (-21) [sunpy.coordinates.ephemeris]\n"
     ]
    },
    {
     "name": "stderr",
     "output_type": "stream",
     "text": [
      "WARNING: VerifyWarning: Card is too long, comment will be truncated. [astropy.io.fits.card]\n",
      "WARNING: FITSFixedWarning: CROTA = 3.62195660131E-08 \n",
      "keyword looks very much like CROTAn but isn't. [astropy.wcs.wcs]\n",
      "WARNING: VerifyWarning: Card is too long, comment will be truncated. [astropy.io.fits.card]\n",
      "WARNING: FITSFixedWarning: CROTA = 3.62195660131E-08 \n",
      "keyword looks very much like CROTAn but isn't. [astropy.wcs.wcs]\n"
     ]
    },
    {
     "name": "stdout",
     "output_type": "stream",
     "text": [
      "0 91 EIT (after masking) 26.42576566937337 1245.240814897962\n",
      "EUVI (after masking) 4.8466973e-09 13.234909\n",
      "INFO: Obtained JPL HORIZONS location for SOHO (spacecraft) (-21) [sunpy.coordinates.ephemeris]\n"
     ]
    },
    {
     "name": "stderr",
     "output_type": "stream",
     "text": [
      "WARNING: FITSFixedWarning: CROTA = 3.88861769451E-08 \n",
      "keyword looks very much like CROTAn but isn't. [astropy.wcs.wcs]\n",
      "WARNING: FITSFixedWarning: CROTA = 3.88861769451E-08 \n",
      "keyword looks very much like CROTAn but isn't. [astropy.wcs.wcs]\n"
     ]
    },
    {
     "name": "stdout",
     "output_type": "stream",
     "text": [
      "0 92 EIT (after masking) 28.841885484325573 1034.7099681677703\n",
      "EUVI (after masking) 4.906635e-07 18.11635\n",
      "INFO: Obtained JPL HORIZONS location for SOHO (spacecraft) (-21) [sunpy.coordinates.ephemeris]\n"
     ]
    },
    {
     "name": "stderr",
     "output_type": "stream",
     "text": [
      "WARNING: VerifyWarning: Card is too long, comment will be truncated. [astropy.io.fits.card]\n",
      "WARNING: FITSFixedWarning: CROTA = -8.4661997412599E-09 \n",
      "keyword looks very much like CROTAn but isn't. [astropy.wcs.wcs]\n",
      "WARNING: VerifyWarning: Card is too long, comment will be truncated. [astropy.io.fits.card]\n",
      "WARNING: FITSFixedWarning: CROTA = -8.4661997412599E-09 \n",
      "keyword looks very much like CROTAn but isn't. [astropy.wcs.wcs]\n"
     ]
    },
    {
     "name": "stdout",
     "output_type": "stream",
     "text": [
      "0 93 EIT (after masking) 25.04150620034328 1652.5548811522883\n",
      "EUVI (after masking) 1.0422539e-06 17.713848\n",
      "INFO: Obtained JPL HORIZONS location for SOHO (spacecraft) (-21) [sunpy.coordinates.ephemeris]\n"
     ]
    },
    {
     "name": "stderr",
     "output_type": "stream",
     "text": [
      "WARNING: VerifyWarning: Card is too long, comment will be truncated. [astropy.io.fits.card]\n",
      "WARNING: FITSFixedWarning: CROTA = 6.21823188496E-08 \n",
      "keyword looks very much like CROTAn but isn't. [astropy.wcs.wcs]\n",
      "WARNING: VerifyWarning: Card is too long, comment will be truncated. [astropy.io.fits.card]\n",
      "WARNING: FITSFixedWarning: CROTA = 6.21823188496E-08 \n",
      "keyword looks very much like CROTAn but isn't. [astropy.wcs.wcs]\n"
     ]
    },
    {
     "name": "stdout",
     "output_type": "stream",
     "text": [
      "0 94 EIT (after masking) 27.261235697835655 1208.24907740003\n",
      "EUVI (after masking) 2.2604147e-06 20.085001\n",
      "195/eit_l1_20070601_121346.fits 195_B/20070601_120530_195eu_L.fts\n",
      "INFO: Obtained JPL HORIZONS location for SOHO (spacecraft) (-21) [sunpy.coordinates.ephemeris]\n"
     ]
    },
    {
     "name": "stderr",
     "output_type": "stream",
     "text": [
      "WARNING: VerifyWarning: Card is too long, comment will be truncated. [astropy.io.fits.card]\n",
      "WARNING: FITSFixedWarning: CROTA = -1.01365437466E-06 \n",
      "keyword looks very much like CROTAn but isn't. [astropy.wcs.wcs]\n",
      "WARNING: VerifyWarning: Card is too long, comment will be truncated. [astropy.io.fits.card]\n",
      "WARNING: FITSFixedWarning: CROTA = -1.01365437466E-06 \n",
      "keyword looks very much like CROTAn but isn't. [astropy.wcs.wcs]\n"
     ]
    },
    {
     "name": "stdout",
     "output_type": "stream",
     "text": [
      "1 0 EIT (after masking) 7.582954804997231 1806.549607173933\n",
      "EUVI (after masking) 9.094947e-13 22.723864\n",
      "INFO: Obtained JPL HORIZONS location for SOHO (spacecraft) (-21) [sunpy.coordinates.ephemeris]\n"
     ]
    },
    {
     "name": "stderr",
     "output_type": "stream",
     "text": [
      "WARNING: VerifyWarning: Card is too long, comment will be truncated. [astropy.io.fits.card]\n",
      "WARNING: FITSFixedWarning: CROTA = -6.6900265594E-07 \n",
      "keyword looks very much like CROTAn but isn't. [astropy.wcs.wcs]\n",
      "WARNING: VerifyWarning: Card is too long, comment will be truncated. [astropy.io.fits.card]\n",
      "WARNING: FITSFixedWarning: CROTA = -6.6900265594E-07 \n",
      "keyword looks very much like CROTAn but isn't. [astropy.wcs.wcs]\n"
     ]
    },
    {
     "name": "stdout",
     "output_type": "stream",
     "text": [
      "1 1 EIT (after masking) 6.897907950598854 6194.894849707818\n",
      "EUVI (after masking) 1.9122126e-10 49.82327\n",
      "INFO: Obtained JPL HORIZONS location for SOHO (spacecraft) (-21) [sunpy.coordinates.ephemeris]\n"
     ]
    },
    {
     "name": "stderr",
     "output_type": "stream",
     "text": [
      "WARNING: VerifyWarning: Card is too long, comment will be truncated. [astropy.io.fits.card]\n",
      "WARNING: FITSFixedWarning: CROTA = -8.85719430244E-07 \n",
      "keyword looks very much like CROTAn but isn't. [astropy.wcs.wcs]\n",
      "WARNING: VerifyWarning: Card is too long, comment will be truncated. [astropy.io.fits.card]\n",
      "WARNING: FITSFixedWarning: CROTA = -8.85719430244E-07 \n",
      "keyword looks very much like CROTAn but isn't. [astropy.wcs.wcs]\n"
     ]
    },
    {
     "name": "stdout",
     "output_type": "stream",
     "text": [
      "1 2 EIT (after masking) 9.486792064752139 3453.3368096268086\n",
      "EUVI (after masking) 1.82132e-09 25.241741\n",
      "INFO: Obtained JPL HORIZONS location for SOHO (spacecraft) (-21) [sunpy.coordinates.ephemeris]\n"
     ]
    },
    {
     "name": "stderr",
     "output_type": "stream",
     "text": [
      "WARNING: VerifyWarning: Card is too long, comment will be truncated. [astropy.io.fits.card]\n",
      "WARNING: FITSFixedWarning: CROTA = 1.07832092144E-07 \n",
      "keyword looks very much like CROTAn but isn't. [astropy.wcs.wcs]\n",
      "WARNING: VerifyWarning: Card is too long, comment will be truncated. [astropy.io.fits.card]\n",
      "WARNING: FITSFixedWarning: CROTA = 1.07832092144E-07 \n",
      "keyword looks very much like CROTAn but isn't. [astropy.wcs.wcs]\n"
     ]
    },
    {
     "name": "stdout",
     "output_type": "stream",
     "text": [
      "1 3 EIT (after masking) 6.161138089089426 1782.1252838945927\n",
      "EUVI (after masking) 1.4734383e-07 203.33476\n",
      "INFO: Obtained JPL HORIZONS location for SOHO (spacecraft) (-21) [sunpy.coordinates.ephemeris]\n"
     ]
    },
    {
     "name": "stderr",
     "output_type": "stream",
     "text": [
      "WARNING: VerifyWarning: Card is too long, comment will be truncated. [astropy.io.fits.card]\n",
      "WARNING: FITSFixedWarning: CROTA = 1.70365035412E-08 \n",
      "keyword looks very much like CROTAn but isn't. [astropy.wcs.wcs]\n",
      "WARNING: VerifyWarning: Card is too long, comment will be truncated. [astropy.io.fits.card]\n",
      "WARNING: FITSFixedWarning: CROTA = 1.70365035412E-08 \n",
      "keyword looks very much like CROTAn but isn't. [astropy.wcs.wcs]\n"
     ]
    },
    {
     "name": "stdout",
     "output_type": "stream",
     "text": [
      "1 4 EIT (after masking) 4.7743039525243836 1588.4787249435635\n",
      "EUVI (after masking) 3.637979e-12 41.82556\n",
      "INFO: Obtained JPL HORIZONS location for SOHO (spacecraft) (-21) [sunpy.coordinates.ephemeris]\n"
     ]
    },
    {
     "name": "stderr",
     "output_type": "stream",
     "text": [
      "WARNING: VerifyWarning: Card is too long, comment will be truncated. [astropy.io.fits.card]\n",
      "WARNING: FITSFixedWarning: CROTA = 8.88866975579E-08 \n",
      "keyword looks very much like CROTAn but isn't. [astropy.wcs.wcs]\n",
      "WARNING: VerifyWarning: Card is too long, comment will be truncated. [astropy.io.fits.card]\n",
      "WARNING: FITSFixedWarning: CROTA = 8.88866975579E-08 \n",
      "keyword looks very much like CROTAn but isn't. [astropy.wcs.wcs]\n"
     ]
    },
    {
     "name": "stdout",
     "output_type": "stream",
     "text": [
      "1 5 EIT (after masking) 3.6432046902942674 7035.943168322664\n",
      "EUVI (after masking) 4.604317e-12 31.326784\n",
      "INFO: Obtained JPL HORIZONS location for SOHO (spacecraft) (-21) [sunpy.coordinates.ephemeris]\n"
     ]
    },
    {
     "name": "stderr",
     "output_type": "stream",
     "text": [
      "WARNING: VerifyWarning: Card is too long, comment will be truncated. [astropy.io.fits.card]\n",
      "WARNING: FITSFixedWarning: CROTA = 1.17006005329E-07 \n",
      "keyword looks very much like CROTAn but isn't. [astropy.wcs.wcs]\n",
      "WARNING: VerifyWarning: Card is too long, comment will be truncated. [astropy.io.fits.card]\n",
      "WARNING: FITSFixedWarning: CROTA = 1.17006005329E-07 \n",
      "keyword looks very much like CROTAn but isn't. [astropy.wcs.wcs]\n"
     ]
    },
    {
     "name": "stdout",
     "output_type": "stream",
     "text": [
      "1 6 EIT (after masking) 4.477465263305371 14432.425245786384\n",
      "EUVI (after masking) 2.3283064e-10 28.729034\n",
      "INFO: Obtained JPL HORIZONS location for SOHO (spacecraft) (-21) [sunpy.coordinates.ephemeris]\n"
     ]
    },
    {
     "name": "stderr",
     "output_type": "stream",
     "text": [
      "WARNING: VerifyWarning: Card is too long, comment will be truncated. [astropy.io.fits.card]\n",
      "WARNING: FITSFixedWarning: CROTA = 9.03905839067E-08 \n",
      "keyword looks very much like CROTAn but isn't. [astropy.wcs.wcs]\n",
      "WARNING: VerifyWarning: Card is too long, comment will be truncated. [astropy.io.fits.card]\n",
      "WARNING: FITSFixedWarning: CROTA = 9.03905839067E-08 \n",
      "keyword looks very much like CROTAn but isn't. [astropy.wcs.wcs]\n"
     ]
    },
    {
     "name": "stdout",
     "output_type": "stream",
     "text": [
      "1 7 EIT (after masking) 6.2511848663592895 5525.8694543189795\n",
      "EUVI (after masking) 5.684342e-12 44.45847\n",
      "INFO: Obtained JPL HORIZONS location for SOHO (spacecraft) (-21) [sunpy.coordinates.ephemeris]\n"
     ]
    },
    {
     "name": "stderr",
     "output_type": "stream",
     "text": [
      "WARNING: VerifyWarning: Card is too long, comment will be truncated. [astropy.io.fits.card]\n",
      "WARNING: FITSFixedWarning: CROTA = -5.40333111587E-10 \n",
      "keyword looks very much like CROTAn but isn't. [astropy.wcs.wcs]\n",
      "WARNING: VerifyWarning: Card is too long, comment will be truncated. [astropy.io.fits.card]\n",
      "WARNING: FITSFixedWarning: CROTA = -5.40333111587E-10 \n",
      "keyword looks very much like CROTAn but isn't. [astropy.wcs.wcs]\n"
     ]
    },
    {
     "name": "stdout",
     "output_type": "stream",
     "text": [
      "1 8 EIT (after masking) 7.936438936348309 915.5702758740332\n",
      "EUVI (after masking) 1.3306476e-09 34.466404\n",
      "INFO: Obtained JPL HORIZONS location for SOHO (spacecraft) (-21) [sunpy.coordinates.ephemeris]\n"
     ]
    },
    {
     "name": "stderr",
     "output_type": "stream",
     "text": [
      "WARNING: VerifyWarning: Card is too long, comment will be truncated. [astropy.io.fits.card]\n",
      "WARNING: FITSFixedWarning: CROTA = -1.2291882534E-07 \n",
      "keyword looks very much like CROTAn but isn't. [astropy.wcs.wcs]\n",
      "WARNING: VerifyWarning: Card is too long, comment will be truncated. [astropy.io.fits.card]\n",
      "WARNING: FITSFixedWarning: CROTA = -1.2291882534E-07 \n",
      "keyword looks very much like CROTAn but isn't. [astropy.wcs.wcs]\n"
     ]
    },
    {
     "name": "stdout",
     "output_type": "stream",
     "text": [
      "INFO: Obtained JPL HORIZONS location for SOHO (spacecraft) (-21) [sunpy.coordinates.ephemeris]\n"
     ]
    },
    {
     "name": "stderr",
     "output_type": "stream",
     "text": [
      "WARNING: VerifyWarning: Card is too long, comment will be truncated. [astropy.io.fits.card]\n",
      "WARNING: FITSFixedWarning: CROTA = 1.47353311775E-07 \n",
      "keyword looks very much like CROTAn but isn't. [astropy.wcs.wcs]\n",
      "WARNING: VerifyWarning: Card is too long, comment will be truncated. [astropy.io.fits.card]\n",
      "WARNING: FITSFixedWarning: CROTA = 1.47353311775E-07 \n",
      "keyword looks very much like CROTAn but isn't. [astropy.wcs.wcs]\n"
     ]
    },
    {
     "name": "stdout",
     "output_type": "stream",
     "text": [
      "1 9 EIT (after masking) 3.245709467049495 2216.908707262069\n",
      "EUVI (after masking) 1.4210855e-12 36.4268\n",
      "INFO: Obtained JPL HORIZONS location for SOHO (spacecraft) (-21) [sunpy.coordinates.ephemeris]\n"
     ]
    },
    {
     "name": "stderr",
     "output_type": "stream",
     "text": [
      "WARNING: VerifyWarning: Card is too long, comment will be truncated. [astropy.io.fits.card]\n",
      "WARNING: FITSFixedWarning: CROTA = 1.67773315241E-08 \n",
      "keyword looks very much like CROTAn but isn't. [astropy.wcs.wcs]\n",
      "WARNING: VerifyWarning: Card is too long, comment will be truncated. [astropy.io.fits.card]\n",
      "WARNING: FITSFixedWarning: CROTA = 1.67773315241E-08 \n",
      "keyword looks very much like CROTAn but isn't. [astropy.wcs.wcs]\n"
     ]
    },
    {
     "name": "stdout",
     "output_type": "stream",
     "text": [
      "1 10 EIT (after masking) 3.4675968784484454 2477.077482209184\n",
      "EUVI (after masking) 5.684342e-14 33.346874\n",
      "INFO: Obtained JPL HORIZONS location for SOHO (spacecraft) (-21) [sunpy.coordinates.ephemeris]\n"
     ]
    },
    {
     "name": "stderr",
     "output_type": "stream",
     "text": [
      "WARNING: VerifyWarning: Card is too long, comment will be truncated. [astropy.io.fits.card]\n",
      "WARNING: FITSFixedWarning: CROTA = 1.44763851573E-07 \n",
      "keyword looks very much like CROTAn but isn't. [astropy.wcs.wcs]\n",
      "WARNING: VerifyWarning: Card is too long, comment will be truncated. [astropy.io.fits.card]\n",
      "WARNING: FITSFixedWarning: CROTA = 1.44763851573E-07 \n",
      "keyword looks very much like CROTAn but isn't. [astropy.wcs.wcs]\n"
     ]
    },
    {
     "name": "stdout",
     "output_type": "stream",
     "text": [
      "1 11 EIT (after masking) 8.480179268681775 5160.999245980239\n",
      "EUVI (after masking) 8.185452e-12 26.20896\n",
      "INFO: Obtained JPL HORIZONS location for SOHO (spacecraft) (-21) [sunpy.coordinates.ephemeris]\n"
     ]
    },
    {
     "name": "stderr",
     "output_type": "stream",
     "text": [
      "WARNING: VerifyWarning: Card is too long, comment will be truncated. [astropy.io.fits.card]\n",
      "WARNING: FITSFixedWarning: CROTA = 1.47780578885E-07 \n",
      "keyword looks very much like CROTAn but isn't. [astropy.wcs.wcs]\n",
      "WARNING: VerifyWarning: Card is too long, comment will be truncated. [astropy.io.fits.card]\n",
      "WARNING: FITSFixedWarning: CROTA = 1.47780578885E-07 \n",
      "keyword looks very much like CROTAn but isn't. [astropy.wcs.wcs]\n"
     ]
    },
    {
     "name": "stdout",
     "output_type": "stream",
     "text": [
      "1 12 EIT (after masking) 4.418782467956085 3476.1866914853517\n",
      "EUVI (after masking) 8.645884e-11 31.172085\n",
      "INFO: Obtained JPL HORIZONS location for SOHO (spacecraft) (-21) [sunpy.coordinates.ephemeris]\n"
     ]
    },
    {
     "name": "stderr",
     "output_type": "stream",
     "text": [
      "WARNING: VerifyWarning: Card is too long, comment will be truncated. [astropy.io.fits.card]\n",
      "WARNING: FITSFixedWarning: CROTA = -6.20259541506E-08 \n",
      "keyword looks very much like CROTAn but isn't. [astropy.wcs.wcs]\n",
      "WARNING: VerifyWarning: Card is too long, comment will be truncated. [astropy.io.fits.card]\n",
      "WARNING: FITSFixedWarning: CROTA = -6.20259541506E-08 \n",
      "keyword looks very much like CROTAn but isn't. [astropy.wcs.wcs]\n"
     ]
    },
    {
     "name": "stdout",
     "output_type": "stream",
     "text": [
      "1 13 EIT (after masking) 4.224242520644951 2626.6637311631152\n",
      "EUVI (after masking) 2.7853275e-12 29.965605\n",
      "INFO: Obtained JPL HORIZONS location for SOHO (spacecraft) (-21) [sunpy.coordinates.ephemeris]\n"
     ]
    },
    {
     "name": "stderr",
     "output_type": "stream",
     "text": [
      "WARNING: VerifyWarning: Card is too long, comment will be truncated. [astropy.io.fits.card]\n",
      "WARNING: FITSFixedWarning: CROTA = 2.62040167343E-07 \n",
      "keyword looks very much like CROTAn but isn't. [astropy.wcs.wcs]\n",
      "WARNING: VerifyWarning: Card is too long, comment will be truncated. [astropy.io.fits.card]\n",
      "WARNING: FITSFixedWarning: CROTA = 2.62040167343E-07 \n",
      "keyword looks very much like CROTAn but isn't. [astropy.wcs.wcs]\n"
     ]
    },
    {
     "name": "stdout",
     "output_type": "stream",
     "text": [
      "1 14 EIT (after masking) 3.6672513338368478 1908.6258488984822\n",
      "EUVI (after masking) 4.7805315e-11 31.05337\n",
      "INFO: Obtained JPL HORIZONS location for SOHO (spacecraft) (-21) [sunpy.coordinates.ephemeris]\n"
     ]
    },
    {
     "name": "stderr",
     "output_type": "stream",
     "text": [
      "WARNING: VerifyWarning: Card is too long, comment will be truncated. [astropy.io.fits.card]\n",
      "WARNING: FITSFixedWarning: CROTA = 2.07691972065E-07 \n",
      "keyword looks very much like CROTAn but isn't. [astropy.wcs.wcs]\n",
      "WARNING: VerifyWarning: Card is too long, comment will be truncated. [astropy.io.fits.card]\n",
      "WARNING: FITSFixedWarning: CROTA = 2.07691972065E-07 \n",
      "keyword looks very much like CROTAn but isn't. [astropy.wcs.wcs]\n"
     ]
    },
    {
     "name": "stdout",
     "output_type": "stream",
     "text": [
      "1 15 EIT (after masking) 4.093821966542013 12889.220767680017\n",
      "EUVI (after masking) 1.114131e-11 29.334919\n",
      "INFO: Obtained JPL HORIZONS location for SOHO (spacecraft) (-21) [sunpy.coordinates.ephemeris]\n"
     ]
    },
    {
     "name": "stderr",
     "output_type": "stream",
     "text": [
      "WARNING: VerifyWarning: Card is too long, comment will be truncated. [astropy.io.fits.card]\n",
      "WARNING: FITSFixedWarning: CROTA = 4.18104484368E-08 \n",
      "keyword looks very much like CROTAn but isn't. [astropy.wcs.wcs]\n",
      "WARNING: VerifyWarning: Card is too long, comment will be truncated. [astropy.io.fits.card]\n",
      "WARNING: FITSFixedWarning: CROTA = 4.18104484368E-08 \n",
      "keyword looks very much like CROTAn but isn't. [astropy.wcs.wcs]\n"
     ]
    },
    {
     "name": "stdout",
     "output_type": "stream",
     "text": [
      "1 16 EIT (after masking) 4.2038415864836285 1277.3465279333154\n",
      "EUVI (after masking) 2.046363e-12 28.046055\n",
      "INFO: Obtained JPL HORIZONS location for SOHO (spacecraft) (-21) [sunpy.coordinates.ephemeris]\n"
     ]
    },
    {
     "name": "stderr",
     "output_type": "stream",
     "text": [
      "WARNING: VerifyWarning: Card is too long, comment will be truncated. [astropy.io.fits.card]\n",
      "WARNING: FITSFixedWarning: CROTA = 1.96363094673E-07 \n",
      "keyword looks very much like CROTAn but isn't. [astropy.wcs.wcs]\n",
      "WARNING: VerifyWarning: Card is too long, comment will be truncated. [astropy.io.fits.card]\n",
      "WARNING: FITSFixedWarning: CROTA = 1.96363094673E-07 \n",
      "keyword looks very much like CROTAn but isn't. [astropy.wcs.wcs]\n"
     ]
    },
    {
     "name": "stdout",
     "output_type": "stream",
     "text": [
      "1 17 EIT (after masking) 4.728981325527331 1012.0665385177796\n",
      "EUVI (after masking) 3.842615e-11 199.8665\n",
      "INFO: Obtained JPL HORIZONS location for SOHO (spacecraft) (-21) [sunpy.coordinates.ephemeris]\n"
     ]
    },
    {
     "name": "stderr",
     "output_type": "stream",
     "text": [
      "WARNING: FITSFixedWarning: CROTA = -5.2564614883E-08 \n",
      "keyword looks very much like CROTAn but isn't. [astropy.wcs.wcs]\n",
      "WARNING: FITSFixedWarning: CROTA = -5.2564614883E-08 \n",
      "keyword looks very much like CROTAn but isn't. [astropy.wcs.wcs]\n"
     ]
    },
    {
     "name": "stdout",
     "output_type": "stream",
     "text": [
      "1 18 EIT (after masking) 5.183247440515072 2604.1624484029417\n",
      "EUVI (after masking) 8.20819e-11 25.694334\n",
      "INFO: Obtained JPL HORIZONS location for SOHO (spacecraft) (-21) [sunpy.coordinates.ephemeris]\n"
     ]
    },
    {
     "name": "stderr",
     "output_type": "stream",
     "text": [
      "WARNING: VerifyWarning: Card is too long, comment will be truncated. [astropy.io.fits.card]\n",
      "WARNING: FITSFixedWarning: CROTA = 2.13576811348E-07 \n",
      "keyword looks very much like CROTAn but isn't. [astropy.wcs.wcs]\n",
      "WARNING: VerifyWarning: Card is too long, comment will be truncated. [astropy.io.fits.card]\n",
      "WARNING: FITSFixedWarning: CROTA = 2.13576811348E-07 \n",
      "keyword looks very much like CROTAn but isn't. [astropy.wcs.wcs]\n"
     ]
    },
    {
     "name": "stdout",
     "output_type": "stream",
     "text": [
      "1 19 EIT (after masking) 8.682758322106372 3266.559763613689\n",
      "EUVI (after masking) 2.046363e-12 50.77772\n",
      "INFO: Obtained JPL HORIZONS location for SOHO (spacecraft) (-21) [sunpy.coordinates.ephemeris]\n"
     ]
    },
    {
     "name": "stderr",
     "output_type": "stream",
     "text": [
      "WARNING: VerifyWarning: Card is too long, comment will be truncated. [astropy.io.fits.card]\n",
      "WARNING: FITSFixedWarning: CROTA = 3.66431134324E-08 \n",
      "keyword looks very much like CROTAn but isn't. [astropy.wcs.wcs]\n",
      "WARNING: VerifyWarning: Card is too long, comment will be truncated. [astropy.io.fits.card]\n",
      "WARNING: FITSFixedWarning: CROTA = 3.66431134324E-08 \n",
      "keyword looks very much like CROTAn but isn't. [astropy.wcs.wcs]\n"
     ]
    },
    {
     "name": "stdout",
     "output_type": "stream",
     "text": [
      "1 20 EIT (after masking) 5.3587708777465615 5212.286929730473\n",
      "EUVI (after masking) 3.842615e-11 36.622074\n",
      "INFO: Obtained JPL HORIZONS location for SOHO (spacecraft) (-21) [sunpy.coordinates.ephemeris]\n"
     ]
    },
    {
     "name": "stderr",
     "output_type": "stream",
     "text": [
      "WARNING: VerifyWarning: Card is too long, comment will be truncated. [astropy.io.fits.card]\n",
      "WARNING: FITSFixedWarning: CROTA = 9.41002062937E-08 \n",
      "keyword looks very much like CROTAn but isn't. [astropy.wcs.wcs]\n",
      "WARNING: VerifyWarning: Card is too long, comment will be truncated. [astropy.io.fits.card]\n",
      "WARNING: FITSFixedWarning: CROTA = 9.41002062937E-08 \n",
      "keyword looks very much like CROTAn but isn't. [astropy.wcs.wcs]\n"
     ]
    },
    {
     "name": "stdout",
     "output_type": "stream",
     "text": [
      "1 21 EIT (after masking) 5.56573445195393 2238.25778955996\n",
      "EUVI (after masking) 2.046363e-12 25.9756\n",
      "INFO: Obtained JPL HORIZONS location for SOHO (spacecraft) (-21) [sunpy.coordinates.ephemeris]\n"
     ]
    },
    {
     "name": "stderr",
     "output_type": "stream",
     "text": [
      "WARNING: VerifyWarning: Card is too long, comment will be truncated. [astropy.io.fits.card]\n",
      "WARNING: FITSFixedWarning: CROTA = 1.66817670788E-11 \n",
      "keyword looks very much like CROTAn but isn't. [astropy.wcs.wcs]\n",
      "WARNING: VerifyWarning: Card is too long, comment will be truncated. [astropy.io.fits.card]\n",
      "WARNING: FITSFixedWarning: CROTA = 1.66817670788E-11 \n",
      "keyword looks very much like CROTAn but isn't. [astropy.wcs.wcs]\n"
     ]
    },
    {
     "name": "stdout",
     "output_type": "stream",
     "text": [
      "1 22 EIT (after masking) 5.423201539027154 1176.587139430924\n",
      "EUVI (after masking) 2.046363e-12 29.13207\n",
      "INFO: Obtained JPL HORIZONS location for SOHO (spacecraft) (-21) [sunpy.coordinates.ephemeris]\n"
     ]
    },
    {
     "name": "stderr",
     "output_type": "stream",
     "text": [
      "WARNING: VerifyWarning: Card is too long, comment will be truncated. [astropy.io.fits.card]\n",
      "WARNING: FITSFixedWarning: CROTA = 1.92152445067E-08 \n",
      "keyword looks very much like CROTAn but isn't. [astropy.wcs.wcs]\n",
      "WARNING: VerifyWarning: Card is too long, comment will be truncated. [astropy.io.fits.card]\n",
      "WARNING: FITSFixedWarning: CROTA = 1.92152445067E-08 \n",
      "keyword looks very much like CROTAn but isn't. [astropy.wcs.wcs]\n"
     ]
    },
    {
     "name": "stdout",
     "output_type": "stream",
     "text": [
      "1 23 EIT (after masking) 3.0936913125086045 1597.1886507844508\n",
      "EUVI (after masking) 3.274181e-11 66.71905\n",
      "INFO: Obtained JPL HORIZONS location for SOHO (spacecraft) (-21) [sunpy.coordinates.ephemeris]\n"
     ]
    },
    {
     "name": "stderr",
     "output_type": "stream",
     "text": [
      "WARNING: VerifyWarning: Card is too long, comment will be truncated. [astropy.io.fits.card]\n",
      "WARNING: FITSFixedWarning: CROTA = 1.69530167682E-08 \n",
      "keyword looks very much like CROTAn but isn't. [astropy.wcs.wcs]\n",
      "WARNING: VerifyWarning: Card is too long, comment will be truncated. [astropy.io.fits.card]\n",
      "WARNING: FITSFixedWarning: CROTA = 1.69530167682E-08 \n",
      "keyword looks very much like CROTAn but isn't. [astropy.wcs.wcs]\n"
     ]
    },
    {
     "name": "stdout",
     "output_type": "stream",
     "text": [
      "1 24 EIT (after masking) 4.776692861927617 2669.76734794561\n",
      "EUVI (after masking) 4.604317e-12 36.91245\n",
      "INFO: Obtained JPL HORIZONS location for SOHO (spacecraft) (-21) [sunpy.coordinates.ephemeris]\n"
     ]
    },
    {
     "name": "stderr",
     "output_type": "stream",
     "text": [
      "WARNING: VerifyWarning: Card is too long, comment will be truncated. [astropy.io.fits.card]\n",
      "WARNING: FITSFixedWarning: CROTA = 2.39315844475E-07 \n",
      "keyword looks very much like CROTAn but isn't. [astropy.wcs.wcs]\n",
      "WARNING: VerifyWarning: Card is too long, comment will be truncated. [astropy.io.fits.card]\n",
      "WARNING: FITSFixedWarning: CROTA = 2.39315844475E-07 \n",
      "keyword looks very much like CROTAn but isn't. [astropy.wcs.wcs]\n"
     ]
    },
    {
     "name": "stdout",
     "output_type": "stream",
     "text": [
      "1 25 EIT (after masking) 4.061189839551125 1097.47319975315\n",
      "EUVI (after masking) 5.684342e-14 26.815857\n",
      "INFO: Obtained JPL HORIZONS location for SOHO (spacecraft) (-21) [sunpy.coordinates.ephemeris]\n"
     ]
    },
    {
     "name": "stderr",
     "output_type": "stream",
     "text": [
      "WARNING: VerifyWarning: Card is too long, comment will be truncated. [astropy.io.fits.card]\n",
      "WARNING: FITSFixedWarning: CROTA = -1.54153470433E-07 \n",
      "keyword looks very much like CROTAn but isn't. [astropy.wcs.wcs]\n",
      "WARNING: VerifyWarning: Card is too long, comment will be truncated. [astropy.io.fits.card]\n",
      "WARNING: FITSFixedWarning: CROTA = -1.54153470433E-07 \n",
      "keyword looks very much like CROTAn but isn't. [astropy.wcs.wcs]\n"
     ]
    },
    {
     "name": "stdout",
     "output_type": "stream",
     "text": [
      "1 26 EIT (after masking) 9.880717216425627 10435.333107177985\n",
      "EUVI (after masking) 2.0520474e-11 33.1174\n",
      "INFO: Obtained JPL HORIZONS location for SOHO (spacecraft) (-21) [sunpy.coordinates.ephemeris]\n"
     ]
    },
    {
     "name": "stderr",
     "output_type": "stream",
     "text": [
      "WARNING: FITSFixedWarning: CROTA = -1.71605964994E-07 \n",
      "keyword looks very much like CROTAn but isn't. [astropy.wcs.wcs]\n",
      "WARNING: FITSFixedWarning: CROTA = -1.71605964994E-07 \n",
      "keyword looks very much like CROTAn but isn't. [astropy.wcs.wcs]\n"
     ]
    },
    {
     "name": "stdout",
     "output_type": "stream",
     "text": [
      "1 27 EIT (after masking) 5.046663842352339 2142.5383387468587\n",
      "EUVI (after masking) 8.20819e-11 24.520615\n",
      "INFO: Obtained JPL HORIZONS location for SOHO (spacecraft) (-21) [sunpy.coordinates.ephemeris]\n"
     ]
    },
    {
     "name": "stderr",
     "output_type": "stream",
     "text": [
      "WARNING: VerifyWarning: Card is too long, comment will be truncated. [astropy.io.fits.card]\n",
      "WARNING: FITSFixedWarning: CROTA = -3.16900868214E-07 \n",
      "keyword looks very much like CROTAn but isn't. [astropy.wcs.wcs]\n",
      "WARNING: VerifyWarning: Card is too long, comment will be truncated. [astropy.io.fits.card]\n",
      "WARNING: FITSFixedWarning: CROTA = -3.16900868214E-07 \n",
      "keyword looks very much like CROTAn but isn't. [astropy.wcs.wcs]\n"
     ]
    },
    {
     "name": "stdout",
     "output_type": "stream",
     "text": [
      "1 28 EIT (after masking) 4.147369566829851 1379.647250862122\n",
      "EUVI (after masking) 4.456524e-11 30.50594\n",
      "INFO: Obtained JPL HORIZONS location for SOHO (spacecraft) (-21) [sunpy.coordinates.ephemeris]\n"
     ]
    },
    {
     "name": "stderr",
     "output_type": "stream",
     "text": [
      "WARNING: VerifyWarning: Card is too long, comment will be truncated. [astropy.io.fits.card]\n",
      "WARNING: FITSFixedWarning: CROTA = -3.2820953777E-07 \n",
      "keyword looks very much like CROTAn but isn't. [astropy.wcs.wcs]\n",
      "WARNING: VerifyWarning: Card is too long, comment will be truncated. [astropy.io.fits.card]\n",
      "WARNING: FITSFixedWarning: CROTA = -3.2820953777E-07 \n",
      "keyword looks very much like CROTAn but isn't. [astropy.wcs.wcs]\n"
     ]
    },
    {
     "name": "stdout",
     "output_type": "stream",
     "text": [
      "1 29 EIT (after masking) 0.8347039854209021 1330.5105784488437\n",
      "EUVI (after masking) 9.555379e-11 30.11181\n",
      "INFO: Obtained JPL HORIZONS location for SOHO (spacecraft) (-21) [sunpy.coordinates.ephemeris]\n"
     ]
    },
    {
     "name": "stderr",
     "output_type": "stream",
     "text": [
      "WARNING: VerifyWarning: Card is too long, comment will be truncated. [astropy.io.fits.card]\n",
      "WARNING: FITSFixedWarning: CROTA = -2.9202574936E-07 \n",
      "keyword looks very much like CROTAn but isn't. [astropy.wcs.wcs]\n",
      "WARNING: VerifyWarning: Card is too long, comment will be truncated. [astropy.io.fits.card]\n",
      "WARNING: FITSFixedWarning: CROTA = -2.9202574936E-07 \n",
      "keyword looks very much like CROTAn but isn't. [astropy.wcs.wcs]\n"
     ]
    },
    {
     "name": "stdout",
     "output_type": "stream",
     "text": [
      "1 30 EIT (after masking) 2.2674923942313 1598.75788915308\n",
      "EUVI (after masking) 1.4210855e-12 49.75471\n",
      "INFO: Obtained JPL HORIZONS location for SOHO (spacecraft) (-21) [sunpy.coordinates.ephemeris]\n"
     ]
    },
    {
     "name": "stderr",
     "output_type": "stream",
     "text": [
      "WARNING: FITSFixedWarning: CROTA = -2.8456073764E-07 \n",
      "keyword looks very much like CROTAn but isn't. [astropy.wcs.wcs]\n",
      "WARNING: FITSFixedWarning: CROTA = -2.8456073764E-07 \n",
      "keyword looks very much like CROTAn but isn't. [astropy.wcs.wcs]\n"
     ]
    },
    {
     "name": "stdout",
     "output_type": "stream",
     "text": [
      "1 31 EIT (after masking) 1.5851613014791834 21366.94200394669\n",
      "EUVI (after masking) 9.094947e-13 27.789764\n",
      "INFO: Obtained JPL HORIZONS location for SOHO (spacecraft) (-21) [sunpy.coordinates.ephemeris]\n"
     ]
    },
    {
     "name": "stderr",
     "output_type": "stream",
     "text": [
      "WARNING: FITSFixedWarning: CROTA = -2.67361953021E-07 \n",
      "keyword looks very much like CROTAn but isn't. [astropy.wcs.wcs]\n",
      "WARNING: FITSFixedWarning: CROTA = -2.67361953021E-07 \n",
      "keyword looks very much like CROTAn but isn't. [astropy.wcs.wcs]\n"
     ]
    },
    {
     "name": "stdout",
     "output_type": "stream",
     "text": [
      "1 32 EIT (after masking) 2.691417609100914 1755.59227754366\n",
      "EUVI (after masking) 1.4210855e-12 29.190208\n",
      "INFO: Obtained JPL HORIZONS location for SOHO (spacecraft) (-21) [sunpy.coordinates.ephemeris]\n"
     ]
    },
    {
     "name": "stderr",
     "output_type": "stream",
     "text": [
      "WARNING: VerifyWarning: Card is too long, comment will be truncated. [astropy.io.fits.card]\n",
      "WARNING: FITSFixedWarning: CROTA = -2.6539258613E-07 \n",
      "keyword looks very much like CROTAn but isn't. [astropy.wcs.wcs]\n",
      "WARNING: VerifyWarning: Card is too long, comment will be truncated. [astropy.io.fits.card]\n",
      "WARNING: FITSFixedWarning: CROTA = -2.6539258613E-07 \n",
      "keyword looks very much like CROTAn but isn't. [astropy.wcs.wcs]\n"
     ]
    },
    {
     "name": "stdout",
     "output_type": "stream",
     "text": [
      "1 33 EIT (after masking) 6.708554037218189 7795.067434385692\n",
      "EUVI (after masking) 6.266987e-10 55.92252\n",
      "INFO: Obtained JPL HORIZONS location for SOHO (spacecraft) (-21) [sunpy.coordinates.ephemeris]\n"
     ]
    },
    {
     "name": "stderr",
     "output_type": "stream",
     "text": [
      "WARNING: VerifyWarning: Card is too long, comment will be truncated. [astropy.io.fits.card]\n",
      "WARNING: FITSFixedWarning: CROTA = -3.07748442729E-07 \n",
      "keyword looks very much like CROTAn but isn't. [astropy.wcs.wcs]\n",
      "WARNING: VerifyWarning: Card is too long, comment will be truncated. [astropy.io.fits.card]\n",
      "WARNING: FITSFixedWarning: CROTA = -3.07748442729E-07 \n",
      "keyword looks very much like CROTAn but isn't. [astropy.wcs.wcs]\n"
     ]
    },
    {
     "name": "stdout",
     "output_type": "stream",
     "text": [
      "1 34 EIT (after masking) 5.918329920887243 1614.1505133130927\n",
      "EUVI (after masking) 8.185452e-12 30.782043\n",
      "INFO: Obtained JPL HORIZONS location for SOHO (spacecraft) (-21) [sunpy.coordinates.ephemeris]\n"
     ]
    },
    {
     "name": "stderr",
     "output_type": "stream",
     "text": [
      "WARNING: VerifyWarning: Card is too long, comment will be truncated. [astropy.io.fits.card]\n",
      "WARNING: FITSFixedWarning: CROTA = -1.51603279708E-07 \n",
      "keyword looks very much like CROTAn but isn't. [astropy.wcs.wcs]\n",
      "WARNING: VerifyWarning: Card is too long, comment will be truncated. [astropy.io.fits.card]\n",
      "WARNING: FITSFixedWarning: CROTA = -1.51603279708E-07 \n",
      "keyword looks very much like CROTAn but isn't. [astropy.wcs.wcs]\n"
     ]
    },
    {
     "name": "stdout",
     "output_type": "stream",
     "text": [
      "1 35 EIT (after masking) 0.4012476150157477 1129.8276242759482\n",
      "EUVI (after masking) 8.20819e-11 24.938978\n",
      "INFO: Obtained JPL HORIZONS location for SOHO (spacecraft) (-21) [sunpy.coordinates.ephemeris]\n"
     ]
    },
    {
     "name": "stderr",
     "output_type": "stream",
     "text": [
      "WARNING: VerifyWarning: Card is too long, comment will be truncated. [astropy.io.fits.card]\n",
      "WARNING: FITSFixedWarning: CROTA = -2.26666670322E-07 \n",
      "keyword looks very much like CROTAn but isn't. [astropy.wcs.wcs]\n",
      "WARNING: VerifyWarning: Card is too long, comment will be truncated. [astropy.io.fits.card]\n",
      "WARNING: FITSFixedWarning: CROTA = -2.26666670322E-07 \n",
      "keyword looks very much like CROTAn but isn't. [astropy.wcs.wcs]\n"
     ]
    },
    {
     "name": "stdout",
     "output_type": "stream",
     "text": [
      "1 36 EIT (after masking) 1.1314475285078212 2941.2002170005144\n",
      "EUVI (after masking) 2.8654767e-10 66.51122\n",
      "INFO: Obtained JPL HORIZONS location for SOHO (spacecraft) (-21) [sunpy.coordinates.ephemeris]\n"
     ]
    },
    {
     "name": "stderr",
     "output_type": "stream",
     "text": [
      "WARNING: VerifyWarning: Card is too long, comment will be truncated. [astropy.io.fits.card]\n",
      "WARNING: FITSFixedWarning: CROTA = -1.45041942456E-07 \n",
      "keyword looks very much like CROTAn but isn't. [astropy.wcs.wcs]\n",
      "WARNING: VerifyWarning: Card is too long, comment will be truncated. [astropy.io.fits.card]\n",
      "WARNING: FITSFixedWarning: CROTA = -1.45041942456E-07 \n",
      "keyword looks very much like CROTAn but isn't. [astropy.wcs.wcs]\n"
     ]
    },
    {
     "name": "stdout",
     "output_type": "stream",
     "text": [
      "1 37 EIT (after masking) 1.2116711388867922 2601.65868941757\n",
      "EUVI (after masking) 2.5067948e-11 25.871393\n",
      "INFO: Obtained JPL HORIZONS location for SOHO (spacecraft) (-21) [sunpy.coordinates.ephemeris]\n"
     ]
    },
    {
     "name": "stderr",
     "output_type": "stream",
     "text": [
      "WARNING: VerifyWarning: Card is too long, comment will be truncated. [astropy.io.fits.card]\n",
      "WARNING: FITSFixedWarning: CROTA = -5.52821569078E-09 \n",
      "keyword looks very much like CROTAn but isn't. [astropy.wcs.wcs]\n",
      "WARNING: VerifyWarning: Card is too long, comment will be truncated. [astropy.io.fits.card]\n",
      "WARNING: FITSFixedWarning: CROTA = -5.52821569078E-09 \n",
      "keyword looks very much like CROTAn but isn't. [astropy.wcs.wcs]\n"
     ]
    },
    {
     "name": "stdout",
     "output_type": "stream",
     "text": [
      "1 38 EIT (after masking) 4.087063457568851 1123.7980770407707\n",
      "EUVI (after masking) 6.190248e-11 38.831387\n",
      "INFO: Obtained JPL HORIZONS location for SOHO (spacecraft) (-21) [sunpy.coordinates.ephemeris]\n"
     ]
    },
    {
     "name": "stderr",
     "output_type": "stream",
     "text": [
      "WARNING: VerifyWarning: Card is too long, comment will be truncated. [astropy.io.fits.card]\n",
      "WARNING: FITSFixedWarning: CROTA = 1.27405236361E-09 \n",
      "keyword looks very much like CROTAn but isn't. [astropy.wcs.wcs]\n",
      "WARNING: VerifyWarning: Card is too long, comment will be truncated. [astropy.io.fits.card]\n",
      "WARNING: FITSFixedWarning: CROTA = 1.27405236361E-09 \n",
      "keyword looks very much like CROTAn but isn't. [astropy.wcs.wcs]\n"
     ]
    },
    {
     "name": "stdout",
     "output_type": "stream",
     "text": [
      "1 39 EIT (after masking) 2.957498876112445 2207.6184253944416\n",
      "EUVI (after masking) 5.684342e-12 31.012001\n",
      "INFO: Obtained JPL HORIZONS location for SOHO (spacecraft) (-21) [sunpy.coordinates.ephemeris]\n"
     ]
    },
    {
     "name": "stderr",
     "output_type": "stream",
     "text": [
      "WARNING: VerifyWarning: Card is too long, comment will be truncated. [astropy.io.fits.card]\n",
      "WARNING: FITSFixedWarning: CROTA = 2.08968459481E-08 \n",
      "keyword looks very much like CROTAn but isn't. [astropy.wcs.wcs]\n",
      "WARNING: VerifyWarning: Card is too long, comment will be truncated. [astropy.io.fits.card]\n",
      "WARNING: FITSFixedWarning: CROTA = 2.08968459481E-08 \n",
      "keyword looks very much like CROTAn but isn't. [astropy.wcs.wcs]\n"
     ]
    },
    {
     "name": "stdout",
     "output_type": "stream",
     "text": [
      "1 40 EIT (after masking) 3.6042064015394653 3144.3183334313467\n",
      "EUVI (after masking) 2.4760993e-10 27.307007\n",
      "INFO: Obtained JPL HORIZONS location for SOHO (spacecraft) (-21) [sunpy.coordinates.ephemeris]\n"
     ]
    },
    {
     "name": "stderr",
     "output_type": "stream",
     "text": [
      "WARNING: VerifyWarning: Card is too long, comment will be truncated. [astropy.io.fits.card]\n",
      "WARNING: FITSFixedWarning: CROTA = 1.67968063902E-07 / updated 2009-04-13T17:01:15.781 \n",
      "keyword looks very much like CROTAn but isn't. [astropy.wcs.wcs]\n",
      "WARNING: VerifyWarning: Card is too long, comment will be truncated. [astropy.io.fits.card]\n",
      "WARNING: FITSFixedWarning: CROTA = 1.67968063902E-07 / updated 2009-04-13T17:01:15.781 \n",
      "keyword looks very much like CROTAn but isn't. [astropy.wcs.wcs]\n"
     ]
    },
    {
     "name": "stdout",
     "output_type": "stream",
     "text": [
      "1 41 EIT (after masking) 4.1211468572062975 2434.730570720761\n",
      "EUVI (after masking) 2.7512215e-11 38.69124\n",
      "INFO: Obtained JPL HORIZONS location for SOHO (spacecraft) (-21) [sunpy.coordinates.ephemeris]\n"
     ]
    },
    {
     "name": "stderr",
     "output_type": "stream",
     "text": [
      "WARNING: VerifyWarning: Card is too long, comment will be truncated. [astropy.io.fits.card]\n",
      "WARNING: FITSFixedWarning: CROTA = 3.66714335343E-07 / updated 2009-04-07T14:20:15.482 \n",
      "keyword looks very much like CROTAn but isn't. [astropy.wcs.wcs]\n",
      "WARNING: VerifyWarning: Card is too long, comment will be truncated. [astropy.io.fits.card]\n",
      "WARNING: FITSFixedWarning: CROTA = 3.66714335343E-07 / updated 2009-04-07T14:20:15.482 \n",
      "keyword looks very much like CROTAn but isn't. [astropy.wcs.wcs]\n"
     ]
    },
    {
     "name": "stdout",
     "output_type": "stream",
     "text": [
      "1 42 EIT (after masking) 4.900141249188143 2565.5091822579393\n",
      "EUVI (after masking) 2.7512215e-11 29.350128\n",
      "INFO: Obtained JPL HORIZONS location for SOHO (spacecraft) (-21) [sunpy.coordinates.ephemeris]\n"
     ]
    },
    {
     "name": "stderr",
     "output_type": "stream",
     "text": [
      "WARNING: FITSFixedWarning: CROTA = -2.83226931685E-06 / updated 2009-04-07T13:13:10.154 \n",
      "keyword looks very much like CROTAn but isn't. [astropy.wcs.wcs]\n",
      "WARNING: FITSFixedWarning: CROTA = -2.83226931685E-06 / updated 2009-04-07T13:13:10.154 \n",
      "keyword looks very much like CROTAn but isn't. [astropy.wcs.wcs]\n"
     ]
    },
    {
     "name": "stdout",
     "output_type": "stream",
     "text": [
      "INFO: Obtained JPL HORIZONS location for SOHO (spacecraft) (-21) [sunpy.coordinates.ephemeris]\n"
     ]
    },
    {
     "name": "stderr",
     "output_type": "stream",
     "text": [
      "WARNING: VerifyWarning: Card is too long, comment will be truncated. [astropy.io.fits.card]\n",
      "WARNING: FITSFixedWarning: CROTA = 3.22107611694E-07 / updated 2009-04-07T13:04:26.367 \n",
      "keyword looks very much like CROTAn but isn't. [astropy.wcs.wcs]\n",
      "WARNING: VerifyWarning: Card is too long, comment will be truncated. [astropy.io.fits.card]\n",
      "WARNING: FITSFixedWarning: CROTA = 3.22107611694E-07 / updated 2009-04-07T13:04:26.367 \n",
      "keyword looks very much like CROTAn but isn't. [astropy.wcs.wcs]\n"
     ]
    },
    {
     "name": "stdout",
     "output_type": "stream",
     "text": [
      "1 43 EIT (after masking) 4.807317259993435 1444.0204292723497\n",
      "EUVI (after masking) 1.537046e-10 31.396255\n",
      "INFO: Obtained JPL HORIZONS location for SOHO (spacecraft) (-21) [sunpy.coordinates.ephemeris]\n"
     ]
    },
    {
     "name": "stderr",
     "output_type": "stream",
     "text": [
      "WARNING: VerifyWarning: Card is too long, comment will be truncated. [astropy.io.fits.card]\n",
      "WARNING: FITSFixedWarning: CROTA = 6.34770177754E-07 / updated 2009-04-07T12:26:19.429 \n",
      "keyword looks very much like CROTAn but isn't. [astropy.wcs.wcs]\n",
      "WARNING: VerifyWarning: Card is too long, comment will be truncated. [astropy.io.fits.card]\n",
      "WARNING: FITSFixedWarning: CROTA = 6.34770177754E-07 / updated 2009-04-07T12:26:19.429 \n",
      "keyword looks very much like CROTAn but isn't. [astropy.wcs.wcs]\n"
     ]
    },
    {
     "name": "stdout",
     "output_type": "stream",
     "text": [
      "1 44 EIT (after masking) 4.585942443435182 2653.3435265422463\n",
      "EUVI (after masking) 5.684342e-14 27.689869\n",
      "INFO: Obtained JPL HORIZONS location for SOHO (spacecraft) (-21) [sunpy.coordinates.ephemeris]\n"
     ]
    },
    {
     "name": "stderr",
     "output_type": "stream",
     "text": [
      "WARNING: VerifyWarning: Card is too long, comment will be truncated. [astropy.io.fits.card]\n",
      "WARNING: FITSFixedWarning: CROTA = 7.00732572412E-07 / updated 2009-04-07T11:59:47.746 \n",
      "keyword looks very much like CROTAn but isn't. [astropy.wcs.wcs]\n",
      "WARNING: VerifyWarning: Card is too long, comment will be truncated. [astropy.io.fits.card]\n",
      "WARNING: FITSFixedWarning: CROTA = 7.00732572412E-07 / updated 2009-04-07T11:59:47.746 \n",
      "keyword looks very much like CROTAn but isn't. [astropy.wcs.wcs]\n"
     ]
    },
    {
     "name": "stdout",
     "output_type": "stream",
     "text": [
      "1 45 EIT (after masking) 6.788902759692265 13854.274168210932\n",
      "EUVI (after masking) 1.4210855e-12 26.299488\n",
      "INFO: Obtained JPL HORIZONS location for SOHO (spacecraft) (-21) [sunpy.coordinates.ephemeris]\n"
     ]
    },
    {
     "name": "stderr",
     "output_type": "stream",
     "text": [
      "WARNING: VerifyWarning: Card is too long, comment will be truncated. [astropy.io.fits.card]\n",
      "WARNING: FITSFixedWarning: CROTA = 3.46167193577E-07 / updated 2009-04-07T12:01:07.819 \n",
      "keyword looks very much like CROTAn but isn't. [astropy.wcs.wcs]\n",
      "WARNING: VerifyWarning: Card is too long, comment will be truncated. [astropy.io.fits.card]\n",
      "WARNING: FITSFixedWarning: CROTA = 3.46167193577E-07 / updated 2009-04-07T12:01:07.819 \n",
      "keyword looks very much like CROTAn but isn't. [astropy.wcs.wcs]\n"
     ]
    },
    {
     "name": "stdout",
     "output_type": "stream",
     "text": [
      "1 46 EIT (after masking) 3.9143311822905638 2146.8135595015865\n",
      "EUVI (after masking) 1.4551915e-11 71.814766\n",
      "INFO: Obtained JPL HORIZONS location for SOHO (spacecraft) (-21) [sunpy.coordinates.ephemeris]\n"
     ]
    },
    {
     "name": "stderr",
     "output_type": "stream",
     "text": [
      "WARNING: VerifyWarning: Card is too long, comment will be truncated. [astropy.io.fits.card]\n",
      "WARNING: FITSFixedWarning: CROTA = 4.7676351933E-07 / updated 2009-04-07T11:52:28.841 \n",
      "keyword looks very much like CROTAn but isn't. [astropy.wcs.wcs]\n",
      "WARNING: VerifyWarning: Card is too long, comment will be truncated. [astropy.io.fits.card]\n",
      "WARNING: FITSFixedWarning: CROTA = 4.7676351933E-07 / updated 2009-04-07T11:52:28.841 \n",
      "keyword looks very much like CROTAn but isn't. [astropy.wcs.wcs]\n"
     ]
    },
    {
     "name": "stdout",
     "output_type": "stream",
     "text": [
      "1 47 EIT (after masking) 5.234814464197525 5441.363906715059\n",
      "EUVI (after masking) 1.2789769e-11 27.648489\n",
      "INFO: Obtained JPL HORIZONS location for SOHO (spacecraft) (-21) [sunpy.coordinates.ephemeris]\n"
     ]
    },
    {
     "name": "stderr",
     "output_type": "stream",
     "text": [
      "WARNING: FITSFixedWarning: CROTA = 6.34929046228E-07 / updated 2009-04-07T11:44:01.452 \n",
      "keyword looks very much like CROTAn but isn't. [astropy.wcs.wcs]\n",
      "WARNING: FITSFixedWarning: CROTA = 6.34929046228E-07 / updated 2009-04-07T11:44:01.452 \n",
      "keyword looks very much like CROTAn but isn't. [astropy.wcs.wcs]\n"
     ]
    },
    {
     "name": "stdout",
     "output_type": "stream",
     "text": [
      "1 48 EIT (after masking) 4.239303052709271 2262.7972947147696\n",
      "EUVI (after masking) 2.2737368e-13 26.387554\n",
      "INFO: Obtained JPL HORIZONS location for SOHO (spacecraft) (-21) [sunpy.coordinates.ephemeris]\n"
     ]
    },
    {
     "name": "stderr",
     "output_type": "stream",
     "text": [
      "WARNING: VerifyWarning: Card is too long, comment will be truncated. [astropy.io.fits.card]\n",
      "WARNING: FITSFixedWarning: CROTA = 4.1223492353E-07 / updated 2009-04-07T11:11:14.510 \n",
      "keyword looks very much like CROTAn but isn't. [astropy.wcs.wcs]\n",
      "WARNING: VerifyWarning: Card is too long, comment will be truncated. [astropy.io.fits.card]\n",
      "WARNING: FITSFixedWarning: CROTA = 4.1223492353E-07 / updated 2009-04-07T11:11:14.510 \n",
      "keyword looks very much like CROTAn but isn't. [astropy.wcs.wcs]\n"
     ]
    },
    {
     "name": "stdout",
     "output_type": "stream",
     "text": [
      "1 49 EIT (after masking) 6.717759138263735 5271.038897130951\n",
      "EUVI (after masking) 2.2737368e-13 42.28477\n",
      "INFO: Obtained JPL HORIZONS location for SOHO (spacecraft) (-21) [sunpy.coordinates.ephemeris]\n"
     ]
    },
    {
     "name": "stderr",
     "output_type": "stream",
     "text": [
      "WARNING: VerifyWarning: Card is too long, comment will be truncated. [astropy.io.fits.card]\n",
      "WARNING: FITSFixedWarning: CROTA = 6.2582672733E-07 / updated 2009-02-02T20:48:40.067 \n",
      "keyword looks very much like CROTAn but isn't. [astropy.wcs.wcs]\n",
      "WARNING: VerifyWarning: Card is too long, comment will be truncated. [astropy.io.fits.card]\n",
      "WARNING: FITSFixedWarning: CROTA = 6.2582672733E-07 / updated 2009-02-02T20:48:40.067 \n",
      "keyword looks very much like CROTAn but isn't. [astropy.wcs.wcs]\n"
     ]
    },
    {
     "name": "stdout",
     "output_type": "stream",
     "text": [
      "1 50 EIT (after masking) 5.43809210978764 12131.125089108142\n",
      "EUVI (after masking) 5.684342e-14 38.62245\n",
      "INFO: Obtained JPL HORIZONS location for SOHO (spacecraft) (-21) [sunpy.coordinates.ephemeris]\n"
     ]
    },
    {
     "name": "stderr",
     "output_type": "stream",
     "text": [
      "WARNING: VerifyWarning: Card is too long, comment will be truncated. [astropy.io.fits.card]\n",
      "WARNING: FITSFixedWarning: CROTA = 3.81434947627E-07 / updated 2009-02-02T20:39:59.289 \n",
      "keyword looks very much like CROTAn but isn't. [astropy.wcs.wcs]\n",
      "WARNING: VerifyWarning: Card is too long, comment will be truncated. [astropy.io.fits.card]\n",
      "WARNING: FITSFixedWarning: CROTA = 3.81434947627E-07 / updated 2009-02-02T20:39:59.289 \n",
      "keyword looks very much like CROTAn but isn't. [astropy.wcs.wcs]\n"
     ]
    },
    {
     "name": "stdout",
     "output_type": "stream",
     "text": [
      "1 51 EIT (after masking) 5.0666873439907185 7859.767164728538\n",
      "EUVI (after masking) 3.842615e-11 27.036863\n",
      "INFO: Obtained JPL HORIZONS location for SOHO (spacecraft) (-21) [sunpy.coordinates.ephemeris]\n"
     ]
    },
    {
     "name": "stderr",
     "output_type": "stream",
     "text": [
      "WARNING: VerifyWarning: Card is too long, comment will be truncated. [astropy.io.fits.card]\n",
      "WARNING: FITSFixedWarning: CROTA = 7.77285279696E-07 / updated 2009-02-02T20:33:24.364 \n",
      "keyword looks very much like CROTAn but isn't. [astropy.wcs.wcs]\n",
      "WARNING: VerifyWarning: Card is too long, comment will be truncated. [astropy.io.fits.card]\n",
      "WARNING: FITSFixedWarning: CROTA = 7.77285279696E-07 / updated 2009-02-02T20:33:24.364 \n",
      "keyword looks very much like CROTAn but isn't. [astropy.wcs.wcs]\n"
     ]
    },
    {
     "name": "stdout",
     "output_type": "stream",
     "text": [
      "1 52 EIT (after masking) 6.324996393284861 3684.8491752054174\n",
      "EUVI (after masking) 9.555379e-11 26.419834\n",
      "INFO: Obtained JPL HORIZONS location for SOHO (spacecraft) (-21) [sunpy.coordinates.ephemeris]\n"
     ]
    },
    {
     "name": "stderr",
     "output_type": "stream",
     "text": [
      "WARNING: VerifyWarning: Card is too long, comment will be truncated. [astropy.io.fits.card]\n",
      "WARNING: FITSFixedWarning: CROTA = 3.09417924171E-07 / updated 2009-02-02T20:13:33.410 \n",
      "keyword looks very much like CROTAn but isn't. [astropy.wcs.wcs]\n",
      "WARNING: VerifyWarning: Card is too long, comment will be truncated. [astropy.io.fits.card]\n",
      "WARNING: FITSFixedWarning: CROTA = 3.09417924171E-07 / updated 2009-02-02T20:13:33.410 \n",
      "keyword looks very much like CROTAn but isn't. [astropy.wcs.wcs]\n"
     ]
    },
    {
     "name": "stdout",
     "output_type": "stream",
     "text": [
      "1 53 EIT (after masking) 6.257902477644161 9226.516921475293\n",
      "EUVI (after masking) 4.604317e-12 36.694736\n",
      "INFO: Obtained JPL HORIZONS location for SOHO (spacecraft) (-21) [sunpy.coordinates.ephemeris]\n"
     ]
    },
    {
     "name": "stderr",
     "output_type": "stream",
     "text": [
      "WARNING: VerifyWarning: Card is too long, comment will be truncated. [astropy.io.fits.card]\n",
      "WARNING: FITSFixedWarning: CROTA = 1.7603366409E-07 / updated 2009-02-02T19:37:21.461 \n",
      "keyword looks very much like CROTAn but isn't. [astropy.wcs.wcs]\n",
      "WARNING: VerifyWarning: Card is too long, comment will be truncated. [astropy.io.fits.card]\n",
      "WARNING: FITSFixedWarning: CROTA = 1.7603366409E-07 / updated 2009-02-02T19:37:21.461 \n",
      "keyword looks very much like CROTAn but isn't. [astropy.wcs.wcs]\n"
     ]
    },
    {
     "name": "stdout",
     "output_type": "stream",
     "text": [
      "1 54 EIT (after masking) 4.905804760437073 2003.1176505857927\n",
      "EUVI (after masking) 6.8780537e-12 25.66221\n",
      "INFO: Obtained JPL HORIZONS location for SOHO (spacecraft) (-21) [sunpy.coordinates.ephemeris]\n"
     ]
    },
    {
     "name": "stderr",
     "output_type": "stream",
     "text": [
      "WARNING: FITSFixedWarning: CROTA = -2.17546562098E-07 \n",
      "keyword looks very much like CROTAn but isn't. [astropy.wcs.wcs]\n",
      "WARNING: FITSFixedWarning: CROTA = -2.17546562098E-07 \n",
      "keyword looks very much like CROTAn but isn't. [astropy.wcs.wcs]\n"
     ]
    },
    {
     "name": "stdout",
     "output_type": "stream",
     "text": [
      "1 55 EIT (after masking) 6.029743778888959 2209.6454278769907\n",
      "EUVI (after masking) 2.046363e-12 27.790266\n",
      "INFO: Obtained JPL HORIZONS location for SOHO (spacecraft) (-21) [sunpy.coordinates.ephemeris]\n"
     ]
    },
    {
     "name": "stderr",
     "output_type": "stream",
     "text": [
      "WARNING: VerifyWarning: Card is too long, comment will be truncated. [astropy.io.fits.card]\n",
      "WARNING: FITSFixedWarning: CROTA = -3.43622197363E-08 \n",
      "keyword looks very much like CROTAn but isn't. [astropy.wcs.wcs]\n",
      "WARNING: VerifyWarning: Card is too long, comment will be truncated. [astropy.io.fits.card]\n",
      "WARNING: FITSFixedWarning: CROTA = -3.43622197363E-08 \n",
      "keyword looks very much like CROTAn but isn't. [astropy.wcs.wcs]\n"
     ]
    },
    {
     "name": "stdout",
     "output_type": "stream",
     "text": [
      "1 56 EIT (after masking) 6.275688792986409 4992.175560411153\n",
      "EUVI (after masking) 2.046363e-12 46.966972\n",
      "INFO: Obtained JPL HORIZONS location for SOHO (spacecraft) (-21) [sunpy.coordinates.ephemeris]\n"
     ]
    },
    {
     "name": "stderr",
     "output_type": "stream",
     "text": [
      "WARNING: VerifyWarning: Card is too long, comment will be truncated. [astropy.io.fits.card]\n",
      "WARNING: FITSFixedWarning: CROTA = 6.76317846171E-09 \n",
      "keyword looks very much like CROTAn but isn't. [astropy.wcs.wcs]\n",
      "WARNING: VerifyWarning: Card is too long, comment will be truncated. [astropy.io.fits.card]\n",
      "WARNING: FITSFixedWarning: CROTA = 6.76317846171E-09 \n",
      "keyword looks very much like CROTAn but isn't. [astropy.wcs.wcs]\n"
     ]
    },
    {
     "name": "stdout",
     "output_type": "stream",
     "text": [
      "1 57 EIT (after masking) 5.122458184140022 8110.324398114237\n",
      "EUVI (after masking) 3.5527137e-11 25.696383\n",
      "INFO: Obtained JPL HORIZONS location for SOHO (spacecraft) (-21) [sunpy.coordinates.ephemeris]\n"
     ]
    },
    {
     "name": "stderr",
     "output_type": "stream",
     "text": [
      "WARNING: VerifyWarning: Card is too long, comment will be truncated. [astropy.io.fits.card]\n",
      "WARNING: FITSFixedWarning: CROTA = 1.37496405372E-07 \n",
      "keyword looks very much like CROTAn but isn't. [astropy.wcs.wcs]\n",
      "WARNING: VerifyWarning: Card is too long, comment will be truncated. [astropy.io.fits.card]\n",
      "WARNING: FITSFixedWarning: CROTA = 1.37496405372E-07 \n",
      "keyword looks very much like CROTAn but isn't. [astropy.wcs.wcs]\n"
     ]
    },
    {
     "name": "stdout",
     "output_type": "stream",
     "text": [
      "1 58 EIT (after masking) 5.825760859033996 1362.3169070673728\n",
      "EUVI (after masking) 1.4551915e-11 44.137554\n",
      "INFO: Obtained JPL HORIZONS location for SOHO (spacecraft) (-21) [sunpy.coordinates.ephemeris]\n"
     ]
    },
    {
     "name": "stderr",
     "output_type": "stream",
     "text": [
      "WARNING: FITSFixedWarning: CROTA = 3.00786524576E-08 \n",
      "keyword looks very much like CROTAn but isn't. [astropy.wcs.wcs]\n",
      "WARNING: FITSFixedWarning: CROTA = 3.00786524576E-08 \n",
      "keyword looks very much like CROTAn but isn't. [astropy.wcs.wcs]\n"
     ]
    },
    {
     "name": "stdout",
     "output_type": "stream",
     "text": [
      "1 59 EIT (after masking) 5.3576529503886565 3166.493832530736\n",
      "EUVI (after masking) 2.0520474e-11 29.86646\n",
      "INFO: Obtained JPL HORIZONS location for SOHO (spacecraft) (-21) [sunpy.coordinates.ephemeris]\n"
     ]
    },
    {
     "name": "stderr",
     "output_type": "stream",
     "text": [
      "WARNING: VerifyWarning: Card is too long, comment will be truncated. [astropy.io.fits.card]\n",
      "WARNING: FITSFixedWarning: CROTA = 5.38083533286E-09 \n",
      "keyword looks very much like CROTAn but isn't. [astropy.wcs.wcs]\n",
      "WARNING: VerifyWarning: Card is too long, comment will be truncated. [astropy.io.fits.card]\n",
      "WARNING: FITSFixedWarning: CROTA = 5.38083533286E-09 \n",
      "keyword looks very much like CROTAn but isn't. [astropy.wcs.wcs]\n"
     ]
    },
    {
     "name": "stdout",
     "output_type": "stream",
     "text": [
      "1 60 EIT (after masking) 4.691561971210095 1051.8940713720126\n",
      "EUVI (after masking) 3.637979e-12 28.027826\n",
      "INFO: Obtained JPL HORIZONS location for SOHO (spacecraft) (-21) [sunpy.coordinates.ephemeris]\n"
     ]
    },
    {
     "name": "stderr",
     "output_type": "stream",
     "text": [
      "WARNING: VerifyWarning: Card is too long, comment will be truncated. [astropy.io.fits.card]\n",
      "WARNING: FITSFixedWarning: CROTA = -1.01728848456E-07 \n",
      "keyword looks very much like CROTAn but isn't. [astropy.wcs.wcs]\n",
      "WARNING: VerifyWarning: Card is too long, comment will be truncated. [astropy.io.fits.card]\n",
      "WARNING: FITSFixedWarning: CROTA = -1.01728848456E-07 \n",
      "keyword looks very much like CROTAn but isn't. [astropy.wcs.wcs]\n"
     ]
    },
    {
     "name": "stdout",
     "output_type": "stream",
     "text": [
      "1 61 EIT (after masking) 4.2928781740389566 2502.651318979547\n",
      "EUVI (after masking) 6.8780537e-12 23.518785\n",
      "INFO: Obtained JPL HORIZONS location for SOHO (spacecraft) (-21) [sunpy.coordinates.ephemeris]\n"
     ]
    },
    {
     "name": "stderr",
     "output_type": "stream",
     "text": [
      "WARNING: VerifyWarning: Card is too long, comment will be truncated. [astropy.io.fits.card]\n",
      "WARNING: FITSFixedWarning: CROTA = 1.77611707564E-07 \n",
      "keyword looks very much like CROTAn but isn't. [astropy.wcs.wcs]\n",
      "WARNING: VerifyWarning: Card is too long, comment will be truncated. [astropy.io.fits.card]\n",
      "WARNING: FITSFixedWarning: CROTA = 1.77611707564E-07 \n",
      "keyword looks very much like CROTAn but isn't. [astropy.wcs.wcs]\n"
     ]
    },
    {
     "name": "stdout",
     "output_type": "stream",
     "text": [
      "1 62 EIT (after masking) 3.7108553883949766 9748.925129840882\n",
      "EUVI (after masking) 1.5967316e-10 31.129929\n",
      "INFO: Obtained JPL HORIZONS location for SOHO (spacecraft) (-21) [sunpy.coordinates.ephemeris]\n"
     ]
    },
    {
     "name": "stderr",
     "output_type": "stream",
     "text": [
      "WARNING: VerifyWarning: Card is too long, comment will be truncated. [astropy.io.fits.card]\n",
      "WARNING: FITSFixedWarning: CROTA = -2.09608401747E-07 \n",
      "keyword looks very much like CROTAn but isn't. [astropy.wcs.wcs]\n",
      "WARNING: VerifyWarning: Card is too long, comment will be truncated. [astropy.io.fits.card]\n",
      "WARNING: FITSFixedWarning: CROTA = -2.09608401747E-07 \n",
      "keyword looks very much like CROTAn but isn't. [astropy.wcs.wcs]\n"
     ]
    },
    {
     "name": "stdout",
     "output_type": "stream",
     "text": [
      "1 63 EIT (after masking) 4.78078505459415 2185.512809020223\n",
      "EUVI (after masking) 2.2737368e-13 33.95825\n",
      "INFO: Obtained JPL HORIZONS location for SOHO (spacecraft) (-21) [sunpy.coordinates.ephemeris]\n"
     ]
    },
    {
     "name": "stderr",
     "output_type": "stream",
     "text": [
      "WARNING: VerifyWarning: Card is too long, comment will be truncated. [astropy.io.fits.card]\n",
      "WARNING: FITSFixedWarning: CROTA = -9.96002071929E-08 \n",
      "keyword looks very much like CROTAn but isn't. [astropy.wcs.wcs]\n",
      "WARNING: VerifyWarning: Card is too long, comment will be truncated. [astropy.io.fits.card]\n",
      "WARNING: FITSFixedWarning: CROTA = -9.96002071929E-08 \n",
      "keyword looks very much like CROTAn but isn't. [astropy.wcs.wcs]\n"
     ]
    },
    {
     "name": "stdout",
     "output_type": "stream",
     "text": [
      "1 64 EIT (after masking) 4.570380089397038 6526.747810926705\n",
      "EUVI (after masking) 3.1974423e-10 28.185638\n",
      "INFO: Obtained JPL HORIZONS location for SOHO (spacecraft) (-21) [sunpy.coordinates.ephemeris]\n"
     ]
    },
    {
     "name": "stderr",
     "output_type": "stream",
     "text": [
      "WARNING: VerifyWarning: Card is too long, comment will be truncated. [astropy.io.fits.card]\n",
      "WARNING: FITSFixedWarning: CROTA = 6.44529780658E-08 \n",
      "keyword looks very much like CROTAn but isn't. [astropy.wcs.wcs]\n",
      "WARNING: VerifyWarning: Card is too long, comment will be truncated. [astropy.io.fits.card]\n",
      "WARNING: FITSFixedWarning: CROTA = 6.44529780658E-08 \n",
      "keyword looks very much like CROTAn but isn't. [astropy.wcs.wcs]\n"
     ]
    },
    {
     "name": "stdout",
     "output_type": "stream",
     "text": [
      "1 65 EIT (after masking) 5.207231163539775 2234.941051152263\n",
      "EUVI (after masking) 3.1974423e-10 32.11199\n",
      "INFO: Obtained JPL HORIZONS location for SOHO (spacecraft) (-21) [sunpy.coordinates.ephemeris]\n"
     ]
    },
    {
     "name": "stderr",
     "output_type": "stream",
     "text": [
      "WARNING: VerifyWarning: Card is too long, comment will be truncated. [astropy.io.fits.card]\n",
      "WARNING: FITSFixedWarning: CROTA = -3.56347891195E-08 \n",
      "keyword looks very much like CROTAn but isn't. [astropy.wcs.wcs]\n",
      "WARNING: VerifyWarning: Card is too long, comment will be truncated. [astropy.io.fits.card]\n",
      "WARNING: FITSFixedWarning: CROTA = -3.56347891195E-08 \n",
      "keyword looks very much like CROTAn but isn't. [astropy.wcs.wcs]\n"
     ]
    },
    {
     "name": "stdout",
     "output_type": "stream",
     "text": [
      "1 66 EIT (after masking) 3.2527077940480615 1154.3666271692816\n",
      "EUVI (after masking) 1.1461907e-09 35.260315\n",
      "INFO: Obtained JPL HORIZONS location for SOHO (spacecraft) (-21) [sunpy.coordinates.ephemeris]\n"
     ]
    },
    {
     "name": "stderr",
     "output_type": "stream",
     "text": [
      "WARNING: VerifyWarning: Card is too long, comment will be truncated. [astropy.io.fits.card]\n",
      "WARNING: FITSFixedWarning: CROTA = 8.61635679472000E-09 \n",
      "keyword looks very much like CROTAn but isn't. [astropy.wcs.wcs]\n",
      "WARNING: VerifyWarning: Card is too long, comment will be truncated. [astropy.io.fits.card]\n",
      "WARNING: FITSFixedWarning: CROTA = 8.61635679472000E-09 \n",
      "keyword looks very much like CROTAn but isn't. [astropy.wcs.wcs]\n"
     ]
    },
    {
     "name": "stdout",
     "output_type": "stream",
     "text": [
      "1 67 EIT (after masking) 5.282188587963865 19392.536382413145\n",
      "EUVI (after masking) 2.2737368e-13 24.60346\n",
      "INFO: Obtained JPL HORIZONS location for SOHO (spacecraft) (-21) [sunpy.coordinates.ephemeris]\n"
     ]
    },
    {
     "name": "stderr",
     "output_type": "stream",
     "text": [
      "WARNING: VerifyWarning: Card is too long, comment will be truncated. [astropy.io.fits.card]\n",
      "WARNING: FITSFixedWarning: CROTA = 3.70852952514E-10 \n",
      "keyword looks very much like CROTAn but isn't. [astropy.wcs.wcs]\n",
      "WARNING: VerifyWarning: Card is too long, comment will be truncated. [astropy.io.fits.card]\n",
      "WARNING: FITSFixedWarning: CROTA = 3.70852952514E-10 \n",
      "keyword looks very much like CROTAn but isn't. [astropy.wcs.wcs]\n"
     ]
    },
    {
     "name": "stdout",
     "output_type": "stream",
     "text": [
      "1 68 EIT (after masking) 4.200111520271752 2964.997931747095\n",
      "EUVI (after masking) 4.7072035e-10 24.524317\n",
      "INFO: Obtained JPL HORIZONS location for SOHO (spacecraft) (-21) [sunpy.coordinates.ephemeris]\n"
     ]
    },
    {
     "name": "stderr",
     "output_type": "stream",
     "text": [
      "WARNING: VerifyWarning: Card is too long, comment will be truncated. [astropy.io.fits.card]\n",
      "WARNING: FITSFixedWarning: CROTA = 2.52887420726E-09 \n",
      "keyword looks very much like CROTAn but isn't. [astropy.wcs.wcs]\n",
      "WARNING: VerifyWarning: Card is too long, comment will be truncated. [astropy.io.fits.card]\n",
      "WARNING: FITSFixedWarning: CROTA = 2.52887420726E-09 \n",
      "keyword looks very much like CROTAn but isn't. [astropy.wcs.wcs]\n"
     ]
    },
    {
     "name": "stdout",
     "output_type": "stream",
     "text": [
      "1 69 EIT (after masking) 1.2240597990882935 1854.8217870041592\n",
      "EUVI (after masking) 3.637979e-12 29.664978\n",
      "INFO: Obtained JPL HORIZONS location for SOHO (spacecraft) (-21) [sunpy.coordinates.ephemeris]\n"
     ]
    },
    {
     "name": "stderr",
     "output_type": "stream",
     "text": [
      "WARNING: VerifyWarning: Card is too long, comment will be truncated. [astropy.io.fits.card]\n",
      "WARNING: FITSFixedWarning: CROTA = 4.82690658554E-08 \n",
      "keyword looks very much like CROTAn but isn't. [astropy.wcs.wcs]\n",
      "WARNING: VerifyWarning: Card is too long, comment will be truncated. [astropy.io.fits.card]\n",
      "WARNING: FITSFixedWarning: CROTA = 4.82690658554E-08 \n",
      "keyword looks very much like CROTAn but isn't. [astropy.wcs.wcs]\n"
     ]
    },
    {
     "name": "stdout",
     "output_type": "stream",
     "text": [
      "1 70 EIT (after masking) 7.915386614321704 4474.846660875608\n",
      "EUVI (after masking) 1.8417268e-11 31.917091\n",
      "INFO: Obtained JPL HORIZONS location for SOHO (spacecraft) (-21) [sunpy.coordinates.ephemeris]\n"
     ]
    },
    {
     "name": "stderr",
     "output_type": "stream",
     "text": [
      "WARNING: VerifyWarning: Card is too long, comment will be truncated. [astropy.io.fits.card]\n",
      "WARNING: FITSFixedWarning: CROTA = -2.2420310053E-09 \n",
      "keyword looks very much like CROTAn but isn't. [astropy.wcs.wcs]\n",
      "WARNING: VerifyWarning: Card is too long, comment will be truncated. [astropy.io.fits.card]\n",
      "WARNING: FITSFixedWarning: CROTA = -2.2420310053E-09 \n",
      "keyword looks very much like CROTAn but isn't. [astropy.wcs.wcs]\n"
     ]
    },
    {
     "name": "stdout",
     "output_type": "stream",
     "text": [
      "1 71 EIT (after masking) 7.976858260305747 4150.447792153666\n",
      "EUVI (after masking) 4.7805315e-11 22.495886\n",
      "INFO: Obtained JPL HORIZONS location for SOHO (spacecraft) (-21) [sunpy.coordinates.ephemeris]\n"
     ]
    },
    {
     "name": "stderr",
     "output_type": "stream",
     "text": [
      "WARNING: VerifyWarning: Card is too long, comment will be truncated. [astropy.io.fits.card]\n",
      "WARNING: FITSFixedWarning: CROTA = -3.54708395989E-09 \n",
      "keyword looks very much like CROTAn but isn't. [astropy.wcs.wcs]\n",
      "WARNING: VerifyWarning: Card is too long, comment will be truncated. [astropy.io.fits.card]\n",
      "WARNING: FITSFixedWarning: CROTA = -3.54708395989E-09 \n",
      "keyword looks very much like CROTAn but isn't. [astropy.wcs.wcs]\n"
     ]
    },
    {
     "name": "stdout",
     "output_type": "stream",
     "text": [
      "1 72 EIT (after masking) 7.496711979869706 6710.2768976094\n",
      "EUVI (after masking) 5.1159077e-11 27.161175\n",
      "INFO: Obtained JPL HORIZONS location for SOHO (spacecraft) (-21) [sunpy.coordinates.ephemeris]\n"
     ]
    },
    {
     "name": "stderr",
     "output_type": "stream",
     "text": [
      "WARNING: VerifyWarning: Card is too long, comment will be truncated. [astropy.io.fits.card]\n",
      "WARNING: FITSFixedWarning: CROTA = -1.21879772941E-08 \n",
      "keyword looks very much like CROTAn but isn't. [astropy.wcs.wcs]\n",
      "WARNING: VerifyWarning: Card is too long, comment will be truncated. [astropy.io.fits.card]\n",
      "WARNING: FITSFixedWarning: CROTA = -1.21879772941E-08 \n",
      "keyword looks very much like CROTAn but isn't. [astropy.wcs.wcs]\n"
     ]
    },
    {
     "name": "stdout",
     "output_type": "stream",
     "text": [
      "1 73 EIT (after masking) 6.450279384884458 2105.761222083067\n",
      "EUVI (after masking) 1.0027179e-10 33.52145\n",
      "INFO: Obtained JPL HORIZONS location for SOHO (spacecraft) (-21) [sunpy.coordinates.ephemeris]\n"
     ]
    },
    {
     "name": "stderr",
     "output_type": "stream",
     "text": [
      "WARNING: FITSFixedWarning: CROTA = -3.38898820118E-08 \n",
      "keyword looks very much like CROTAn but isn't. [astropy.wcs.wcs]\n",
      "WARNING: FITSFixedWarning: CROTA = -3.38898820118E-08 \n",
      "keyword looks very much like CROTAn but isn't. [astropy.wcs.wcs]\n"
     ]
    },
    {
     "name": "stdout",
     "output_type": "stream",
     "text": [
      "1 74 EIT (after masking) 7.586244601628706 12070.869722995585\n",
      "EUVI (after masking) 2.185061e-10 30.417807\n",
      "INFO: Obtained JPL HORIZONS location for SOHO (spacecraft) (-21) [sunpy.coordinates.ephemeris]\n"
     ]
    },
    {
     "name": "stderr",
     "output_type": "stream",
     "text": [
      "WARNING: VerifyWarning: Card is too long, comment will be truncated. [astropy.io.fits.card]\n",
      "WARNING: FITSFixedWarning: CROTA = -5.79125694067E-08 \n",
      "keyword looks very much like CROTAn but isn't. [astropy.wcs.wcs]\n",
      "WARNING: VerifyWarning: Card is too long, comment will be truncated. [astropy.io.fits.card]\n",
      "WARNING: FITSFixedWarning: CROTA = -5.79125694067E-08 \n",
      "keyword looks very much like CROTAn but isn't. [astropy.wcs.wcs]\n"
     ]
    },
    {
     "name": "stdout",
     "output_type": "stream",
     "text": [
      "1 75 EIT (after masking) 6.035487117663698 3182.8214865581795\n",
      "EUVI (after masking) 5.684342e-12 26.468714\n",
      "INFO: Obtained JPL HORIZONS location for SOHO (spacecraft) (-21) [sunpy.coordinates.ephemeris]\n"
     ]
    },
    {
     "name": "stderr",
     "output_type": "stream",
     "text": [
      "WARNING: VerifyWarning: Card is too long, comment will be truncated. [astropy.io.fits.card]\n",
      "WARNING: FITSFixedWarning: CROTA = 7.47328021688999E-09 \n",
      "keyword looks very much like CROTAn but isn't. [astropy.wcs.wcs]\n",
      "WARNING: VerifyWarning: Card is too long, comment will be truncated. [astropy.io.fits.card]\n",
      "WARNING: FITSFixedWarning: CROTA = 7.47328021688999E-09 \n",
      "keyword looks very much like CROTAn but isn't. [astropy.wcs.wcs]\n"
     ]
    },
    {
     "name": "stdout",
     "output_type": "stream",
     "text": [
      "1 76 EIT (after masking) 8.34698591414055 16647.159096487434\n",
      "EUVI (after masking) 4.456524e-11 32.04633\n",
      "INFO: Obtained JPL HORIZONS location for SOHO (spacecraft) (-21) [sunpy.coordinates.ephemeris]\n"
     ]
    },
    {
     "name": "stderr",
     "output_type": "stream",
     "text": [
      "WARNING: VerifyWarning: Card is too long, comment will be truncated. [astropy.io.fits.card]\n",
      "WARNING: FITSFixedWarning: CROTA = -2.44907907287E-08 \n",
      "keyword looks very much like CROTAn but isn't. [astropy.wcs.wcs]\n",
      "WARNING: VerifyWarning: Card is too long, comment will be truncated. [astropy.io.fits.card]\n",
      "WARNING: FITSFixedWarning: CROTA = -2.44907907287E-08 \n",
      "keyword looks very much like CROTAn but isn't. [astropy.wcs.wcs]\n"
     ]
    },
    {
     "name": "stdout",
     "output_type": "stream",
     "text": [
      "1 77 EIT (after masking) 8.149092991891374 14070.238241195164\n",
      "EUVI (after masking) 5.4626526e-11 26.219257\n",
      "INFO: Obtained JPL HORIZONS location for SOHO (spacecraft) (-21) [sunpy.coordinates.ephemeris]\n"
     ]
    },
    {
     "name": "stderr",
     "output_type": "stream",
     "text": [
      "WARNING: VerifyWarning: Card is too long, comment will be truncated. [astropy.io.fits.card]\n",
      "WARNING: FITSFixedWarning: CROTA = -1.19586927028E-08 \n",
      "keyword looks very much like CROTAn but isn't. [astropy.wcs.wcs]\n",
      "WARNING: VerifyWarning: Card is too long, comment will be truncated. [astropy.io.fits.card]\n",
      "WARNING: FITSFixedWarning: CROTA = -1.19586927028E-08 \n",
      "keyword looks very much like CROTAn but isn't. [astropy.wcs.wcs]\n"
     ]
    },
    {
     "name": "stdout",
     "output_type": "stream",
     "text": [
      "1 78 EIT (after masking) 7.838412929083578 9383.912129304548\n",
      "EUVI (after masking) 9.555379e-11 44.423504\n",
      "INFO: Obtained JPL HORIZONS location for SOHO (spacecraft) (-21) [sunpy.coordinates.ephemeris]\n"
     ]
    },
    {
     "name": "stderr",
     "output_type": "stream",
     "text": [
      "WARNING: VerifyWarning: Card is too long, comment will be truncated. [astropy.io.fits.card]\n",
      "WARNING: FITSFixedWarning: CROTA = -1.8050770656E-08 \n",
      "keyword looks very much like CROTAn but isn't. [astropy.wcs.wcs]\n",
      "WARNING: VerifyWarning: Card is too long, comment will be truncated. [astropy.io.fits.card]\n",
      "WARNING: FITSFixedWarning: CROTA = -1.8050770656E-08 \n",
      "keyword looks very much like CROTAn but isn't. [astropy.wcs.wcs]\n"
     ]
    },
    {
     "name": "stdout",
     "output_type": "stream",
     "text": [
      "1 79 EIT (after masking) 4.569564091205196 2194.191797257124\n",
      "EUVI (after masking) 2.2737368e-11 31.174332\n",
      "INFO: Obtained JPL HORIZONS location for SOHO (spacecraft) (-21) [sunpy.coordinates.ephemeris]\n"
     ]
    },
    {
     "name": "stderr",
     "output_type": "stream",
     "text": [
      "WARNING: VerifyWarning: Card is too long, comment will be truncated. [astropy.io.fits.card]\n",
      "WARNING: FITSFixedWarning: CROTA = -4.98602945598E-08 \n",
      "keyword looks very much like CROTAn but isn't. [astropy.wcs.wcs]\n",
      "WARNING: VerifyWarning: Card is too long, comment will be truncated. [astropy.io.fits.card]\n",
      "WARNING: FITSFixedWarning: CROTA = -4.98602945598E-08 \n",
      "keyword looks very much like CROTAn but isn't. [astropy.wcs.wcs]\n"
     ]
    },
    {
     "name": "stdout",
     "output_type": "stream",
     "text": [
      "1 80 EIT (after masking) 4.197098563890055 11023.425109686075\n",
      "EUVI (after masking) 1.6427748e-11 31.372044\n",
      "INFO: Obtained JPL HORIZONS location for SOHO (spacecraft) (-21) [sunpy.coordinates.ephemeris]\n"
     ]
    },
    {
     "name": "stderr",
     "output_type": "stream",
     "text": [
      "WARNING: VerifyWarning: Card is too long, comment will be truncated. [astropy.io.fits.card]\n",
      "WARNING: FITSFixedWarning: CROTA = -3.87165295379E-08 \n",
      "keyword looks very much like CROTAn but isn't. [astropy.wcs.wcs]\n",
      "WARNING: VerifyWarning: Card is too long, comment will be truncated. [astropy.io.fits.card]\n",
      "WARNING: FITSFixedWarning: CROTA = -3.87165295379E-08 \n",
      "keyword looks very much like CROTAn but isn't. [astropy.wcs.wcs]\n"
     ]
    },
    {
     "name": "stdout",
     "output_type": "stream",
     "text": [
      "1 81 EIT (after masking) 4.7413900675992995 1472.5384523424864\n",
      "EUVI (after masking) 1.4551915e-11 23.850018\n",
      "INFO: Obtained JPL HORIZONS location for SOHO (spacecraft) (-21) [sunpy.coordinates.ephemeris]\n"
     ]
    },
    {
     "name": "stderr",
     "output_type": "stream",
     "text": [
      "WARNING: VerifyWarning: Card is too long, comment will be truncated. [astropy.io.fits.card]\n",
      "WARNING: FITSFixedWarning: CROTA = -1.48588015669E-07 \n",
      "keyword looks very much like CROTAn but isn't. [astropy.wcs.wcs]\n",
      "WARNING: VerifyWarning: Card is too long, comment will be truncated. [astropy.io.fits.card]\n",
      "WARNING: FITSFixedWarning: CROTA = -1.48588015669E-07 \n",
      "keyword looks very much like CROTAn but isn't. [astropy.wcs.wcs]\n"
     ]
    },
    {
     "name": "stdout",
     "output_type": "stream",
     "text": [
      "1 82 EIT (after masking) 5.9725962064526525 4436.815412274068\n",
      "EUVI (after masking) 5.1159077e-13 29.779928\n",
      "INFO: Obtained JPL HORIZONS location for SOHO (spacecraft) (-21) [sunpy.coordinates.ephemeris]\n"
     ]
    },
    {
     "name": "stderr",
     "output_type": "stream",
     "text": [
      "WARNING: VerifyWarning: Card is too long, comment will be truncated. [astropy.io.fits.card]\n",
      "WARNING: FITSFixedWarning: CROTA = 7.87460594509E-08 \n",
      "keyword looks very much like CROTAn but isn't. [astropy.wcs.wcs]\n",
      "WARNING: VerifyWarning: Card is too long, comment will be truncated. [astropy.io.fits.card]\n",
      "WARNING: FITSFixedWarning: CROTA = 7.87460594509E-08 \n",
      "keyword looks very much like CROTAn but isn't. [astropy.wcs.wcs]\n"
     ]
    },
    {
     "name": "stdout",
     "output_type": "stream",
     "text": [
      "1 83 EIT (after masking) 7.302987236614293 15674.770558555989\n",
      "EUVI (after masking) 2.7512215e-11 27.458588\n",
      "INFO: Obtained JPL HORIZONS location for SOHO (spacecraft) (-21) [sunpy.coordinates.ephemeris]\n"
     ]
    },
    {
     "name": "stderr",
     "output_type": "stream",
     "text": [
      "WARNING: VerifyWarning: Card is too long, comment will be truncated. [astropy.io.fits.card]\n",
      "WARNING: FITSFixedWarning: CROTA = -2.25265122111E-07 \n",
      "keyword looks very much like CROTAn but isn't. [astropy.wcs.wcs]\n",
      "WARNING: VerifyWarning: Card is too long, comment will be truncated. [astropy.io.fits.card]\n",
      "WARNING: FITSFixedWarning: CROTA = -2.25265122111E-07 \n",
      "keyword looks very much like CROTAn but isn't. [astropy.wcs.wcs]\n"
     ]
    },
    {
     "name": "stdout",
     "output_type": "stream",
     "text": [
      "1 84 EIT (after masking) 1.8130640153697537 1387.2322558334088\n",
      "EUVI (after masking) 6.571099e-11 113.56867\n",
      "INFO: Obtained JPL HORIZONS location for SOHO (spacecraft) (-21) [sunpy.coordinates.ephemeris]\n"
     ]
    },
    {
     "name": "stderr",
     "output_type": "stream",
     "text": [
      "WARNING: FITSFixedWarning: CROTA = -2.42006041873E-08 \n",
      "keyword looks very much like CROTAn but isn't. [astropy.wcs.wcs]\n",
      "WARNING: FITSFixedWarning: CROTA = -2.42006041873E-08 \n",
      "keyword looks very much like CROTAn but isn't. [astropy.wcs.wcs]\n"
     ]
    },
    {
     "name": "stdout",
     "output_type": "stream",
     "text": [
      "1 85 EIT (after masking) 4.820137576324459 11606.260482883445\n",
      "EUVI (after masking) 1e-26 32.07549\n",
      "INFO: Obtained JPL HORIZONS location for SOHO (spacecraft) (-21) [sunpy.coordinates.ephemeris]\n"
     ]
    },
    {
     "name": "stderr",
     "output_type": "stream",
     "text": [
      "WARNING: VerifyWarning: Card is too long, comment will be truncated. [astropy.io.fits.card]\n",
      "WARNING: FITSFixedWarning: CROTA = 2.52458374206E-08 \n",
      "keyword looks very much like CROTAn but isn't. [astropy.wcs.wcs]\n",
      "WARNING: VerifyWarning: Card is too long, comment will be truncated. [astropy.io.fits.card]\n",
      "WARNING: FITSFixedWarning: CROTA = 2.52458374206E-08 \n",
      "keyword looks very much like CROTAn but isn't. [astropy.wcs.wcs]\n"
     ]
    },
    {
     "name": "stdout",
     "output_type": "stream",
     "text": [
      "1 86 EIT (after masking) 4.912184579251449 1206.3761242198548\n",
      "EUVI (after masking) 2.7512215e-11 40.545704\n",
      "INFO: Obtained JPL HORIZONS location for SOHO (spacecraft) (-21) [sunpy.coordinates.ephemeris]\n"
     ]
    },
    {
     "name": "stderr",
     "output_type": "stream",
     "text": [
      "WARNING: VerifyWarning: Card is too long, comment will be truncated. [astropy.io.fits.card]\n",
      "WARNING: FITSFixedWarning: CROTA = -5.39888542761E-08 \n",
      "keyword looks very much like CROTAn but isn't. [astropy.wcs.wcs]\n",
      "WARNING: VerifyWarning: Card is too long, comment will be truncated. [astropy.io.fits.card]\n",
      "WARNING: FITSFixedWarning: CROTA = -5.39888542761E-08 \n",
      "keyword looks very much like CROTAn but isn't. [astropy.wcs.wcs]\n"
     ]
    },
    {
     "name": "stdout",
     "output_type": "stream",
     "text": [
      "1 87 EIT (after masking) 5.0794002966642955 1175.892278994885\n",
      "EUVI (after masking) 1.4210855e-12 34.293518\n",
      "INFO: Obtained JPL HORIZONS location for SOHO (spacecraft) (-21) [sunpy.coordinates.ephemeris]\n"
     ]
    },
    {
     "name": "stderr",
     "output_type": "stream",
     "text": [
      "WARNING: VerifyWarning: Card is too long, comment will be truncated. [astropy.io.fits.card]\n",
      "WARNING: FITSFixedWarning: CROTA = -2.76021686396E-07 \n",
      "keyword looks very much like CROTAn but isn't. [astropy.wcs.wcs]\n",
      "WARNING: VerifyWarning: Card is too long, comment will be truncated. [astropy.io.fits.card]\n",
      "WARNING: FITSFixedWarning: CROTA = -2.76021686396E-07 \n",
      "keyword looks very much like CROTAn but isn't. [astropy.wcs.wcs]\n"
     ]
    },
    {
     "name": "stdout",
     "output_type": "stream",
     "text": [
      "1 88 EIT (after masking) 6.733251061283192 1884.436310461237\n",
      "EUVI (after masking) 4.2041393e-10 25.219198\n",
      "INFO: Obtained JPL HORIZONS location for SOHO (spacecraft) (-21) [sunpy.coordinates.ephemeris]\n"
     ]
    },
    {
     "name": "stderr",
     "output_type": "stream",
     "text": [
      "WARNING: FITSFixedWarning: CROTA = 8.36488300848000E-09 \n",
      "keyword looks very much like CROTAn but isn't. [astropy.wcs.wcs]\n",
      "WARNING: FITSFixedWarning: CROTA = 8.36488300848000E-09 \n",
      "keyword looks very much like CROTAn but isn't. [astropy.wcs.wcs]\n"
     ]
    },
    {
     "name": "stdout",
     "output_type": "stream",
     "text": [
      "INFO: Obtained JPL HORIZONS location for SOHO (spacecraft) (-21) [sunpy.coordinates.ephemeris]\n"
     ]
    },
    {
     "name": "stderr",
     "output_type": "stream",
     "text": [
      "WARNING: VerifyWarning: Card is too long, comment will be truncated. [astropy.io.fits.card]\n",
      "WARNING: FITSFixedWarning: CROTA = 4.67034313445E-08 \n",
      "keyword looks very much like CROTAn but isn't. [astropy.wcs.wcs]\n",
      "WARNING: VerifyWarning: Card is too long, comment will be truncated. [astropy.io.fits.card]\n",
      "WARNING: FITSFixedWarning: CROTA = 4.67034313445E-08 \n",
      "keyword looks very much like CROTAn but isn't. [astropy.wcs.wcs]\n"
     ]
    },
    {
     "name": "stdout",
     "output_type": "stream",
     "text": [
      "1 89 EIT (after masking) 4.8721393154620065 10007.811172948024\n",
      "EUVI (after masking) 7.366907e-11 31.7349\n",
      "INFO: Obtained JPL HORIZONS location for SOHO (spacecraft) (-21) [sunpy.coordinates.ephemeris]\n"
     ]
    },
    {
     "name": "stderr",
     "output_type": "stream",
     "text": [
      "WARNING: VerifyWarning: Card is too long, comment will be truncated. [astropy.io.fits.card]\n",
      "WARNING: FITSFixedWarning: CROTA = 7.15874692858E-09 \n",
      "keyword looks very much like CROTAn but isn't. [astropy.wcs.wcs]\n",
      "WARNING: VerifyWarning: Card is too long, comment will be truncated. [astropy.io.fits.card]\n",
      "WARNING: FITSFixedWarning: CROTA = 7.15874692858E-09 \n",
      "keyword looks very much like CROTAn but isn't. [astropy.wcs.wcs]\n"
     ]
    },
    {
     "name": "stdout",
     "output_type": "stream",
     "text": [
      "1 90 EIT (after masking) 5.119334804943971 3832.6863419957394\n",
      "EUVI (after masking) 7.366907e-11 27.454239\n",
      "INFO: Obtained JPL HORIZONS location for SOHO (spacecraft) (-21) [sunpy.coordinates.ephemeris]\n"
     ]
    },
    {
     "name": "stderr",
     "output_type": "stream",
     "text": [
      "WARNING: VerifyWarning: Card is too long, comment will be truncated. [astropy.io.fits.card]\n",
      "WARNING: FITSFixedWarning: CROTA = 3.11870040903E-08 \n",
      "keyword looks very much like CROTAn but isn't. [astropy.wcs.wcs]\n",
      "WARNING: VerifyWarning: Card is too long, comment will be truncated. [astropy.io.fits.card]\n",
      "WARNING: FITSFixedWarning: CROTA = 3.11870040903E-08 \n",
      "keyword looks very much like CROTAn but isn't. [astropy.wcs.wcs]\n"
     ]
    },
    {
     "name": "stdout",
     "output_type": "stream",
     "text": [
      "1 91 EIT (after masking) 6.452570499185659 1878.8529781268028\n",
      "EUVI (after masking) 3.637979e-12 29.700674\n",
      "INFO: Obtained JPL HORIZONS location for SOHO (spacecraft) (-21) [sunpy.coordinates.ephemeris]\n"
     ]
    },
    {
     "name": "stderr",
     "output_type": "stream",
     "text": [
      "WARNING: FITSFixedWarning: CROTA = 2.95653737048E-08 \n",
      "keyword looks very much like CROTAn but isn't. [astropy.wcs.wcs]\n",
      "WARNING: FITSFixedWarning: CROTA = 2.95653737048E-08 \n",
      "keyword looks very much like CROTAn but isn't. [astropy.wcs.wcs]\n"
     ]
    },
    {
     "name": "stdout",
     "output_type": "stream",
     "text": [
      "1 92 EIT (after masking) 7.336833076368272 3277.820857421404\n",
      "EUVI (after masking) 1.3096724e-10 29.980324\n",
      "INFO: Obtained JPL HORIZONS location for SOHO (spacecraft) (-21) [sunpy.coordinates.ephemeris]\n"
     ]
    },
    {
     "name": "stderr",
     "output_type": "stream",
     "text": [
      "WARNING: FITSFixedWarning: CROTA = 5.80270689277E-08 \n",
      "keyword looks very much like CROTAn but isn't. [astropy.wcs.wcs]\n",
      "WARNING: FITSFixedWarning: CROTA = 5.80270689277E-08 \n",
      "keyword looks very much like CROTAn but isn't. [astropy.wcs.wcs]\n"
     ]
    },
    {
     "name": "stdout",
     "output_type": "stream",
     "text": [
      "1 93 EIT (after masking) 7.1870555883905105 8799.85882746491\n",
      "EUVI (after masking) 1e-26 29.614532\n",
      "INFO: Obtained JPL HORIZONS location for SOHO (spacecraft) (-21) [sunpy.coordinates.ephemeris]\n"
     ]
    },
    {
     "name": "stderr",
     "output_type": "stream",
     "text": [
      "WARNING: FITSFixedWarning: CROTA = 6.39832800076E-08 \n",
      "keyword looks very much like CROTAn but isn't. [astropy.wcs.wcs]\n",
      "WARNING: FITSFixedWarning: CROTA = 6.39832800076E-08 \n",
      "keyword looks very much like CROTAn but isn't. [astropy.wcs.wcs]\n"
     ]
    },
    {
     "name": "stdout",
     "output_type": "stream",
     "text": [
      "1 94 EIT (after masking) 2.665235405342157 1035.389336809084\n",
      "EUVI (after masking) 8.645884e-11 37.622116\n",
      "304/eit_l1_20070601_121937.fits 304_B/20070601_120615_304eu_L.fts\n",
      "INFO: Obtained JPL HORIZONS location for SOHO (spacecraft) (-21) [sunpy.coordinates.ephemeris]\n"
     ]
    },
    {
     "name": "stderr",
     "output_type": "stream",
     "text": [
      "WARNING: FITSFixedWarning: CROTA = -2.03834311208E-07 \n",
      "keyword looks very much like CROTAn but isn't. [astropy.wcs.wcs]\n",
      "WARNING: FITSFixedWarning: CROTA = -2.03834311208E-07 \n",
      "keyword looks very much like CROTAn but isn't. [astropy.wcs.wcs]\n"
     ]
    },
    {
     "name": "stdout",
     "output_type": "stream",
     "text": [
      "2 0 EIT (after masking) 13.949438335185118 1498.6047041658603\n",
      "EUVI (after masking) 8.036295e-09 28.49914\n",
      "INFO: Obtained JPL HORIZONS location for SOHO (spacecraft) (-21) [sunpy.coordinates.ephemeris]\n"
     ]
    },
    {
     "name": "stderr",
     "output_type": "stream",
     "text": [
      "WARNING: VerifyWarning: Card is too long, comment will be truncated. [astropy.io.fits.card]\n",
      "WARNING: FITSFixedWarning: CROTA = -1.16374438086E-06 \n",
      "keyword looks very much like CROTAn but isn't. [astropy.wcs.wcs]\n",
      "WARNING: VerifyWarning: Card is too long, comment will be truncated. [astropy.io.fits.card]\n",
      "WARNING: FITSFixedWarning: CROTA = -1.16374438086E-06 \n",
      "keyword looks very much like CROTAn but isn't. [astropy.wcs.wcs]\n"
     ]
    },
    {
     "name": "stdout",
     "output_type": "stream",
     "text": [
      "2 1 EIT (after masking) 13.47750713693878 1931.070032699615\n",
      "EUVI (after masking) 4.0827217e-09 40.487362\n",
      "INFO: Obtained JPL HORIZONS location for SOHO (spacecraft) (-21) [sunpy.coordinates.ephemeris]\n"
     ]
    },
    {
     "name": "stderr",
     "output_type": "stream",
     "text": [
      "WARNING: VerifyWarning: Card is too long, comment will be truncated. [astropy.io.fits.card]\n",
      "WARNING: FITSFixedWarning: CROTA = -2.3276960448E-07 \n",
      "keyword looks very much like CROTAn but isn't. [astropy.wcs.wcs]\n",
      "WARNING: VerifyWarning: Card is too long, comment will be truncated. [astropy.io.fits.card]\n",
      "WARNING: FITSFixedWarning: CROTA = -2.3276960448E-07 \n",
      "keyword looks very much like CROTAn but isn't. [astropy.wcs.wcs]\n"
     ]
    },
    {
     "name": "stdout",
     "output_type": "stream",
     "text": [
      "2 2 EIT (after masking) 15.988451246774114 2017.3222552650743\n",
      "EUVI (after masking) 3.3702463e-08 27.809862\n",
      "INFO: Obtained JPL HORIZONS location for SOHO (spacecraft) (-21) [sunpy.coordinates.ephemeris]\n"
     ]
    },
    {
     "name": "stderr",
     "output_type": "stream",
     "text": [
      "WARNING: FITSFixedWarning: CROTA = 7.21169328699000E-08 \n",
      "keyword looks very much like CROTAn but isn't. [astropy.wcs.wcs]\n",
      "WARNING: FITSFixedWarning: CROTA = 7.21169328699000E-08 \n",
      "keyword looks very much like CROTAn but isn't. [astropy.wcs.wcs]\n"
     ]
    },
    {
     "name": "stdout",
     "output_type": "stream",
     "text": [
      "2 3 EIT (after masking) 9.710816785673801 6109.506156180132\n",
      "EUVI (after masking) 1.11095005e-07 308.4729\n",
      "INFO: Obtained JPL HORIZONS location for SOHO (spacecraft) (-21) [sunpy.coordinates.ephemeris]\n"
     ]
    },
    {
     "name": "stderr",
     "output_type": "stream",
     "text": [
      "WARNING: FITSFixedWarning: CROTA = 1.49582530806E-08 \n",
      "keyword looks very much like CROTAn but isn't. [astropy.wcs.wcs]\n",
      "WARNING: FITSFixedWarning: CROTA = 1.49582530806E-08 \n",
      "keyword looks very much like CROTAn but isn't. [astropy.wcs.wcs]\n"
     ]
    },
    {
     "name": "stdout",
     "output_type": "stream",
     "text": [
      "2 4 EIT (after masking) 11.482812179139724 1153.7867955458876\n",
      "EUVI (after masking) 1.3426188e-08 26.425186\n",
      "INFO: Obtained JPL HORIZONS location for SOHO (spacecraft) (-21) [sunpy.coordinates.ephemeris]\n"
     ]
    },
    {
     "name": "stderr",
     "output_type": "stream",
     "text": [
      "WARNING: FITSFixedWarning: CROTA = 1.09161473194E-07 \n",
      "keyword looks very much like CROTAn but isn't. [astropy.wcs.wcs]\n",
      "WARNING: FITSFixedWarning: CROTA = 1.09161473194E-07 \n",
      "keyword looks very much like CROTAn but isn't. [astropy.wcs.wcs]\n"
     ]
    },
    {
     "name": "stdout",
     "output_type": "stream",
     "text": [
      "2 5 EIT (after masking) 6.524242395987141 1795.2871729528629\n",
      "EUVI (after masking) 3.0332217e-07 24.479721\n",
      "INFO: Obtained JPL HORIZONS location for SOHO (spacecraft) (-21) [sunpy.coordinates.ephemeris]\n"
     ]
    },
    {
     "name": "stderr",
     "output_type": "stream",
     "text": [
      "WARNING: VerifyWarning: Card is too long, comment will be truncated. [astropy.io.fits.card]\n",
      "WARNING: FITSFixedWarning: CROTA = 7.04506142313E-08 \n",
      "keyword looks very much like CROTAn but isn't. [astropy.wcs.wcs]\n",
      "WARNING: VerifyWarning: Card is too long, comment will be truncated. [astropy.io.fits.card]\n",
      "WARNING: FITSFixedWarning: CROTA = 7.04506142313E-08 \n",
      "keyword looks very much like CROTAn but isn't. [astropy.wcs.wcs]\n"
     ]
    },
    {
     "name": "stdout",
     "output_type": "stream",
     "text": [
      "2 6 EIT (after masking) 11.706873889937123 1695.2539756649253\n",
      "EUVI (after masking) 1.6738431e-07 25.330805\n",
      "INFO: Obtained JPL HORIZONS location for SOHO (spacecraft) (-21) [sunpy.coordinates.ephemeris]\n"
     ]
    },
    {
     "name": "stderr",
     "output_type": "stream",
     "text": [
      "WARNING: FITSFixedWarning: CROTA = 9.36207285029E-08 \n",
      "keyword looks very much like CROTAn but isn't. [astropy.wcs.wcs]\n",
      "WARNING: FITSFixedWarning: CROTA = 9.36207285029E-08 \n",
      "keyword looks very much like CROTAn but isn't. [astropy.wcs.wcs]\n"
     ]
    },
    {
     "name": "stdout",
     "output_type": "stream",
     "text": [
      "2 7 EIT (after masking) 9.798778577308813 2731.9048866670296\n",
      "EUVI (after masking) 2.6439238e-08 32.53339\n",
      "INFO: Obtained JPL HORIZONS location for SOHO (spacecraft) (-21) [sunpy.coordinates.ephemeris]\n"
     ]
    },
    {
     "name": "stderr",
     "output_type": "stream",
     "text": [
      "WARNING: FITSFixedWarning: CROTA = 1.02738764163E-07 \n",
      "keyword looks very much like CROTAn but isn't. [astropy.wcs.wcs]\n",
      "WARNING: FITSFixedWarning: CROTA = 1.02738764163E-07 \n",
      "keyword looks very much like CROTAn but isn't. [astropy.wcs.wcs]\n"
     ]
    },
    {
     "name": "stdout",
     "output_type": "stream",
     "text": [
      "2 8 EIT (after masking) 10.799166975568225 4688.274323489554\n",
      "EUVI (after masking) 9.004225e-09 29.290897\n",
      "INFO: Obtained JPL HORIZONS location for SOHO (spacecraft) (-21) [sunpy.coordinates.ephemeris]\n"
     ]
    },
    {
     "name": "stderr",
     "output_type": "stream",
     "text": [
      "WARNING: FITSFixedWarning: CROTA = -1.30901418594E-07 \n",
      "keyword looks very much like CROTAn but isn't. [astropy.wcs.wcs]\n",
      "WARNING: FITSFixedWarning: CROTA = -1.30901418594E-07 \n",
      "keyword looks very much like CROTAn but isn't. [astropy.wcs.wcs]\n"
     ]
    },
    {
     "name": "stdout",
     "output_type": "stream",
     "text": [
      "2 9 EIT (after masking) 10.498626650536375 5578.10659917903\n",
      "EUVI (after masking) 4.087633e-08 34.39199\n",
      "INFO: Obtained JPL HORIZONS location for SOHO (spacecraft) (-21) [sunpy.coordinates.ephemeris]\n"
     ]
    },
    {
     "name": "stderr",
     "output_type": "stream",
     "text": [
      "WARNING: VerifyWarning: Card is too long, comment will be truncated. [astropy.io.fits.card]\n",
      "WARNING: FITSFixedWarning: CROTA = 1.87853890665E-07 \n",
      "keyword looks very much like CROTAn but isn't. [astropy.wcs.wcs]\n",
      "WARNING: VerifyWarning: Card is too long, comment will be truncated. [astropy.io.fits.card]\n",
      "WARNING: FITSFixedWarning: CROTA = 1.87853890665E-07 \n",
      "keyword looks very much like CROTAn but isn't. [astropy.wcs.wcs]\n"
     ]
    },
    {
     "name": "stdout",
     "output_type": "stream",
     "text": [
      "2 10 EIT (after masking) 11.370643379353767 5928.461153943941\n",
      "EUVI (after masking) 1.6575541e-10 23.815863\n",
      "INFO: Obtained JPL HORIZONS location for SOHO (spacecraft) (-21) [sunpy.coordinates.ephemeris]\n"
     ]
    },
    {
     "name": "stderr",
     "output_type": "stream",
     "text": [
      "WARNING: VerifyWarning: Card is too long, comment will be truncated. [astropy.io.fits.card]\n",
      "WARNING: FITSFixedWarning: CROTA = 9.18181033427E-08 \n",
      "keyword looks very much like CROTAn but isn't. [astropy.wcs.wcs]\n",
      "WARNING: VerifyWarning: Card is too long, comment will be truncated. [astropy.io.fits.card]\n",
      "WARNING: FITSFixedWarning: CROTA = 9.18181033427E-08 \n",
      "keyword looks very much like CROTAn but isn't. [astropy.wcs.wcs]\n"
     ]
    },
    {
     "name": "stdout",
     "output_type": "stream",
     "text": [
      "2 11 EIT (after masking) 12.643428589164513 5194.877399251321\n",
      "EUVI (after masking) 8.995835e-08 42.622746\n",
      "INFO: Obtained JPL HORIZONS location for SOHO (spacecraft) (-21) [sunpy.coordinates.ephemeris]\n"
     ]
    },
    {
     "name": "stderr",
     "output_type": "stream",
     "text": [
      "WARNING: FITSFixedWarning: CROTA = 1.89602556766E-07 \n",
      "keyword looks very much like CROTAn but isn't. [astropy.wcs.wcs]\n",
      "WARNING: FITSFixedWarning: CROTA = 1.89602556766E-07 \n",
      "keyword looks very much like CROTAn but isn't. [astropy.wcs.wcs]\n"
     ]
    },
    {
     "name": "stdout",
     "output_type": "stream",
     "text": [
      "2 12 EIT (after masking) 13.077869507971155 3809.6630851970976\n",
      "EUVI (after masking) 3.328978e-09 23.95238\n",
      "INFO: Obtained JPL HORIZONS location for SOHO (spacecraft) (-21) [sunpy.coordinates.ephemeris]\n"
     ]
    },
    {
     "name": "stderr",
     "output_type": "stream",
     "text": [
      "WARNING: FITSFixedWarning: CROTA = -1.06529636668E-07 \n",
      "keyword looks very much like CROTAn but isn't. [astropy.wcs.wcs]\n",
      "WARNING: FITSFixedWarning: CROTA = -1.06529636668E-07 \n",
      "keyword looks very much like CROTAn but isn't. [astropy.wcs.wcs]\n"
     ]
    },
    {
     "name": "stdout",
     "output_type": "stream",
     "text": [
      "2 13 EIT (after masking) 12.217229596261873 1375.6234601149736\n",
      "EUVI (after masking) 7.614517e-09 26.419554\n",
      "INFO: Obtained JPL HORIZONS location for SOHO (spacecraft) (-21) [sunpy.coordinates.ephemeris]\n"
     ]
    },
    {
     "name": "stderr",
     "output_type": "stream",
     "text": [
      "WARNING: FITSFixedWarning: CROTA = 8.13675296030000E-08 \n",
      "keyword looks very much like CROTAn but isn't. [astropy.wcs.wcs]\n",
      "WARNING: FITSFixedWarning: CROTA = 8.13675296030000E-08 \n",
      "keyword looks very much like CROTAn but isn't. [astropy.wcs.wcs]\n"
     ]
    },
    {
     "name": "stdout",
     "output_type": "stream",
     "text": [
      "INFO: Obtained JPL HORIZONS location for SOHO (spacecraft) (-21) [sunpy.coordinates.ephemeris]\n"
     ]
    },
    {
     "name": "stderr",
     "output_type": "stream",
     "text": [
      "WARNING: FITSFixedWarning: CROTA = 1.48423793256E-07 \n",
      "keyword looks very much like CROTAn but isn't. [astropy.wcs.wcs]\n",
      "WARNING: FITSFixedWarning: CROTA = 1.48423793256E-07 \n",
      "keyword looks very much like CROTAn but isn't. [astropy.wcs.wcs]\n"
     ]
    },
    {
     "name": "stdout",
     "output_type": "stream",
     "text": [
      "2 14 EIT (after masking) 11.651104181255272 1242.7718374309918\n",
      "EUVI (after masking) 3.0070169e-09 25.430424\n",
      "INFO: Obtained JPL HORIZONS location for SOHO (spacecraft) (-21) [sunpy.coordinates.ephemeris]\n"
     ]
    },
    {
     "name": "stderr",
     "output_type": "stream",
     "text": [
      "WARNING: VerifyWarning: Card is too long, comment will be truncated. [astropy.io.fits.card]\n",
      "WARNING: FITSFixedWarning: CROTA = 6.89014116872E-08 \n",
      "keyword looks very much like CROTAn but isn't. [astropy.wcs.wcs]\n",
      "WARNING: VerifyWarning: Card is too long, comment will be truncated. [astropy.io.fits.card]\n",
      "WARNING: FITSFixedWarning: CROTA = 6.89014116872E-08 \n",
      "keyword looks very much like CROTAn but isn't. [astropy.wcs.wcs]\n"
     ]
    },
    {
     "name": "stdout",
     "output_type": "stream",
     "text": [
      "2 15 EIT (after masking) 12.549760010553861 5184.105292882913\n",
      "EUVI (after masking) 1.1787051e-09 31.525711\n",
      "INFO: Obtained JPL HORIZONS location for SOHO (spacecraft) (-21) [sunpy.coordinates.ephemeris]\n"
     ]
    },
    {
     "name": "stderr",
     "output_type": "stream",
     "text": [
      "WARNING: FITSFixedWarning: CROTA = 2.65199978422E-07 \n",
      "keyword looks very much like CROTAn but isn't. [astropy.wcs.wcs]\n",
      "WARNING: FITSFixedWarning: CROTA = 2.65199978422E-07 \n",
      "keyword looks very much like CROTAn but isn't. [astropy.wcs.wcs]\n"
     ]
    },
    {
     "name": "stdout",
     "output_type": "stream",
     "text": [
      "2 16 EIT (after masking) 11.663543219465748 1661.9086414953913\n",
      "EUVI (after masking) 7.622498e-08 38.065872\n",
      "INFO: Obtained JPL HORIZONS location for SOHO (spacecraft) (-21) [sunpy.coordinates.ephemeris]\n"
     ]
    },
    {
     "name": "stderr",
     "output_type": "stream",
     "text": [
      "WARNING: FITSFixedWarning: CROTA = -1.29447868424E-07 \n",
      "keyword looks very much like CROTAn but isn't. [astropy.wcs.wcs]\n",
      "WARNING: FITSFixedWarning: CROTA = -1.29447868424E-07 \n",
      "keyword looks very much like CROTAn but isn't. [astropy.wcs.wcs]\n"
     ]
    },
    {
     "name": "stdout",
     "output_type": "stream",
     "text": [
      "2 17 EIT (after masking) 12.438001118215524 2566.0460012251037\n",
      "EUVI (after masking) 8.740244e-08 27.893072\n",
      "INFO: Obtained JPL HORIZONS location for SOHO (spacecraft) (-21) [sunpy.coordinates.ephemeris]\n"
     ]
    },
    {
     "name": "stderr",
     "output_type": "stream",
     "text": [
      "WARNING: VerifyWarning: Card is too long, comment will be truncated. [astropy.io.fits.card]\n",
      "WARNING: FITSFixedWarning: CROTA = 3.02315895873E-07 \n",
      "keyword looks very much like CROTAn but isn't. [astropy.wcs.wcs]\n",
      "WARNING: VerifyWarning: Card is too long, comment will be truncated. [astropy.io.fits.card]\n",
      "WARNING: FITSFixedWarning: CROTA = 3.02315895873E-07 \n",
      "keyword looks very much like CROTAn but isn't. [astropy.wcs.wcs]\n"
     ]
    },
    {
     "name": "stdout",
     "output_type": "stream",
     "text": [
      "2 18 EIT (after masking) 11.706386574446718 5888.42682167808\n",
      "EUVI (after masking) 1.537046e-10 29.113815\n",
      "INFO: Obtained JPL HORIZONS location for SOHO (spacecraft) (-21) [sunpy.coordinates.ephemeris]\n"
     ]
    },
    {
     "name": "stderr",
     "output_type": "stream",
     "text": [
      "WARNING: FITSFixedWarning: CROTA = -2.70722440021E-08 \n",
      "keyword looks very much like CROTAn but isn't. [astropy.wcs.wcs]\n",
      "WARNING: FITSFixedWarning: CROTA = -2.70722440021E-08 \n",
      "keyword looks very much like CROTAn but isn't. [astropy.wcs.wcs]\n"
     ]
    },
    {
     "name": "stdout",
     "output_type": "stream",
     "text": [
      "2 19 EIT (after masking) 12.948429600220589 2544.7853385046533\n",
      "EUVI (after masking) 8.645884e-09 31.374361\n",
      "INFO: Obtained JPL HORIZONS location for SOHO (spacecraft) (-21) [sunpy.coordinates.ephemeris]\n"
     ]
    },
    {
     "name": "stderr",
     "output_type": "stream",
     "text": [
      "WARNING: FITSFixedWarning: CROTA = -1.95617388954E-09 \n",
      "keyword looks very much like CROTAn but isn't. [astropy.wcs.wcs]\n",
      "WARNING: FITSFixedWarning: CROTA = -1.95617388954E-09 \n",
      "keyword looks very much like CROTAn but isn't. [astropy.wcs.wcs]\n"
     ]
    },
    {
     "name": "stdout",
     "output_type": "stream",
     "text": [
      "2 20 EIT (after masking) 6.0431984244318775 1814.4814704637465\n",
      "EUVI (after masking) 2.199181e-08 26.055008\n",
      "INFO: Obtained JPL HORIZONS location for SOHO (spacecraft) (-21) [sunpy.coordinates.ephemeris]\n"
     ]
    },
    {
     "name": "stderr",
     "output_type": "stream",
     "text": [
      "WARNING: FITSFixedWarning: CROTA = 6.9711146633E-08 \n",
      "keyword looks very much like CROTAn but isn't. [astropy.wcs.wcs]\n",
      "WARNING: FITSFixedWarning: CROTA = 6.9711146633E-08 \n",
      "keyword looks very much like CROTAn but isn't. [astropy.wcs.wcs]\n"
     ]
    },
    {
     "name": "stdout",
     "output_type": "stream",
     "text": [
      "2 21 EIT (after masking) 10.192910063171551 2373.441962875961\n",
      "EUVI (after masking) 5.2386895e-10 25.460793\n",
      "INFO: Obtained JPL HORIZONS location for SOHO (spacecraft) (-21) [sunpy.coordinates.ephemeris]\n"
     ]
    },
    {
     "name": "stderr",
     "output_type": "stream",
     "text": [
      "WARNING: FITSFixedWarning: CROTA = 4.97184151627E-08 \n",
      "keyword looks very much like CROTAn but isn't. [astropy.wcs.wcs]\n",
      "WARNING: FITSFixedWarning: CROTA = 4.97184151627E-08 \n",
      "keyword looks very much like CROTAn but isn't. [astropy.wcs.wcs]\n"
     ]
    },
    {
     "name": "stdout",
     "output_type": "stream",
     "text": [
      "2 22 EIT (after masking) 13.185616734835577 1711.83537005835\n",
      "EUVI (after masking) 1.9386789e-08 84.88727\n",
      "INFO: Obtained JPL HORIZONS location for SOHO (spacecraft) (-21) [sunpy.coordinates.ephemeris]\n"
     ]
    },
    {
     "name": "stderr",
     "output_type": "stream",
     "text": [
      "WARNING: VerifyWarning: Card is too long, comment will be truncated. [astropy.io.fits.card]\n",
      "WARNING: FITSFixedWarning: CROTA = 4.31177262783E-08 \n",
      "keyword looks very much like CROTAn but isn't. [astropy.wcs.wcs]\n",
      "WARNING: VerifyWarning: Card is too long, comment will be truncated. [astropy.io.fits.card]\n",
      "WARNING: FITSFixedWarning: CROTA = 4.31177262783E-08 \n",
      "keyword looks very much like CROTAn but isn't. [astropy.wcs.wcs]\n"
     ]
    },
    {
     "name": "stdout",
     "output_type": "stream",
     "text": [
      "2 23 EIT (after masking) 11.782314413807851 796.3597153001281\n",
      "EUVI (after masking) 1.9653271e-08 31.962107\n",
      "INFO: Obtained JPL HORIZONS location for SOHO (spacecraft) (-21) [sunpy.coordinates.ephemeris]\n"
     ]
    },
    {
     "name": "stderr",
     "output_type": "stream",
     "text": [
      "WARNING: VerifyWarning: Card is too long, comment will be truncated. [astropy.io.fits.card]\n",
      "WARNING: FITSFixedWarning: CROTA = 1.11066289499E-07 \n",
      "keyword looks very much like CROTAn but isn't. [astropy.wcs.wcs]\n",
      "WARNING: VerifyWarning: Card is too long, comment will be truncated. [astropy.io.fits.card]\n",
      "WARNING: FITSFixedWarning: CROTA = 1.11066289499E-07 \n",
      "keyword looks very much like CROTAn but isn't. [astropy.wcs.wcs]\n"
     ]
    },
    {
     "name": "stdout",
     "output_type": "stream",
     "text": [
      "2 24 EIT (after masking) 12.416524082605 2026.7383113465262\n",
      "EUVI (after masking) 1.3426188e-08 25.739378\n",
      "INFO: Obtained JPL HORIZONS location for SOHO (spacecraft) (-21) [sunpy.coordinates.ephemeris]\n"
     ]
    },
    {
     "name": "stderr",
     "output_type": "stream",
     "text": [
      "WARNING: FITSFixedWarning: CROTA = -1.39291925549E-07 \n",
      "keyword looks very much like CROTAn but isn't. [astropy.wcs.wcs]\n",
      "WARNING: FITSFixedWarning: CROTA = -1.39291925549E-07 \n",
      "keyword looks very much like CROTAn but isn't. [astropy.wcs.wcs]\n"
     ]
    },
    {
     "name": "stdout",
     "output_type": "stream",
     "text": [
      "2 25 EIT (after masking) 7.80685068924849 1587.994040782773\n",
      "EUVI (after masking) 7.9148776e-10 29.085377\n",
      "INFO: Obtained JPL HORIZONS location for SOHO (spacecraft) (-21) [sunpy.coordinates.ephemeris]\n"
     ]
    },
    {
     "name": "stderr",
     "output_type": "stream",
     "text": [
      "WARNING: FITSFixedWarning: CROTA = 2.69830056965E-07 \n",
      "keyword looks very much like CROTAn but isn't. [astropy.wcs.wcs]\n",
      "WARNING: FITSFixedWarning: CROTA = 2.69830056965E-07 \n",
      "keyword looks very much like CROTAn but isn't. [astropy.wcs.wcs]\n"
     ]
    },
    {
     "name": "stdout",
     "output_type": "stream",
     "text": [
      "2 26 EIT (after masking) 12.812690025920496 2209.0255661955816\n",
      "EUVI (after masking) 1.572721e-08 24.376034\n",
      "INFO: Obtained JPL HORIZONS location for SOHO (spacecraft) (-21) [sunpy.coordinates.ephemeris]\n"
     ]
    },
    {
     "name": "stderr",
     "output_type": "stream",
     "text": [
      "WARNING: FITSFixedWarning: CROTA = -5.6739809473099E-07 \n",
      "keyword looks very much like CROTAn but isn't. [astropy.wcs.wcs]\n",
      "WARNING: FITSFixedWarning: CROTA = -5.6739809473099E-07 \n",
      "keyword looks very much like CROTAn but isn't. [astropy.wcs.wcs]\n"
     ]
    },
    {
     "name": "stdout",
     "output_type": "stream",
     "text": [
      "INFO: Obtained JPL HORIZONS location for SOHO (spacecraft) (-21) [sunpy.coordinates.ephemeris]\n"
     ]
    },
    {
     "name": "stderr",
     "output_type": "stream",
     "text": [
      "WARNING: FITSFixedWarning: CROTA = -3.88796197015E-07 \n",
      "keyword looks very much like CROTAn but isn't. [astropy.wcs.wcs]\n",
      "WARNING: FITSFixedWarning: CROTA = -3.88796197015E-07 \n",
      "keyword looks very much like CROTAn but isn't. [astropy.wcs.wcs]\n"
     ]
    },
    {
     "name": "stdout",
     "output_type": "stream",
     "text": [
      "2 27 EIT (after masking) 12.608191239011912 5626.520295917648\n",
      "EUVI (after masking) 7.0542455e-08 27.357822\n",
      "INFO: Obtained JPL HORIZONS location for SOHO (spacecraft) (-21) [sunpy.coordinates.ephemeris]\n"
     ]
    },
    {
     "name": "stderr",
     "output_type": "stream",
     "text": [
      "WARNING: FITSFixedWarning: CROTA = -3.96641116396E-07 \n",
      "keyword looks very much like CROTAn but isn't. [astropy.wcs.wcs]\n",
      "WARNING: FITSFixedWarning: CROTA = -3.96641116396E-07 \n",
      "keyword looks very much like CROTAn but isn't. [astropy.wcs.wcs]\n"
     ]
    },
    {
     "name": "stdout",
     "output_type": "stream",
     "text": [
      "2 28 EIT (after masking) 12.026749272643132 1426.5937471951058\n",
      "EUVI (after masking) 5.184347e-09 27.206587\n",
      "INFO: Obtained JPL HORIZONS location for SOHO (spacecraft) (-21) [sunpy.coordinates.ephemeris]\n"
     ]
    },
    {
     "name": "stderr",
     "output_type": "stream",
     "text": [
      "WARNING: FITSFixedWarning: CROTA = -3.28759079515E-07 \n",
      "keyword looks very much like CROTAn but isn't. [astropy.wcs.wcs]\n",
      "WARNING: FITSFixedWarning: CROTA = -3.28759079515E-07 \n",
      "keyword looks very much like CROTAn but isn't. [astropy.wcs.wcs]\n"
     ]
    },
    {
     "name": "stdout",
     "output_type": "stream",
     "text": [
      "2 29 EIT (after masking) 9.839226978288053 1595.938406328459\n",
      "EUVI (after masking) 2.4760993e-10 30.043139\n",
      "INFO: Obtained JPL HORIZONS location for SOHO (spacecraft) (-21) [sunpy.coordinates.ephemeris]\n"
     ]
    },
    {
     "name": "stderr",
     "output_type": "stream",
     "text": [
      "WARNING: FITSFixedWarning: CROTA = -2.95349707358E-07 \n",
      "keyword looks very much like CROTAn but isn't. [astropy.wcs.wcs]\n",
      "WARNING: FITSFixedWarning: CROTA = -2.95349707358E-07 \n",
      "keyword looks very much like CROTAn but isn't. [astropy.wcs.wcs]\n"
     ]
    },
    {
     "name": "stdout",
     "output_type": "stream",
     "text": [
      "INFO: Obtained JPL HORIZONS location for SOHO (spacecraft) (-21) [sunpy.coordinates.ephemeris]\n"
     ]
    },
    {
     "name": "stderr",
     "output_type": "stream",
     "text": [
      "WARNING: VerifyWarning: Card is too long, comment will be truncated. [astropy.io.fits.card]\n",
      "WARNING: FITSFixedWarning: CROTA = -3.21774714429E-07 \n",
      "keyword looks very much like CROTAn but isn't. [astropy.wcs.wcs]\n",
      "WARNING: VerifyWarning: Card is too long, comment will be truncated. [astropy.io.fits.card]\n",
      "WARNING: FITSFixedWarning: CROTA = -3.21774714429E-07 \n",
      "keyword looks very much like CROTAn but isn't. [astropy.wcs.wcs]\n"
     ]
    },
    {
     "name": "stdout",
     "output_type": "stream",
     "text": [
      "2 30 EIT (after masking) 10.40788332407483 2434.725585560208\n",
      "EUVI (after masking) 2.4122073e-09 26.214203\n",
      "INFO: Obtained JPL HORIZONS location for SOHO (spacecraft) (-21) [sunpy.coordinates.ephemeris]\n"
     ]
    },
    {
     "name": "stderr",
     "output_type": "stream",
     "text": [
      "WARNING: FITSFixedWarning: CROTA = -2.31665562289E-07 \n",
      "keyword looks very much like CROTAn but isn't. [astropy.wcs.wcs]\n",
      "WARNING: FITSFixedWarning: CROTA = -2.31665562289E-07 \n",
      "keyword looks very much like CROTAn but isn't. [astropy.wcs.wcs]\n"
     ]
    },
    {
     "name": "stdout",
     "output_type": "stream",
     "text": [
      "2 31 EIT (after masking) 10.678081455449393 623.2731138810475\n",
      "EUVI (after masking) 8.469442e-09 26.86741\n",
      "INFO: Obtained JPL HORIZONS location for SOHO (spacecraft) (-21) [sunpy.coordinates.ephemeris]\n"
     ]
    },
    {
     "name": "stderr",
     "output_type": "stream",
     "text": [
      "WARNING: FITSFixedWarning: CROTA = -2.30512858579E-07 \n",
      "keyword looks very much like CROTAn but isn't. [astropy.wcs.wcs]\n",
      "WARNING: FITSFixedWarning: CROTA = -2.30512858579E-07 \n",
      "keyword looks very much like CROTAn but isn't. [astropy.wcs.wcs]\n"
     ]
    },
    {
     "name": "stdout",
     "output_type": "stream",
     "text": [
      "2 32 EIT (after masking) 9.769396516669492 1721.8055738428181\n",
      "EUVI (after masking) 2.2737368e-11 23.421474\n",
      "INFO: Obtained JPL HORIZONS location for SOHO (spacecraft) (-21) [sunpy.coordinates.ephemeris]\n"
     ]
    },
    {
     "name": "stderr",
     "output_type": "stream",
     "text": [
      "WARNING: FITSFixedWarning: CROTA = -1.95896422639E-07 \n",
      "keyword looks very much like CROTAn but isn't. [astropy.wcs.wcs]\n",
      "WARNING: FITSFixedWarning: CROTA = -1.95896422639E-07 \n",
      "keyword looks very much like CROTAn but isn't. [astropy.wcs.wcs]\n"
     ]
    },
    {
     "name": "stdout",
     "output_type": "stream",
     "text": [
      "2 33 EIT (after masking) 11.323498443940865 692.6462903786055\n",
      "EUVI (after masking) 3.5475978e-08 27.947878\n",
      "INFO: Obtained JPL HORIZONS location for SOHO (spacecraft) (-21) [sunpy.coordinates.ephemeris]\n"
     ]
    },
    {
     "name": "stderr",
     "output_type": "stream",
     "text": [
      "WARNING: FITSFixedWarning: CROTA = -1.63298974343E-07 \n",
      "keyword looks very much like CROTAn but isn't. [astropy.wcs.wcs]\n",
      "WARNING: FITSFixedWarning: CROTA = -1.63298974343E-07 \n",
      "keyword looks very much like CROTAn but isn't. [astropy.wcs.wcs]\n"
     ]
    },
    {
     "name": "stdout",
     "output_type": "stream",
     "text": [
      "2 34 EIT (after masking) 10.796905918922636 4244.1908174471955\n",
      "EUVI (after masking) 6.4173946e-09 33.5367\n",
      "INFO: Obtained JPL HORIZONS location for SOHO (spacecraft) (-21) [sunpy.coordinates.ephemeris]\n"
     ]
    },
    {
     "name": "stderr",
     "output_type": "stream",
     "text": [
      "WARNING: FITSFixedWarning: CROTA = -1.60690126538E-07 \n",
      "keyword looks very much like CROTAn but isn't. [astropy.wcs.wcs]\n",
      "WARNING: FITSFixedWarning: CROTA = -1.60690126538E-07 \n",
      "keyword looks very much like CROTAn but isn't. [astropy.wcs.wcs]\n"
     ]
    },
    {
     "name": "stdout",
     "output_type": "stream",
     "text": [
      "2 35 EIT (after masking) 12.415758662510108 5199.520416040541\n",
      "EUVI (after masking) 6.8780537e-10 38.614838\n",
      "INFO: Obtained JPL HORIZONS location for SOHO (spacecraft) (-21) [sunpy.coordinates.ephemeris]\n"
     ]
    },
    {
     "name": "stderr",
     "output_type": "stream",
     "text": [
      "WARNING: VerifyWarning: Card is too long, comment will be truncated. [astropy.io.fits.card]\n",
      "WARNING: FITSFixedWarning: CROTA = -6.19329881824E-09 \n",
      "keyword looks very much like CROTAn but isn't. [astropy.wcs.wcs]\n",
      "WARNING: VerifyWarning: Card is too long, comment will be truncated. [astropy.io.fits.card]\n",
      "WARNING: FITSFixedWarning: CROTA = -6.19329881824E-09 \n",
      "keyword looks very much like CROTAn but isn't. [astropy.wcs.wcs]\n"
     ]
    },
    {
     "name": "stdout",
     "output_type": "stream",
     "text": [
      "2 36 EIT (after masking) 13.29554937662927 2378.576148828109\n",
      "EUVI (after masking) 1.4917987e-09 35.25593\n",
      "INFO: Obtained JPL HORIZONS location for SOHO (spacecraft) (-21) [sunpy.coordinates.ephemeris]\n"
     ]
    },
    {
     "name": "stderr",
     "output_type": "stream",
     "text": [
      "WARNING: VerifyWarning: Card is too long, comment will be truncated. [astropy.io.fits.card]\n",
      "WARNING: FITSFixedWarning: CROTA = 1.733220234E-10 \n",
      "keyword looks very much like CROTAn but isn't. [astropy.wcs.wcs]\n",
      "WARNING: VerifyWarning: Card is too long, comment will be truncated. [astropy.io.fits.card]\n",
      "WARNING: FITSFixedWarning: CROTA = 1.733220234E-10 \n",
      "keyword looks very much like CROTAn but isn't. [astropy.wcs.wcs]\n"
     ]
    },
    {
     "name": "stdout",
     "output_type": "stream",
     "text": [
      "2 37 EIT (after masking) 12.015581046076035 2939.2992779114743\n",
      "EUVI (after masking) 2.4760993e-08 31.399536\n",
      "INFO: Obtained JPL HORIZONS location for SOHO (spacecraft) (-21) [sunpy.coordinates.ephemeris]\n"
     ]
    },
    {
     "name": "stderr",
     "output_type": "stream",
     "text": [
      "WARNING: FITSFixedWarning: CROTA = 2.3687665468E-08 \n",
      "keyword looks very much like CROTAn but isn't. [astropy.wcs.wcs]\n",
      "WARNING: FITSFixedWarning: CROTA = 2.3687665468E-08 \n",
      "keyword looks very much like CROTAn but isn't. [astropy.wcs.wcs]\n"
     ]
    },
    {
     "name": "stdout",
     "output_type": "stream",
     "text": [
      "2 38 EIT (after masking) 9.834454473216237 4571.439233857667\n",
      "EUVI (after masking) 1.7070306e-08 24.933168\n",
      "INFO: Obtained JPL HORIZONS location for SOHO (spacecraft) (-21) [sunpy.coordinates.ephemeris]\n"
     ]
    },
    {
     "name": "stderr",
     "output_type": "stream",
     "text": [
      "WARNING: FITSFixedWarning: CROTA = 1.57063658524E-07 / updated 2009-04-13T17:01:16.395 \n",
      "keyword looks very much like CROTAn but isn't. [astropy.wcs.wcs]\n",
      "WARNING: FITSFixedWarning: CROTA = 1.57063658524E-07 / updated 2009-04-13T17:01:16.395 \n",
      "keyword looks very much like CROTAn but isn't. [astropy.wcs.wcs]\n"
     ]
    },
    {
     "name": "stdout",
     "output_type": "stream",
     "text": [
      "2 39 EIT (after masking) 8.986527923819633 6373.191117528711\n",
      "EUVI (after masking) 2.0090738e-09 28.581528\n",
      "INFO: Obtained JPL HORIZONS location for SOHO (spacecraft) (-21) [sunpy.coordinates.ephemeris]\n"
     ]
    },
    {
     "name": "stderr",
     "output_type": "stream",
     "text": [
      "WARNING: FITSFixedWarning: CROTA = 3.66846682809E-07 / updated 2009-04-07T14:20:16.017 \n",
      "keyword looks very much like CROTAn but isn't. [astropy.wcs.wcs]\n",
      "WARNING: FITSFixedWarning: CROTA = 3.66846682809E-07 / updated 2009-04-07T14:20:16.017 \n",
      "keyword looks very much like CROTAn but isn't. [astropy.wcs.wcs]\n"
     ]
    },
    {
     "name": "stdout",
     "output_type": "stream",
     "text": [
      "2 40 EIT (after masking) 13.01221185220159 934.8534854418787\n",
      "EUVI (after masking) 2.9467628e-10 23.529377\n",
      "INFO: Obtained JPL HORIZONS location for SOHO (spacecraft) (-21) [sunpy.coordinates.ephemeris]\n"
     ]
    },
    {
     "name": "stderr",
     "output_type": "stream",
     "text": [
      "WARNING: FITSFixedWarning: CROTA = -4.23087851686E-06 / updated 2009-04-07T13:13:09.772 \n",
      "keyword looks very much like CROTAn but isn't. [astropy.wcs.wcs]\n",
      "WARNING: FITSFixedWarning: CROTA = -4.23087851686E-06 / updated 2009-04-07T13:13:09.772 \n",
      "keyword looks very much like CROTAn but isn't. [astropy.wcs.wcs]\n"
     ]
    },
    {
     "name": "stdout",
     "output_type": "stream",
     "text": [
      "2 41 EIT (after masking) 12.025371501663676 2317.3123946247056\n",
      "EUVI (after masking) 3.274181e-09 24.92915\n",
      "INFO: Obtained JPL HORIZONS location for SOHO (spacecraft) (-21) [sunpy.coordinates.ephemeris]\n"
     ]
    },
    {
     "name": "stderr",
     "output_type": "stream",
     "text": [
      "WARNING: FITSFixedWarning: CROTA = 3.75879579018E-07 / updated 2009-04-07T13:04:27.227 \n",
      "keyword looks very much like CROTAn but isn't. [astropy.wcs.wcs]\n",
      "WARNING: FITSFixedWarning: CROTA = 3.75879579018E-07 / updated 2009-04-07T13:04:27.227 \n",
      "keyword looks very much like CROTAn but isn't. [astropy.wcs.wcs]\n"
     ]
    },
    {
     "name": "stdout",
     "output_type": "stream",
     "text": [
      "2 42 EIT (after masking) 11.143329119355673 1342.9987788767783\n",
      "EUVI (after masking) 1.7728075e-07 37.22718\n",
      "INFO: Obtained JPL HORIZONS location for SOHO (spacecraft) (-21) [sunpy.coordinates.ephemeris]\n"
     ]
    },
    {
     "name": "stderr",
     "output_type": "stream",
     "text": [
      "WARNING: FITSFixedWarning: CROTA = 4.81882934444E-07 / updated 2009-04-07T12:26:20.952 \n",
      "keyword looks very much like CROTAn but isn't. [astropy.wcs.wcs]\n",
      "WARNING: FITSFixedWarning: CROTA = 4.81882934444E-07 / updated 2009-04-07T12:26:20.952 \n",
      "keyword looks very much like CROTAn but isn't. [astropy.wcs.wcs]\n"
     ]
    },
    {
     "name": "stdout",
     "output_type": "stream",
     "text": [
      "2 43 EIT (after masking) 11.878124888025976 882.4325352410198\n",
      "EUVI (after masking) 3.4761115e-08 24.858437\n",
      "INFO: Obtained JPL HORIZONS location for SOHO (spacecraft) (-21) [sunpy.coordinates.ephemeris]\n"
     ]
    },
    {
     "name": "stderr",
     "output_type": "stream",
     "text": [
      "WARNING: FITSFixedWarning: CROTA = 4.35858559911E-07 / updated 2009-04-07T11:59:48.920 \n",
      "keyword looks very much like CROTAn but isn't. [astropy.wcs.wcs]\n",
      "WARNING: FITSFixedWarning: CROTA = 4.35858559911E-07 / updated 2009-04-07T11:59:48.920 \n",
      "keyword looks very much like CROTAn but isn't. [astropy.wcs.wcs]\n"
     ]
    },
    {
     "name": "stdout",
     "output_type": "stream",
     "text": [
      "2 44 EIT (after masking) 12.914179410819127 2461.098723326807\n",
      "EUVI (after masking) 8.185452e-12 25.16609\n",
      "INFO: Obtained JPL HORIZONS location for SOHO (spacecraft) (-21) [sunpy.coordinates.ephemeris]\n"
     ]
    },
    {
     "name": "stderr",
     "output_type": "stream",
     "text": [
      "WARNING: VerifyWarning: Card is too long, comment will be truncated. [astropy.io.fits.card]\n",
      "WARNING: FITSFixedWarning: CROTA = 2.17501006539E-07 / updated 2009-04-07T12:01:08.859 \n",
      "keyword looks very much like CROTAn but isn't. [astropy.wcs.wcs]\n",
      "WARNING: VerifyWarning: Card is too long, comment will be truncated. [astropy.io.fits.card]\n",
      "WARNING: FITSFixedWarning: CROTA = 2.17501006539E-07 / updated 2009-04-07T12:01:08.859 \n",
      "keyword looks very much like CROTAn but isn't. [astropy.wcs.wcs]\n"
     ]
    },
    {
     "name": "stdout",
     "output_type": "stream",
     "text": [
      "2 45 EIT (after masking) 11.048081544856943 1264.516636274139\n",
      "EUVI (after masking) 6.6486336e-09 50.569958\n",
      "INFO: Obtained JPL HORIZONS location for SOHO (spacecraft) (-21) [sunpy.coordinates.ephemeris]\n"
     ]
    },
    {
     "name": "stderr",
     "output_type": "stream",
     "text": [
      "WARNING: FITSFixedWarning: CROTA = 5.79412342105E-07 / updated 2009-04-07T11:52:30.016 \n",
      "keyword looks very much like CROTAn but isn't. [astropy.wcs.wcs]\n",
      "WARNING: FITSFixedWarning: CROTA = 5.79412342105E-07 / updated 2009-04-07T11:52:30.016 \n",
      "keyword looks very much like CROTAn but isn't. [astropy.wcs.wcs]\n"
     ]
    },
    {
     "name": "stdout",
     "output_type": "stream",
     "text": [
      "2 46 EIT (after masking) 10.97785223505313 1191.2971442072828\n",
      "EUVI (after masking) 1.8468427e-08 27.384657\n",
      "INFO: Obtained JPL HORIZONS location for SOHO (spacecraft) (-21) [sunpy.coordinates.ephemeris]\n"
     ]
    },
    {
     "name": "stderr",
     "output_type": "stream",
     "text": [
      "WARNING: FITSFixedWarning: CROTA = 4.02807854627E-07 / updated 2009-04-07T11:44:02.460 \n",
      "keyword looks very much like CROTAn but isn't. [astropy.wcs.wcs]\n",
      "WARNING: FITSFixedWarning: CROTA = 4.02807854627E-07 / updated 2009-04-07T11:44:02.460 \n",
      "keyword looks very much like CROTAn but isn't. [astropy.wcs.wcs]\n"
     ]
    },
    {
     "name": "stdout",
     "output_type": "stream",
     "text": [
      "INFO: Obtained JPL HORIZONS location for SOHO (spacecraft) (-21) [sunpy.coordinates.ephemeris]\n"
     ]
    },
    {
     "name": "stderr",
     "output_type": "stream",
     "text": [
      "WARNING: VerifyWarning: Card is too long, comment will be truncated. [astropy.io.fits.card]\n",
      "WARNING: FITSFixedWarning: CROTA = 5.73706200768E-07 / updated 2009-04-07T11:11:15.761 \n",
      "keyword looks very much like CROTAn but isn't. [astropy.wcs.wcs]\n",
      "WARNING: VerifyWarning: Card is too long, comment will be truncated. [astropy.io.fits.card]\n",
      "WARNING: FITSFixedWarning: CROTA = 5.73706200768E-07 / updated 2009-04-07T11:11:15.761 \n",
      "keyword looks very much like CROTAn but isn't. [astropy.wcs.wcs]\n"
     ]
    },
    {
     "name": "stdout",
     "output_type": "stream",
     "text": [
      "2 47 EIT (after masking) 11.969232376153883 721.6666810322371\n",
      "EUVI (after masking) 4.1262865e-08 36.757416\n",
      "INFO: Obtained JPL HORIZONS location for SOHO (spacecraft) (-21) [sunpy.coordinates.ephemeris]\n"
     ]
    },
    {
     "name": "stderr",
     "output_type": "stream",
     "text": [
      "WARNING: FITSFixedWarning: CROTA = 3.18196889282E-07 / updated 2009-02-02T20:48:41.949 \n",
      "keyword looks very much like CROTAn but isn't. [astropy.wcs.wcs]\n",
      "WARNING: FITSFixedWarning: CROTA = 3.18196889282E-07 / updated 2009-02-02T20:48:41.949 \n",
      "keyword looks very much like CROTAn but isn't. [astropy.wcs.wcs]\n"
     ]
    },
    {
     "name": "stdout",
     "output_type": "stream",
     "text": [
      "2 48 EIT (after masking) 11.615061915222384 6837.541601091572\n",
      "EUVI (after masking) 2.0327434e-08 30.595844\n",
      "INFO: Obtained JPL HORIZONS location for SOHO (spacecraft) (-21) [sunpy.coordinates.ephemeris]\n"
     ]
    },
    {
     "name": "stderr",
     "output_type": "stream",
     "text": [
      "WARNING: VerifyWarning: Card is too long, comment will be truncated. [astropy.io.fits.card]\n",
      "WARNING: FITSFixedWarning: CROTA = 1.853692293E-07 / updated 2009-02-02T20:40:00.632 \n",
      "keyword looks very much like CROTAn but isn't. [astropy.wcs.wcs]\n",
      "WARNING: VerifyWarning: Card is too long, comment will be truncated. [astropy.io.fits.card]\n",
      "WARNING: FITSFixedWarning: CROTA = 1.853692293E-07 / updated 2009-02-02T20:40:00.632 \n",
      "keyword looks very much like CROTAn but isn't. [astropy.wcs.wcs]\n"
     ]
    },
    {
     "name": "stdout",
     "output_type": "stream",
     "text": [
      "2 49 EIT (after masking) 12.983050095135894 1859.0890198674133\n",
      "EUVI (after masking) 1.8081664e-08 23.838552\n",
      "INFO: Obtained JPL HORIZONS location for SOHO (spacecraft) (-21) [sunpy.coordinates.ephemeris]\n"
     ]
    },
    {
     "name": "stderr",
     "output_type": "stream",
     "text": [
      "WARNING: FITSFixedWarning: CROTA = 7.16267097189E-07 / updated 2009-02-02T20:33:26.059 \n",
      "keyword looks very much like CROTAn but isn't. [astropy.wcs.wcs]\n",
      "WARNING: FITSFixedWarning: CROTA = 7.16267097189E-07 / updated 2009-02-02T20:33:26.059 \n",
      "keyword looks very much like CROTAn but isn't. [astropy.wcs.wcs]\n"
     ]
    },
    {
     "name": "stdout",
     "output_type": "stream",
     "text": [
      "2 50 EIT (after masking) 10.991401728433237 2578.763987721435\n",
      "EUVI (after masking) 3.4960976e-09 27.61834\n",
      "INFO: Obtained JPL HORIZONS location for SOHO (spacecraft) (-21) [sunpy.coordinates.ephemeris]\n"
     ]
    },
    {
     "name": "stderr",
     "output_type": "stream",
     "text": [
      "WARNING: VerifyWarning: Card is too long, comment will be truncated. [astropy.io.fits.card]\n",
      "WARNING: FITSFixedWarning: CROTA = 5.44242261924E-07 / updated 2009-02-02T20:13:34.455 \n",
      "keyword looks very much like CROTAn but isn't. [astropy.wcs.wcs]\n",
      "WARNING: VerifyWarning: Card is too long, comment will be truncated. [astropy.io.fits.card]\n",
      "WARNING: FITSFixedWarning: CROTA = 5.44242261924E-07 / updated 2009-02-02T20:13:34.455 \n",
      "keyword looks very much like CROTAn but isn't. [astropy.wcs.wcs]\n"
     ]
    },
    {
     "name": "stdout",
     "output_type": "stream",
     "text": [
      "2 51 EIT (after masking) 12.152265716583917 1735.8606214118736\n",
      "EUVI (after masking) 9.3715244e-08 44.164036\n",
      "INFO: Obtained JPL HORIZONS location for SOHO (spacecraft) (-21) [sunpy.coordinates.ephemeris]\n"
     ]
    },
    {
     "name": "stderr",
     "output_type": "stream",
     "text": [
      "WARNING: VerifyWarning: Card is too long, comment will be truncated. [astropy.io.fits.card]\n",
      "WARNING: FITSFixedWarning: CROTA = 7.76605276087E-07 / updated 2009-02-02T19:37:22.531 \n",
      "keyword looks very much like CROTAn but isn't. [astropy.wcs.wcs]\n",
      "WARNING: VerifyWarning: Card is too long, comment will be truncated. [astropy.io.fits.card]\n",
      "WARNING: FITSFixedWarning: CROTA = 7.76605276087E-07 / updated 2009-02-02T19:37:22.531 \n",
      "keyword looks very much like CROTAn but isn't. [astropy.wcs.wcs]\n"
     ]
    },
    {
     "name": "stdout",
     "output_type": "stream",
     "text": [
      "2 52 EIT (after masking) 12.483688829661908 4467.194518390689\n",
      "EUVI (after masking) 7.2041075e-09 30.273283\n",
      "INFO: Obtained JPL HORIZONS location for SOHO (spacecraft) (-21) [sunpy.coordinates.ephemeris]\n"
     ]
    },
    {
     "name": "stderr",
     "output_type": "stream",
     "text": [
      "WARNING: FITSFixedWarning: CROTA = -3.93505281693E-08 \n",
      "keyword looks very much like CROTAn but isn't. [astropy.wcs.wcs]\n",
      "WARNING: FITSFixedWarning: CROTA = -3.93505281693E-08 \n",
      "keyword looks very much like CROTAn but isn't. [astropy.wcs.wcs]\n"
     ]
    },
    {
     "name": "stdout",
     "output_type": "stream",
     "text": [
      "2 53 EIT (after masking) 11.919197848359369 1870.47022221446\n",
      "EUVI (after masking) 4.022013e-09 30.01687\n",
      "INFO: Obtained JPL HORIZONS location for SOHO (spacecraft) (-21) [sunpy.coordinates.ephemeris]\n"
     ]
    },
    {
     "name": "stderr",
     "output_type": "stream",
     "text": [
      "WARNING: FITSFixedWarning: CROTA = -3.83290128525E-08 \n",
      "keyword looks very much like CROTAn but isn't. [astropy.wcs.wcs]\n",
      "WARNING: FITSFixedWarning: CROTA = -3.83290128525E-08 \n",
      "keyword looks very much like CROTAn but isn't. [astropy.wcs.wcs]\n"
     ]
    },
    {
     "name": "stdout",
     "output_type": "stream",
     "text": [
      "2 54 EIT (after masking) 11.60651359232651 2923.959553526858\n",
      "EUVI (after masking) 8.543998e-08 24.270617\n",
      "INFO: Obtained JPL HORIZONS location for SOHO (spacecraft) (-21) [sunpy.coordinates.ephemeris]\n"
     ]
    },
    {
     "name": "stderr",
     "output_type": "stream",
     "text": [
      "WARNING: FITSFixedWarning: CROTA = -1.11501199385E-07 \n",
      "keyword looks very much like CROTAn but isn't. [astropy.wcs.wcs]\n",
      "WARNING: FITSFixedWarning: CROTA = -1.11501199385E-07 \n",
      "keyword looks very much like CROTAn but isn't. [astropy.wcs.wcs]\n"
     ]
    },
    {
     "name": "stdout",
     "output_type": "stream",
     "text": [
      "2 55 EIT (after masking) 9.42157615010739 4002.162806938917\n",
      "EUVI (after masking) 8.20819e-11 27.752176\n",
      "INFO: Obtained JPL HORIZONS location for SOHO (spacecraft) (-21) [sunpy.coordinates.ephemeris]\n"
     ]
    },
    {
     "name": "stderr",
     "output_type": "stream",
     "text": [
      "WARNING: FITSFixedWarning: CROTA = -9.1620375286499E-08 \n",
      "keyword looks very much like CROTAn but isn't. [astropy.wcs.wcs]\n",
      "WARNING: FITSFixedWarning: CROTA = -9.1620375286499E-08 \n",
      "keyword looks very much like CROTAn but isn't. [astropy.wcs.wcs]\n"
     ]
    },
    {
     "name": "stdout",
     "output_type": "stream",
     "text": [
      "2 56 EIT (after masking) 13.606053952676685 2054.575333596837\n",
      "EUVI (after masking) 7.9148776e-10 25.553288\n",
      "INFO: Obtained JPL HORIZONS location for SOHO (spacecraft) (-21) [sunpy.coordinates.ephemeris]\n"
     ]
    },
    {
     "name": "stderr",
     "output_type": "stream",
     "text": [
      "WARNING: FITSFixedWarning: CROTA = -1.40724589315E-07 \n",
      "keyword looks very much like CROTAn but isn't. [astropy.wcs.wcs]\n",
      "WARNING: FITSFixedWarning: CROTA = -1.40724589315E-07 \n",
      "keyword looks very much like CROTAn but isn't. [astropy.wcs.wcs]\n"
     ]
    },
    {
     "name": "stdout",
     "output_type": "stream",
     "text": [
      "2 57 EIT (after masking) 11.991573229596424 6424.575191646609\n",
      "EUVI (after masking) 4.0108716e-10 29.242828\n",
      "INFO: Obtained JPL HORIZONS location for SOHO (spacecraft) (-21) [sunpy.coordinates.ephemeris]\n"
     ]
    },
    {
     "name": "stderr",
     "output_type": "stream",
     "text": [
      "WARNING: FITSFixedWarning: CROTA = 1.038848918E-08 \n",
      "keyword looks very much like CROTAn but isn't. [astropy.wcs.wcs]\n",
      "WARNING: FITSFixedWarning: CROTA = 1.038848918E-08 \n",
      "keyword looks very much like CROTAn but isn't. [astropy.wcs.wcs]\n"
     ]
    },
    {
     "name": "stdout",
     "output_type": "stream",
     "text": [
      "2 58 EIT (after masking) 12.532678295224333 5604.030173013081\n",
      "EUVI (after masking) 3.283276e-10 38.022346\n",
      "INFO: Obtained JPL HORIZONS location for SOHO (spacecraft) (-21) [sunpy.coordinates.ephemeris]\n"
     ]
    },
    {
     "name": "stderr",
     "output_type": "stream",
     "text": [
      "WARNING: FITSFixedWarning: CROTA = -1.16684394591E-07 \n",
      "keyword looks very much like CROTAn but isn't. [astropy.wcs.wcs]\n",
      "WARNING: FITSFixedWarning: CROTA = -1.16684394591E-07 \n",
      "keyword looks very much like CROTAn but isn't. [astropy.wcs.wcs]\n"
     ]
    },
    {
     "name": "stdout",
     "output_type": "stream",
     "text": [
      "2 59 EIT (after masking) 11.726218568782906 5757.401353306618\n",
      "EUVI (after masking) 7.366907e-11 36.375526\n",
      "INFO: Obtained JPL HORIZONS location for SOHO (spacecraft) (-21) [sunpy.coordinates.ephemeris]\n"
     ]
    },
    {
     "name": "stderr",
     "output_type": "stream",
     "text": [
      "WARNING: FITSFixedWarning: CROTA = -2.17308857131E-07 \n",
      "keyword looks very much like CROTAn but isn't. [astropy.wcs.wcs]\n",
      "WARNING: FITSFixedWarning: CROTA = -2.17308857131E-07 \n",
      "keyword looks very much like CROTAn but isn't. [astropy.wcs.wcs]\n"
     ]
    },
    {
     "name": "stdout",
     "output_type": "stream",
     "text": [
      "2 60 EIT (after masking) 11.878750026711227 3557.468529860537\n",
      "EUVI (after masking) 1.0027179e-10 27.87671\n",
      "INFO: Obtained JPL HORIZONS location for SOHO (spacecraft) (-21) [sunpy.coordinates.ephemeris]\n"
     ]
    },
    {
     "name": "stderr",
     "output_type": "stream",
     "text": [
      "WARNING: FITSFixedWarning: CROTA = -7.25223685549E-08 \n",
      "keyword looks very much like CROTAn but isn't. [astropy.wcs.wcs]\n",
      "WARNING: FITSFixedWarning: CROTA = -7.25223685549E-08 \n",
      "keyword looks very much like CROTAn but isn't. [astropy.wcs.wcs]\n"
     ]
    },
    {
     "name": "stdout",
     "output_type": "stream",
     "text": [
      "2 61 EIT (after masking) 11.461463132443916 4022.025292951503\n",
      "EUVI (after masking) 3.637979e-12 30.628935\n",
      "INFO: Obtained JPL HORIZONS location for SOHO (spacecraft) (-21) [sunpy.coordinates.ephemeris]\n"
     ]
    },
    {
     "name": "stderr",
     "output_type": "stream",
     "text": [
      "WARNING: FITSFixedWarning: CROTA = -7.2955163688E-08 \n",
      "keyword looks very much like CROTAn but isn't. [astropy.wcs.wcs]\n",
      "WARNING: FITSFixedWarning: CROTA = -7.2955163688E-08 \n",
      "keyword looks very much like CROTAn but isn't. [astropy.wcs.wcs]\n"
     ]
    },
    {
     "name": "stdout",
     "output_type": "stream",
     "text": [
      "2 62 EIT (after masking) 11.30121141442086 7917.9431161774555\n",
      "EUVI (after masking) 9.094947e-13 30.10485\n",
      "INFO: Obtained JPL HORIZONS location for SOHO (spacecraft) (-21) [sunpy.coordinates.ephemeris]\n"
     ]
    },
    {
     "name": "stderr",
     "output_type": "stream",
     "text": [
      "WARNING: VerifyWarning: Card is too long, comment will be truncated. [astropy.io.fits.card]\n",
      "WARNING: FITSFixedWarning: CROTA = -1.11628084554E-08 \n",
      "keyword looks very much like CROTAn but isn't. [astropy.wcs.wcs]\n",
      "WARNING: VerifyWarning: Card is too long, comment will be truncated. [astropy.io.fits.card]\n",
      "WARNING: FITSFixedWarning: CROTA = -1.11628084554E-08 \n",
      "keyword looks very much like CROTAn but isn't. [astropy.wcs.wcs]\n"
     ]
    },
    {
     "name": "stdout",
     "output_type": "stream",
     "text": [
      "2 63 EIT (after masking) 10.722365932837452 1697.7256413105124\n",
      "EUVI (after masking) 9.742735e-09 26.659456\n",
      "INFO: Obtained JPL HORIZONS location for SOHO (spacecraft) (-21) [sunpy.coordinates.ephemeris]\n"
     ]
    },
    {
     "name": "stderr",
     "output_type": "stream",
     "text": [
      "WARNING: FITSFixedWarning: CROTA = -2.29700907184E-08 \n",
      "keyword looks very much like CROTAn but isn't. [astropy.wcs.wcs]\n",
      "WARNING: FITSFixedWarning: CROTA = -2.29700907184E-08 \n",
      "keyword looks very much like CROTAn but isn't. [astropy.wcs.wcs]\n"
     ]
    },
    {
     "name": "stdout",
     "output_type": "stream",
     "text": [
      "2 64 EIT (after masking) 11.90841349837981 6251.997377695397\n",
      "EUVI (after masking) 2.9033345e-09 26.492712\n",
      "INFO: Obtained JPL HORIZONS location for SOHO (spacecraft) (-21) [sunpy.coordinates.ephemeris]\n"
     ]
    },
    {
     "name": "stderr",
     "output_type": "stream",
     "text": [
      "WARNING: VerifyWarning: Card is too long, comment will be truncated. [astropy.io.fits.card]\n",
      "WARNING: FITSFixedWarning: CROTA = -1.89180793253E-09 \n",
      "keyword looks very much like CROTAn but isn't. [astropy.wcs.wcs]\n",
      "WARNING: VerifyWarning: Card is too long, comment will be truncated. [astropy.io.fits.card]\n",
      "WARNING: FITSFixedWarning: CROTA = -1.89180793253E-09 \n",
      "keyword looks very much like CROTAn but isn't. [astropy.wcs.wcs]\n"
     ]
    },
    {
     "name": "stdout",
     "output_type": "stream",
     "text": [
      "2 65 EIT (after masking) 13.748286820815922 2448.528323724438\n",
      "EUVI (after masking) 3.0126103e-08 27.22334\n",
      "INFO: Obtained JPL HORIZONS location for SOHO (spacecraft) (-21) [sunpy.coordinates.ephemeris]\n"
     ]
    },
    {
     "name": "stderr",
     "output_type": "stream",
     "text": [
      "WARNING: FITSFixedWarning: CROTA = 1.36838797238E-10 \n",
      "keyword looks very much like CROTAn but isn't. [astropy.wcs.wcs]\n",
      "WARNING: FITSFixedWarning: CROTA = 1.36838797238E-10 \n",
      "keyword looks very much like CROTAn but isn't. [astropy.wcs.wcs]\n"
     ]
    },
    {
     "name": "stdout",
     "output_type": "stream",
     "text": [
      "2 66 EIT (after masking) 12.997929276274304 7774.399602970235\n",
      "EUVI (after masking) 2.185061e-08 29.942999\n",
      "INFO: Obtained JPL HORIZONS location for SOHO (spacecraft) (-21) [sunpy.coordinates.ephemeris]\n"
     ]
    },
    {
     "name": "stderr",
     "output_type": "stream",
     "text": [
      "WARNING: FITSFixedWarning: CROTA = -2.3245803199E-09 \n",
      "keyword looks very much like CROTAn but isn't. [astropy.wcs.wcs]\n",
      "WARNING: FITSFixedWarning: CROTA = -2.3245803199E-09 \n",
      "keyword looks very much like CROTAn but isn't. [astropy.wcs.wcs]\n"
     ]
    },
    {
     "name": "stdout",
     "output_type": "stream",
     "text": [
      "2 67 EIT (after masking) 14.411014582469631 5441.046956807507\n",
      "EUVI (after masking) 1.6043487e-07 35.296375\n",
      "INFO: Obtained JPL HORIZONS location for SOHO (spacecraft) (-21) [sunpy.coordinates.ephemeris]\n"
     ]
    },
    {
     "name": "stderr",
     "output_type": "stream",
     "text": [
      "WARNING: FITSFixedWarning: CROTA = 2.93606838841E-08 \n",
      "keyword looks very much like CROTAn but isn't. [astropy.wcs.wcs]\n",
      "WARNING: FITSFixedWarning: CROTA = 2.93606838841E-08 \n",
      "keyword looks very much like CROTAn but isn't. [astropy.wcs.wcs]\n"
     ]
    },
    {
     "name": "stdout",
     "output_type": "stream",
     "text": [
      "2 68 EIT (after masking) 14.288153968641893 8318.82763490597\n",
      "EUVI (after masking) 1.7826096e-10 27.617933\n",
      "INFO: Obtained JPL HORIZONS location for SOHO (spacecraft) (-21) [sunpy.coordinates.ephemeris]\n"
     ]
    },
    {
     "name": "stderr",
     "output_type": "stream",
     "text": [
      "WARNING: FITSFixedWarning: CROTA = -2.68702420314E-08 \n",
      "keyword looks very much like CROTAn but isn't. [astropy.wcs.wcs]\n",
      "WARNING: FITSFixedWarning: CROTA = -2.68702420314E-08 \n",
      "keyword looks very much like CROTAn but isn't. [astropy.wcs.wcs]\n"
     ]
    },
    {
     "name": "stdout",
     "output_type": "stream",
     "text": [
      "2 69 EIT (after masking) 12.804061863940577 1036.1322876016577\n",
      "EUVI (after masking) 4.165122e-08 24.628584\n",
      "INFO: Obtained JPL HORIZONS location for SOHO (spacecraft) (-21) [sunpy.coordinates.ephemeris]\n"
     ]
    },
    {
     "name": "stderr",
     "output_type": "stream",
     "text": [
      "WARNING: VerifyWarning: Card is too long, comment will be truncated. [astropy.io.fits.card]\n",
      "WARNING: FITSFixedWarning: CROTA = 5.33748900633E-08 \n",
      "keyword looks very much like CROTAn but isn't. [astropy.wcs.wcs]\n",
      "WARNING: VerifyWarning: Card is too long, comment will be truncated. [astropy.io.fits.card]\n",
      "WARNING: FITSFixedWarning: CROTA = 5.33748900633E-08 \n",
      "keyword looks very much like CROTAn but isn't. [astropy.wcs.wcs]\n"
     ]
    },
    {
     "name": "stdout",
     "output_type": "stream",
     "text": [
      "2 70 EIT (after masking) 14.724574582187483 2616.94188125246\n",
      "EUVI (after masking) 1.4097395e-08 26.966276\n",
      "INFO: Obtained JPL HORIZONS location for SOHO (spacecraft) (-21) [sunpy.coordinates.ephemeris]\n"
     ]
    },
    {
     "name": "stderr",
     "output_type": "stream",
     "text": [
      "WARNING: VerifyWarning: Card is too long, comment will be truncated. [astropy.io.fits.card]\n",
      "WARNING: FITSFixedWarning: CROTA = 3.0251192662E-08 \n",
      "keyword looks very much like CROTAn but isn't. [astropy.wcs.wcs]\n",
      "WARNING: VerifyWarning: Card is too long, comment will be truncated. [astropy.io.fits.card]\n",
      "WARNING: FITSFixedWarning: CROTA = 3.0251192662E-08 \n",
      "keyword looks very much like CROTAn but isn't. [astropy.wcs.wcs]\n"
     ]
    },
    {
     "name": "stdout",
     "output_type": "stream",
     "text": [
      "2 71 EIT (after masking) 13.582895898657018 2398.9953264223127\n",
      "EUVI (after masking) 7.531526e-09 25.140396\n",
      "INFO: Obtained JPL HORIZONS location for SOHO (spacecraft) (-21) [sunpy.coordinates.ephemeris]\n"
     ]
    },
    {
     "name": "stderr",
     "output_type": "stream",
     "text": [
      "WARNING: FITSFixedWarning: CROTA = -7.78444553262E-09 \n",
      "keyword looks very much like CROTAn but isn't. [astropy.wcs.wcs]\n",
      "WARNING: FITSFixedWarning: CROTA = -7.78444553262E-09 \n",
      "keyword looks very much like CROTAn but isn't. [astropy.wcs.wcs]\n"
     ]
    },
    {
     "name": "stdout",
     "output_type": "stream",
     "text": [
      "2 72 EIT (after masking) 12.940310032688718 3283.47678807174\n",
      "EUVI (after masking) 1.2028067e-10 28.110668\n",
      "INFO: Obtained JPL HORIZONS location for SOHO (spacecraft) (-21) [sunpy.coordinates.ephemeris]\n"
     ]
    },
    {
     "name": "stderr",
     "output_type": "stream",
     "text": [
      "WARNING: FITSFixedWarning: CROTA = -1.1234221553E-08 \n",
      "keyword looks very much like CROTAn but isn't. [astropy.wcs.wcs]\n",
      "WARNING: FITSFixedWarning: CROTA = -1.1234221553E-08 \n",
      "keyword looks very much like CROTAn but isn't. [astropy.wcs.wcs]\n"
     ]
    },
    {
     "name": "stdout",
     "output_type": "stream",
     "text": [
      "2 73 EIT (after masking) 13.22780523378132 4310.353609098298\n",
      "EUVI (after masking) 1.6816557e-09 22.500858\n",
      "INFO: Obtained JPL HORIZONS location for SOHO (spacecraft) (-21) [sunpy.coordinates.ephemeris]\n"
     ]
    },
    {
     "name": "stderr",
     "output_type": "stream",
     "text": [
      "WARNING: VerifyWarning: Card is too long, comment will be truncated. [astropy.io.fits.card]\n",
      "WARNING: FITSFixedWarning: CROTA = -3.49816402512E-08 \n",
      "keyword looks very much like CROTAn but isn't. [astropy.wcs.wcs]\n",
      "WARNING: VerifyWarning: Card is too long, comment will be truncated. [astropy.io.fits.card]\n",
      "WARNING: FITSFixedWarning: CROTA = -3.49816402512E-08 \n",
      "keyword looks very much like CROTAn but isn't. [astropy.wcs.wcs]\n"
     ]
    },
    {
     "name": "stdout",
     "output_type": "stream",
     "text": [
      "2 74 EIT (after masking) 12.69160154807142 1475.2284903176264\n",
      "EUVI (after masking) 9.837095e-09 31.640057\n",
      "INFO: Obtained JPL HORIZONS location for SOHO (spacecraft) (-21) [sunpy.coordinates.ephemeris]\n"
     ]
    },
    {
     "name": "stderr",
     "output_type": "stream",
     "text": [
      "WARNING: FITSFixedWarning: CROTA = -3.7975545375E-08 \n",
      "keyword looks very much like CROTAn but isn't. [astropy.wcs.wcs]\n",
      "WARNING: FITSFixedWarning: CROTA = -3.7975545375E-08 \n",
      "keyword looks very much like CROTAn but isn't. [astropy.wcs.wcs]\n"
     ]
    },
    {
     "name": "stdout",
     "output_type": "stream",
     "text": [
      "2 75 EIT (after masking) 14.664584388256651 1167.6296169557813\n",
      "EUVI (after masking) 2.046363e-12 25.995983\n",
      "INFO: Obtained JPL HORIZONS location for SOHO (spacecraft) (-21) [sunpy.coordinates.ephemeris]\n"
     ]
    },
    {
     "name": "stderr",
     "output_type": "stream",
     "text": [
      "WARNING: FITSFixedWarning: CROTA = -2.83407342039E-09 \n",
      "keyword looks very much like CROTAn but isn't. [astropy.wcs.wcs]\n",
      "WARNING: FITSFixedWarning: CROTA = -2.83407342039E-09 \n",
      "keyword looks very much like CROTAn but isn't. [astropy.wcs.wcs]\n"
     ]
    },
    {
     "name": "stdout",
     "output_type": "stream",
     "text": [
      "INFO: Obtained JPL HORIZONS location for SOHO (spacecraft) (-21) [sunpy.coordinates.ephemeris]\n"
     ]
    },
    {
     "name": "stderr",
     "output_type": "stream",
     "text": [
      "WARNING: FITSFixedWarning: CROTA = 2.0415712676E-08 \n",
      "keyword looks very much like CROTAn but isn't. [astropy.wcs.wcs]\n",
      "WARNING: FITSFixedWarning: CROTA = 2.0415712676E-08 \n",
      "keyword looks very much like CROTAn but isn't. [astropy.wcs.wcs]\n"
     ]
    },
    {
     "name": "stdout",
     "output_type": "stream",
     "text": [
      "2 76 EIT (after masking) 12.988493784135072 1815.2286477009318\n",
      "EUVI (after masking) 2.5364898e-08 30.563564\n",
      "INFO: Obtained JPL HORIZONS location for SOHO (spacecraft) (-21) [sunpy.coordinates.ephemeris]\n"
     ]
    },
    {
     "name": "stderr",
     "output_type": "stream",
     "text": [
      "WARNING: FITSFixedWarning: CROTA = 2.89728025571E-07 \n",
      "keyword looks very much like CROTAn but isn't. [astropy.wcs.wcs]\n",
      "WARNING: FITSFixedWarning: CROTA = 2.89728025571E-07 \n",
      "keyword looks very much like CROTAn but isn't. [astropy.wcs.wcs]\n"
     ]
    },
    {
     "name": "stdout",
     "output_type": "stream",
     "text": [
      "2 77 EIT (after masking) 12.658557543263173 1467.954628912931\n",
      "EUVI (after masking) 5.5487362e-08 35.04599\n",
      "INFO: Obtained JPL HORIZONS location for SOHO (spacecraft) (-21) [sunpy.coordinates.ephemeris]\n"
     ]
    },
    {
     "name": "stderr",
     "output_type": "stream",
     "text": [
      "WARNING: VerifyWarning: Card is too long, comment will be truncated. [astropy.io.fits.card]\n",
      "WARNING: FITSFixedWarning: CROTA = 4.19527799167E-08 \n",
      "keyword looks very much like CROTAn but isn't. [astropy.wcs.wcs]\n",
      "WARNING: VerifyWarning: Card is too long, comment will be truncated. [astropy.io.fits.card]\n",
      "WARNING: FITSFixedWarning: CROTA = 4.19527799167E-08 \n",
      "keyword looks very much like CROTAn but isn't. [astropy.wcs.wcs]\n"
     ]
    },
    {
     "name": "stdout",
     "output_type": "stream",
     "text": [
      "2 78 EIT (after masking) 12.829592621159973 3867.278700009681\n",
      "EUVI (after masking) 4.6495643e-09 33.14132\n",
      "INFO: Obtained JPL HORIZONS location for SOHO (spacecraft) (-21) [sunpy.coordinates.ephemeris]\n"
     ]
    },
    {
     "name": "stderr",
     "output_type": "stream",
     "text": [
      "WARNING: VerifyWarning: Card is too long, comment will be truncated. [astropy.io.fits.card]\n",
      "WARNING: FITSFixedWarning: CROTA = 2.84725159894E-07 \n",
      "keyword looks very much like CROTAn but isn't. [astropy.wcs.wcs]\n",
      "WARNING: VerifyWarning: Card is too long, comment will be truncated. [astropy.io.fits.card]\n",
      "WARNING: FITSFixedWarning: CROTA = 2.84725159894E-07 \n",
      "keyword looks very much like CROTAn but isn't. [astropy.wcs.wcs]\n"
     ]
    },
    {
     "name": "stdout",
     "output_type": "stream",
     "text": [
      "2 79 EIT (after masking) 14.584582350083268 3984.9836849003054\n",
      "EUVI (after masking) 5.98377e-08 45.619663\n",
      "INFO: Obtained JPL HORIZONS location for SOHO (spacecraft) (-21) [sunpy.coordinates.ephemeris]\n"
     ]
    },
    {
     "name": "stderr",
     "output_type": "stream",
     "text": [
      "WARNING: FITSFixedWarning: CROTA = -1.76968379506E-07 \n",
      "keyword looks very much like CROTAn but isn't. [astropy.wcs.wcs]\n",
      "WARNING: FITSFixedWarning: CROTA = -1.76968379506E-07 \n",
      "keyword looks very much like CROTAn but isn't. [astropy.wcs.wcs]\n"
     ]
    },
    {
     "name": "stdout",
     "output_type": "stream",
     "text": [
      "2 80 EIT (after masking) 12.302749677326338 2801.870910859688\n",
      "EUVI (after masking) 2.9467628e-10 23.949389\n",
      "INFO: Obtained JPL HORIZONS location for SOHO (spacecraft) (-21) [sunpy.coordinates.ephemeris]\n"
     ]
    },
    {
     "name": "stderr",
     "output_type": "stream",
     "text": [
      "WARNING: FITSFixedWarning: CROTA = -2.4329261894E-07 \n",
      "keyword looks very much like CROTAn but isn't. [astropy.wcs.wcs]\n",
      "WARNING: FITSFixedWarning: CROTA = -2.4329261894E-07 \n",
      "keyword looks very much like CROTAn but isn't. [astropy.wcs.wcs]\n"
     ]
    },
    {
     "name": "stdout",
     "output_type": "stream",
     "text": [
      "2 81 EIT (after masking) 14.040943392282019 5087.709228201411\n",
      "EUVI (after masking) 9.186124e-09 30.677485\n",
      "INFO: Obtained JPL HORIZONS location for SOHO (spacecraft) (-21) [sunpy.coordinates.ephemeris]\n"
     ]
    },
    {
     "name": "stderr",
     "output_type": "stream",
     "text": [
      "WARNING: VerifyWarning: Card is too long, comment will be truncated. [astropy.io.fits.card]\n",
      "WARNING: FITSFixedWarning: CROTA = -7.09611862604E-08 \n",
      "keyword looks very much like CROTAn but isn't. [astropy.wcs.wcs]\n",
      "WARNING: VerifyWarning: Card is too long, comment will be truncated. [astropy.io.fits.card]\n",
      "WARNING: FITSFixedWarning: CROTA = -7.09611862604E-08 \n",
      "keyword looks very much like CROTAn but isn't. [astropy.wcs.wcs]\n"
     ]
    },
    {
     "name": "stdout",
     "output_type": "stream",
     "text": [
      "2 82 EIT (after masking) 8.12702029449161 7489.029565350238\n",
      "EUVI (after masking) 4.3421323e-08 26.75373\n",
      "INFO: Obtained JPL HORIZONS location for SOHO (spacecraft) (-21) [sunpy.coordinates.ephemeris]\n"
     ]
    },
    {
     "name": "stderr",
     "output_type": "stream",
     "text": [
      "WARNING: FITSFixedWarning: CROTA = 3.64612517956E-09 \n",
      "keyword looks very much like CROTAn but isn't. [astropy.wcs.wcs]\n",
      "WARNING: FITSFixedWarning: CROTA = 3.64612517956E-09 \n",
      "keyword looks very much like CROTAn but isn't. [astropy.wcs.wcs]\n"
     ]
    },
    {
     "name": "stdout",
     "output_type": "stream",
     "text": [
      "2 83 EIT (after masking) 11.884997713090016 2307.712516247507\n",
      "EUVI (after masking) 8.294819e-09 30.643435\n",
      "INFO: Obtained JPL HORIZONS location for SOHO (spacecraft) (-21) [sunpy.coordinates.ephemeris]\n"
     ]
    },
    {
     "name": "stderr",
     "output_type": "stream",
     "text": [
      "WARNING: FITSFixedWarning: CROTA = 4.93863856477E-08 \n",
      "keyword looks very much like CROTAn but isn't. [astropy.wcs.wcs]\n",
      "WARNING: FITSFixedWarning: CROTA = 4.93863856477E-08 \n",
      "keyword looks very much like CROTAn but isn't. [astropy.wcs.wcs]\n"
     ]
    },
    {
     "name": "stdout",
     "output_type": "stream",
     "text": [
      "2 84 EIT (after masking) 12.698131878006546 3863.1899059440157\n",
      "EUVI (after masking) 5.684342e-12 29.58946\n",
      "INFO: Obtained JPL HORIZONS location for SOHO (spacecraft) (-21) [sunpy.coordinates.ephemeris]\n"
     ]
    },
    {
     "name": "stderr",
     "output_type": "stream",
     "text": [
      "WARNING: FITSFixedWarning: CROTA = -2.76036956848E-07 \n",
      "keyword looks very much like CROTAn but isn't. [astropy.wcs.wcs]\n",
      "WARNING: FITSFixedWarning: CROTA = -2.76036956848E-07 \n",
      "keyword looks very much like CROTAn but isn't. [astropy.wcs.wcs]\n"
     ]
    },
    {
     "name": "stdout",
     "output_type": "stream",
     "text": [
      "INFO: Obtained JPL HORIZONS location for SOHO (spacecraft) (-21) [sunpy.coordinates.ephemeris]\n"
     ]
    },
    {
     "name": "stderr",
     "output_type": "stream",
     "text": [
      "WARNING: FITSFixedWarning: CROTA = 5.87834803056E-08 \n",
      "keyword looks very much like CROTAn but isn't. [astropy.wcs.wcs]\n",
      "WARNING: FITSFixedWarning: CROTA = 5.87834803056E-08 \n",
      "keyword looks very much like CROTAn but isn't. [astropy.wcs.wcs]\n"
     ]
    },
    {
     "name": "stdout",
     "output_type": "stream",
     "text": [
      "2 85 EIT (after masking) 13.644163215349034 864.5394490688466\n",
      "EUVI (after masking) 5.820766e-11 28.608112\n",
      "INFO: Obtained JPL HORIZONS location for SOHO (spacecraft) (-21) [sunpy.coordinates.ephemeris]\n"
     ]
    },
    {
     "name": "stderr",
     "output_type": "stream",
     "text": [
      "WARNING: FITSFixedWarning: CROTA = -1.68601967943E-08 \n",
      "keyword looks very much like CROTAn but isn't. [astropy.wcs.wcs]\n",
      "WARNING: FITSFixedWarning: CROTA = -1.68601967943E-08 \n",
      "keyword looks very much like CROTAn but isn't. [astropy.wcs.wcs]\n"
     ]
    },
    {
     "name": "stdout",
     "output_type": "stream",
     "text": [
      "2 86 EIT (after masking) 13.146620955148029 1048.312414412465\n",
      "EUVI (after masking) 2.8332806e-08 30.273247\n",
      "INFO: Obtained JPL HORIZONS location for SOHO (spacecraft) (-21) [sunpy.coordinates.ephemeris]\n"
     ]
    },
    {
     "name": "stderr",
     "output_type": "stream",
     "text": [
      "WARNING: VerifyWarning: Card is too long, comment will be truncated. [astropy.io.fits.card]\n",
      "WARNING: FITSFixedWarning: CROTA = 1.96895122428E-09 \n",
      "keyword looks very much like CROTAn but isn't. [astropy.wcs.wcs]\n",
      "WARNING: VerifyWarning: Card is too long, comment will be truncated. [astropy.io.fits.card]\n",
      "WARNING: FITSFixedWarning: CROTA = 1.96895122428E-09 \n",
      "keyword looks very much like CROTAn but isn't. [astropy.wcs.wcs]\n"
     ]
    },
    {
     "name": "stdout",
     "output_type": "stream",
     "text": [
      "2 87 EIT (after masking) 12.87792111397118 6002.87175848716\n",
      "EUVI (after masking) 1.3096724e-08 26.527658\n",
      "INFO: Obtained JPL HORIZONS location for SOHO (spacecraft) (-21) [sunpy.coordinates.ephemeris]\n"
     ]
    },
    {
     "name": "stderr",
     "output_type": "stream",
     "text": [
      "WARNING: FITSFixedWarning: CROTA = -6.63119905653E-08 \n",
      "keyword looks very much like CROTAn but isn't. [astropy.wcs.wcs]\n",
      "WARNING: FITSFixedWarning: CROTA = -6.63119905653E-08 \n",
      "keyword looks very much like CROTAn but isn't. [astropy.wcs.wcs]\n"
     ]
    },
    {
     "name": "stdout",
     "output_type": "stream",
     "text": [
      "2 88 EIT (after masking) 11.095486694362286 4652.568410168637\n",
      "EUVI (after masking) 2.4611154e-08 26.544754\n",
      "INFO: Obtained JPL HORIZONS location for SOHO (spacecraft) (-21) [sunpy.coordinates.ephemeris]\n"
     ]
    },
    {
     "name": "stderr",
     "output_type": "stream",
     "text": [
      "WARNING: FITSFixedWarning: CROTA = 9.72743974259000E-09 \n",
      "keyword looks very much like CROTAn but isn't. [astropy.wcs.wcs]\n",
      "WARNING: FITSFixedWarning: CROTA = 9.72743974259000E-09 \n",
      "keyword looks very much like CROTAn but isn't. [astropy.wcs.wcs]\n"
     ]
    },
    {
     "name": "stdout",
     "output_type": "stream",
     "text": [
      "2 89 EIT (after masking) 12.711902873104401 6698.0613423003315\n",
      "EUVI (after masking) 1.1526572e-07 25.69314\n",
      "INFO: Obtained JPL HORIZONS location for SOHO (spacecraft) (-21) [sunpy.coordinates.ephemeris]\n"
     ]
    },
    {
     "name": "stderr",
     "output_type": "stream",
     "text": [
      "WARNING: FITSFixedWarning: CROTA = 8.42972491810000E-09 \n",
      "keyword looks very much like CROTAn but isn't. [astropy.wcs.wcs]\n",
      "WARNING: FITSFixedWarning: CROTA = 8.42972491810000E-09 \n",
      "keyword looks very much like CROTAn but isn't. [astropy.wcs.wcs]\n"
     ]
    },
    {
     "name": "stdout",
     "output_type": "stream",
     "text": [
      "2 90 EIT (after masking) 11.971819581186114 1053.8340981168017\n",
      "EUVI (after masking) 8.036295e-09 28.742294\n",
      "INFO: Obtained JPL HORIZONS location for SOHO (spacecraft) (-21) [sunpy.coordinates.ephemeris]\n"
     ]
    },
    {
     "name": "stderr",
     "output_type": "stream",
     "text": [
      "WARNING: FITSFixedWarning: CROTA = -1.31811987991E-08 \n",
      "keyword looks very much like CROTAn but isn't. [astropy.wcs.wcs]\n",
      "WARNING: FITSFixedWarning: CROTA = -1.31811987991E-08 \n",
      "keyword looks very much like CROTAn but isn't. [astropy.wcs.wcs]\n"
     ]
    },
    {
     "name": "stdout",
     "output_type": "stream",
     "text": [
      "2 91 EIT (after masking) 10.429746291103035 7760.799899934051\n",
      "EUVI (after masking) 5.1159077e-09 24.56539\n",
      "INFO: Obtained JPL HORIZONS location for SOHO (spacecraft) (-21) [sunpy.coordinates.ephemeris]\n"
     ]
    },
    {
     "name": "stderr",
     "output_type": "stream",
     "text": [
      "WARNING: FITSFixedWarning: CROTA = -9.5372798547500E-09 \n",
      "keyword looks very much like CROTAn but isn't. [astropy.wcs.wcs]\n",
      "WARNING: FITSFixedWarning: CROTA = -9.5372798547500E-09 \n",
      "keyword looks very much like CROTAn but isn't. [astropy.wcs.wcs]\n"
     ]
    },
    {
     "name": "stdout",
     "output_type": "stream",
     "text": [
      "2 92 EIT (after masking) 12.098810325581798 2912.1249246662073\n",
      "EUVI (after masking) 1.9519803e-08 28.44416\n",
      "INFO: Obtained JPL HORIZONS location for SOHO (spacecraft) (-21) [sunpy.coordinates.ephemeris]\n"
     ]
    },
    {
     "name": "stderr",
     "output_type": "stream",
     "text": [
      "WARNING: FITSFixedWarning: CROTA = -1.1332911054E-08 \n",
      "keyword looks very much like CROTAn but isn't. [astropy.wcs.wcs]\n",
      "WARNING: FITSFixedWarning: CROTA = -1.1332911054E-08 \n",
      "keyword looks very much like CROTAn but isn't. [astropy.wcs.wcs]\n"
     ]
    },
    {
     "name": "stdout",
     "output_type": "stream",
     "text": [
      "2 93 EIT (after masking) 13.669274256146007 1303.0741080886453\n",
      "EUVI (after masking) 5.0226845e-10 28.069803\n",
      "INFO: Obtained JPL HORIZONS location for SOHO (spacecraft) (-21) [sunpy.coordinates.ephemeris]\n"
     ]
    },
    {
     "name": "stderr",
     "output_type": "stream",
     "text": [
      "WARNING: FITSFixedWarning: CROTA = -1.89426452302E-09 \n",
      "keyword looks very much like CROTAn but isn't. [astropy.wcs.wcs]\n",
      "WARNING: FITSFixedWarning: CROTA = -1.89426452302E-09 \n",
      "keyword looks very much like CROTAn but isn't. [astropy.wcs.wcs]\n"
     ]
    },
    {
     "name": "stdout",
     "output_type": "stream",
     "text": [
      "2 94 EIT (after masking) 11.320360593243814 1493.9804890273954\n",
      "EUVI (after masking) 9.024461e-10 27.86122\n"
     ]
    }
   ],
   "source": [
    "# Imports\n",
    "import numpy as np\n",
    "import numpy.ma as ma\n",
    "import sunpy.map\n",
    "import sunpy.sun\n",
    "from sunpy.map.maputils import all_coordinates_from_map\n",
    "from sunpy.coordinates import get_horizons_coord\n",
    "import glob\n",
    "import boto3\n",
    "from boto3 import session\n",
    "session = boto3.session.Session(region_name='us-east-1')\n",
    "s3client = session.client('s3')\n",
    "\n",
    "def wavelet_enhancement(img):\n",
    "    \n",
    "    # https://www.harrisgeospatial.com/docs/Relational_Operators.html\n",
    "    where_gt = np.where(img > 0.01)\n",
    "    log_img = np.log10(img[where_gt])\n",
    "    \n",
    "    return\n",
    "\n",
    "# Masking function\n",
    "def mask_outside_disk(inst_map):\n",
    "    # Find coordinates and radius\n",
    "    hpc_coords = all_coordinates_from_map(inst_map)\n",
    "    r = np.sqrt(hpc_coords.Tx ** 2 + hpc_coords.Ty ** 2) / inst_map.rsun_obs\n",
    "    \n",
    "    # Mask everything outside of the solar disk\n",
    "    mask = ma.masked_greater_equal(r, 1)\n",
    "    ma.set_fill_value(mask, np.nan)\n",
    "    where_disk = np.where(mask.mask == 1)\n",
    "    \n",
    "    return where_disk\n",
    "\n",
    "\n",
    "def make_hist(norm_log_inst, bins_inst):\n",
    "    \n",
    "    where_mask = np.isfinite(norm_log_inst)\n",
    "    arr = norm_log_inst[where_mask]\n",
    "    hist, bins = np.histogram(arr, bins=bins_inst, density=True)\n",
    "    width = bins[1] - bins[0]\n",
    "    \n",
    "    return hist*width\n",
    "\n",
    "\n",
    "# Nb. of samples to use for the Hamada process\n",
    "nb_samples = 95\n",
    "nb_bins = 400\n",
    "nb_channels = 3\n",
    "\n",
    "# Find sample data\n",
    "# Read\n",
    "# npzfile = np.load('filenames_three_instruments_sync.npz')\n",
    "npzfile = np.load('filenames_aligned.npz')\n",
    "filenames_eit_0 = npzfile['filenames_eit_171'] \n",
    "filenames_eit_1 = npzfile['filenames_eit_195']\n",
    "filenames_eit_2 = npzfile['filenames_eit_304'] \n",
    "filenames_euvil_0 = npzfile['filenames_euvil_171'] \n",
    "filenames_euvil_1 = npzfile['filenames_euvil_195'] \n",
    "filenames_euvil_2 = npzfile['filenames_euvil_304'] \n",
    "\n",
    "# Arrays for cdf\n",
    "cdf_eit = np.zeros((nb_channels, nb_bins-1))\n",
    "bins_eit = np.zeros((nb_channels, nb_bins))\n",
    "cdf_euvil = np.zeros((nb_channels, nb_bins-1))\n",
    "bins_euvil = np.zeros((nb_channels, nb_bins))\n",
    "\n",
    "# Output\n",
    "filename_output = 'cumulative_hist.npz'\n",
    "\n",
    "# Loop over wavelengths\n",
    "for channel_nb in range(nb_channels):\n",
    "    \n",
    "    if channel_nb == 0:\n",
    "        filenames_eit = filenames_eit_0\n",
    "        filenames_euvil = filenames_euvil_0\n",
    "    elif channel_nb == 1:\n",
    "        filenames_eit = filenames_eit_1\n",
    "        filenames_euvil = filenames_euvil_1\n",
    "    elif channel_nb == 2:\n",
    "        filenames_eit = filenames_eit_2\n",
    "        filenames_euvil = filenames_euvil_2\n",
    "    \n",
    "    # Map objects\n",
    "    s3client.download_file('jh-tremblay', filenames_eit[0], 'eit-hamada.fits')\n",
    "    eit_maps = sunpy.map.Map('eit-hamada.fits')  # [channel_nb, :])\n",
    "    nx_eit, ny_eit = eit_maps.data.shape\n",
    "    s3client.download_file('jh-tremblay', filenames_euvil[0], 'euvil-hamada.fits')\n",
    "    euvil_maps = sunpy.map.Map('euvil-hamada.fits')  # [channel_nb, :])\n",
    "    nx_euvil, ny_euvil = euvil_maps.data.shape\n",
    "    print(filenames_eit[0], filenames_euvil[0])\n",
    "    \n",
    "    # Log arrays\n",
    "    norm_log_eit = np.zeros((nb_samples, nx_eit, ny_eit))\n",
    "    norm_log_euvil = np.zeros((nb_samples, nx_euvil, ny_euvil))\n",
    "\n",
    "    # Histograms (of the standardized log intensities)\n",
    "    hist_eit = np.zeros((nb_samples, nb_bins - 1))\n",
    "    hist_euvil = np.zeros((nb_samples, nb_bins - 1))\n",
    "    \n",
    "    # File counter\n",
    "    file_counter = 0\n",
    "    \n",
    "    # Loop over objects\n",
    "    for file_nb in range(0, nb_samples):\n",
    "        \n",
    "        condition_positive = 0\n",
    "        while(condition_positive == 0):\n",
    "            s3client.download_file('jh-tremblay', filenames_eit[file_nb+file_counter], 'eit-hamada.fits')\n",
    "            eit_maps = sunpy.map.Map('eit-hamada.fits')  # [channel_nb, :])\n",
    "            nx_eit, ny_eit = eit_maps.data.shape\n",
    "            s3client.download_file('jh-tremblay', filenames_euvil[file_nb+file_counter], 'euvil-hamada.fits')\n",
    "            euvil_maps = sunpy.map.Map('euvil-hamada.fits')  # [channel_nb, :])\n",
    "            nx_euvil, ny_euvil = euvil_maps.data.shape\n",
    "        \n",
    "            if eit_maps.observatory in ['SOHO']:\n",
    "                new_coords = get_horizons_coord(eit_maps.observatory.replace(' ', '-'),\n",
    "                                                eit_maps.date)\n",
    "                eit_maps.meta['HGLN_OBS'] = new_coords.lon.to('deg').value\n",
    "                eit_maps.meta['HGLT_OBS'] = new_coords.lat.to('deg').value\n",
    "                eit_maps.meta['DSUN_OBS'] = new_coords.radius.to('m').value\n",
    "                eit_maps.meta.pop('hec_x')\n",
    "                eit_maps.meta.pop('hec_y')\n",
    "                eit_maps.meta.pop('hec_z')\n",
    "        \n",
    "            # Mask everything outside of the solar disk\n",
    "            # where_mask = mask_outside_disk(eit_maps[file_nb])\n",
    "            hpc_coords = all_coordinates_from_map(eit_maps)\n",
    "            r = np.sqrt(hpc_coords.Tx ** 2 + hpc_coords.Ty ** 2) / eit_maps.rsun_obs\n",
    "            # Masking operation\n",
    "            mask = ma.masked_greater_equal(r, 1)\n",
    "            ma.set_fill_value(mask, np.nan)\n",
    "            # Adjust data\n",
    "            where_mask_eit = np.where(mask.mask == 1)\n",
    "            eit_maps.data[where_mask_eit] = np.nan\n",
    "            \n",
    "            # Mask everything outside of the solar disk\n",
    "            # where_mask = mask_outside_disk(euvil_maps[file_nb])\n",
    "            hpc_coords = all_coordinates_from_map(euvil_maps)\n",
    "            r = np.sqrt(hpc_coords.Tx ** 2 + hpc_coords.Ty ** 2) / euvil_maps.rsun_obs\n",
    "            # Masking operation\n",
    "            mask = ma.masked_greater_equal(r, 1)\n",
    "            ma.set_fill_value(mask, np.nan)\n",
    "            # Adjust data\n",
    "            where_zeros = np.where(np.abs(euvil_maps.data) < 1.e-13 )\n",
    "            euvil_maps.data[where_zeros] = 1.e-13\n",
    "            where_mask_euvi = np.where(mask.mask == 1)\n",
    "            euvil_maps.data[where_mask_euvi] = np.nan\n",
    "            \n",
    "            \n",
    "            if(np.nanmin(eit_maps.data) > 0):\n",
    "                condition_positive = 1\n",
    "                print(channel_nb, file_nb, 'EIT (after masking)', np.nanmin(eit_maps.data), np.nanmax(eit_maps.data))\n",
    "                print('EUVI (after masking)', np.nanmin(euvil_maps.data**2), np.nanmax(euvil_maps.data**2))\n",
    "            else:\n",
    "                file_counter = file_counter + 1\n",
    "\n",
    "        # Benoit: Insert wavelet filter here for EIT and square data\n",
    "        \n",
    "        \n",
    "        # Log intensities\n",
    "        log_eit = np.log10(eit_maps.data)\n",
    "        log_euvil = np.log10(euvil_maps.data**2)\n",
    "\n",
    "        # Normalization\n",
    "        mean_log_eit = np.nanmean(log_eit)\n",
    "        std_log_eit = np.nanstd(log_eit)\n",
    "        # print(channel_nb, file_nb, 'Norm', mean_log_eit, std_log_eit)\n",
    "        mean_log_euvil = np.nanmean(log_euvil)\n",
    "        std_log_euvil = np.nanstd(log_euvil)\n",
    "        # print(channel_nb, file_nb, 'Norm', mean_log_euvil, std_log_euvil)\n",
    "        norm_log_eit[file_nb, :, :] = (log_eit - mean_log_eit)/std_log_eit\n",
    "        norm_log_euvil[file_nb, :, :] = (log_euvil - mean_log_euvil) / std_log_euvil\n",
    "        \n",
    "    # Compute histograms\n",
    "    dmin = np.nanmin(norm_log_eit)\n",
    "    dmax = np.nanmax(norm_log_eit)\n",
    "    bins_eit[channel_nb, :] = np.linspace(dmin, dmax, nb_bins)\n",
    "    # print(channel_nb, file_nb, 'dmin', dmin, dmax)\n",
    "    dmin = np.nanmin(norm_log_euvil)\n",
    "    dmax = np.nanmax(norm_log_euvil)\n",
    "    bins_euvil[channel_nb, :] = np.linspace(dmin, dmax, nb_bins)\n",
    "    # print(channel_nb, file_nb, 'dmin', dmin, dmax)\n",
    "    \n",
    "    # Individual histograms\n",
    "    for file_nb in range(nb_samples):\n",
    "        # EIT\n",
    "        hist_eit[file_nb, :] = make_hist(norm_log_eit[file_nb, :, :], bins_eit[channel_nb, :])\n",
    "        # EUVI-l\n",
    "        hist_euvil[file_nb, :] = make_hist(norm_log_euvil[file_nb, :, :], bins_euvil[channel_nb, :])\n",
    "\n",
    "    # Average\n",
    "    hist_eit = np.mean(hist_eit, axis=0)\n",
    "    hist_euvil = np.mean(hist_euvil, axis=0)\n",
    "    \n",
    "    # Cumulative\n",
    "    cdf_eit[channel_nb, :] = np.cumsum(hist_eit)\n",
    "    cdf_euvil[channel_nb, :] = np.cumsum(hist_euvil)\n",
    "    \n",
    "\n",
    "#############\n",
    "# End of file\n",
    "#############"
   ]
  },
  {
   "cell_type": "code",
   "execution_count": 28,
   "metadata": {},
   "outputs": [],
   "source": [
    "# Save CDFs and bins\n",
    "np.savez(filename_output, cdf_eit=cdf_eit, bins_eit=bins_eit, cdf_euvil=cdf_euvil, bins_euvil=bins_euvil)"
   ]
  },
  {
   "cell_type": "code",
   "execution_count": 24,
   "metadata": {},
   "outputs": [
    {
     "name": "stdout",
     "output_type": "stream",
     "text": [
      "1e-30\n"
     ]
    }
   ],
   "source": [
    "print((1.e-15)**2)"
   ]
  },
  {
   "cell_type": "code",
   "execution_count": 5,
   "metadata": {},
   "outputs": [],
   "source": [
    "s3resource = boto3.resource('s3')\n",
    "s3resource.meta.client.upload_file( 'cumulative_hist.npz', 'jh-tremblay', 'composite_cumulative_hist.npz')"
   ]
  },
  {
   "cell_type": "code",
   "execution_count": 6,
   "metadata": {},
   "outputs": [],
   "source": [
    "s3resource = boto3.resource('s3')\n",
    "s3resource.meta.client.upload_file( 'filenames_three_instruments.npz', 'jh-tremblay', 'composite_filenames_instant_three_instruments.npz')"
   ]
  },
  {
   "cell_type": "code",
   "execution_count": 18,
   "metadata": {},
   "outputs": [
    {
     "name": "stdout",
     "output_type": "stream",
     "text": [
      "9.814052637663978e-08 1.000000000000002\n",
      "1.0101158047264329e-08 1.0000000000000304\n",
      "2.505818196625289e-08 0.9999999999999922\n",
      "nan nan\n"
     ]
    },
    {
     "data": {
      "text/plain": [
       "<Figure size 720x720 with 0 Axes>"
      ]
     },
     "metadata": {},
     "output_type": "display_data"
    },
    {
     "data": {
      "image/png": "[encoded data removed]",
      "text/plain": [
       "<Figure size 720x720 with 1 Axes>"
      ]
     },
     "metadata": {
      "needs_background": "light"
     },
     "output_type": "display_data"
    },
    {
     "data": {
      "text/plain": [
       "<Figure size 720x720 with 0 Axes>"
      ]
     },
     "metadata": {},
     "output_type": "display_data"
    },
    {
     "data": {
      "image/png": "[encoded data removed]",
      "text/plain": [
       "<Figure size 720x720 with 1 Axes>"
      ]
     },
     "metadata": {
      "needs_background": "light"
     },
     "output_type": "display_data"
    },
    {
     "data": {
      "text/plain": [
       "<Figure size 720x720 with 0 Axes>"
      ]
     },
     "metadata": {},
     "output_type": "display_data"
    },
    {
     "data": {
      "image/png": "[encoded data removed]",
      "text/plain": [
       "<Figure size 720x720 with 1 Axes>"
      ]
     },
     "metadata": {
      "needs_background": "light"
     },
     "output_type": "display_data"
    }
   ],
   "source": [
    "import matplotlib.pyplot as plt\n",
    "\n",
    "x_euvi_195_l = bins_euvil\n",
    "x_eit_195 = bins_eit\n",
    "\n",
    "plt.figure(figsize=(10, 10))\n",
    "\n",
    "colors = ['#1f77b4', '#ff7f0e', '#2ca02c', '#d62728',\n",
    "          '#9467bd', '#8c564b', '#e377c2', '#7f7f7f',\n",
    "          '#bcbd22', '#17becf']\n",
    "fig, ax = plt.subplots(figsize=(10, 10))\n",
    "x = (x_eit_195[0, :-1] + x_eit_195[0, 1:]) / 2\n",
    "ax.plot(x, cdf_eit[0, :], c=colors[0], label='EIT')\n",
    "print(np.amin(cdf_eit[0, :]), np.amax(cdf_eit[0, :]))\n",
    "x = (x_euvi_195_l[0, :-1] + x_euvi_195_l[0, 1:]) / 2\n",
    "ax.plot(x, cdf_euvil[0, :], c=colors[1], label='EUVI-l')\n",
    "print(np.amin(cdf_euvil[0, :]), np.amax(cdf_euvil[0, :]))\n",
    "ax.grid(True)\n",
    "ax.set_xlim(-5., 5.)\n",
    "ax.set_title('Cumulative Histograms')\n",
    "ax.set_xlabel('log(Intensity)')\n",
    "ax.set_ylabel('Cumulative Probability')\n",
    "ax.legend(loc='best', numpoints=1)\n",
    "plt.draw()\n",
    "\n",
    "plt.figure(figsize=(10, 10))\n",
    "\n",
    "colors = ['#1f77b4', '#ff7f0e', '#2ca02c', '#d62728',\n",
    "          '#9467bd', '#8c564b', '#e377c2', '#7f7f7f',\n",
    "          '#bcbd22', '#17becf']\n",
    "fig, ax = plt.subplots(figsize=(10, 10))\n",
    "x = (x_eit_195[1, :-1] + x_eit_195[1, 1:]) / 2\n",
    "ax.plot(x, cdf_eit[1, :], c=colors[0], label='EIT')\n",
    "print(np.amin(cdf_eit[1, :]), np.amax(cdf_eit[1, :]))\n",
    "x = (x_euvi_195_l[1, :-1] + x_euvi_195_l[1, 1:]) / 2\n",
    "ax.plot(x, cdf_euvil[1, :], c=colors[1], label='EUVI-l')\n",
    "print(np.amin(cdf_euvil[1, :]), np.amax(cdf_euvil[1, :]))\n",
    "ax.grid(True)\n",
    "ax.set_xlim(-5., 5.)\n",
    "ax.set_title('Cumulative Histograms')\n",
    "ax.set_xlabel('log(Intensity)')\n",
    "ax.set_ylabel('Cumulative Probability')\n",
    "ax.legend(loc='best', numpoints=1)\n",
    "plt.draw()\n",
    "\n",
    "plt.figure(figsize=(10, 10))\n",
    "\n",
    "colors = ['#1f77b4', '#ff7f0e', '#2ca02c', '#d62728',\n",
    "          '#9467bd', '#8c564b', '#e377c2', '#7f7f7f',\n",
    "          '#bcbd22', '#17becf']\n",
    "fig, ax = plt.subplots(figsize=(10, 10))\n",
    "x = (x_eit_195[2, :-1] + x_eit_195[2, 1:]) / 2\n",
    "ax.plot(x, cdf_eit[2, :], c=colors[0], label='EIT')\n",
    "x = (x_euvi_195_l[2, :-1] + x_euvi_195_l[2, 1:]) / 2\n",
    "ax.plot(x, cdf_euvil[2, :], c=colors[1], label='EUVI-l')\n",
    "ax.grid(True)\n",
    "ax.set_xlim(-5., 5.)\n",
    "ax.set_title('Cumulative Histograms')\n",
    "ax.set_xlabel('log(Intensity)')\n",
    "ax.set_ylabel('Cumulative Probability')\n",
    "ax.legend(loc='best', numpoints=1)\n",
    "plt.draw()"
   ]
  },
  {
   "cell_type": "code",
   "execution_count": 29,
   "metadata": {},
   "outputs": [
    {
     "data": {
      "text/plain": [
       "<Figure size 720x720 with 0 Axes>"
      ]
     },
     "metadata": {},
     "output_type": "display_data"
    },
    {
     "data": {
      "image/png": "[encoded data removed]",
      "text/plain": [
       "<Figure size 720x720 with 1 Axes>"
      ]
     },
     "metadata": {
      "needs_background": "light"
     },
     "output_type": "display_data"
    }
   ],
   "source": [
    "import matplotlib.pyplot as plt\n",
    "\n",
    "x_euvi_195_l = bins_euvil\n",
    "x_eit_195 = bins_eit\n",
    "\n",
    "plt.figure(figsize=(10, 10))\n",
    "\n",
    "colors = ['#1f77b4', '#ff7f0e', '#2ca02c', '#d62728',\n",
    "          '#9467bd', '#8c564b', '#e377c2', '#7f7f7f',\n",
    "          '#bcbd22', '#17becf']\n",
    "fig, ax = plt.subplots(figsize=(10, 10))\n",
    "x = (x_eit_195[0, :-1] + x_eit_195[0, 1:]) / 2\n",
    "ax.plot(x, cdf_eit[0, :], c=colors[0], label='EIT-171')\n",
    "x = (x_eit_195[1, :-1] + x_eit_195[1, 1:]) / 2\n",
    "ax.plot(x, cdf_eit[1, :], c=colors[1], label='EIT-195')\n",
    "x = (x_eit_195[2, :-1] + x_eit_195[2, 1:]) / 2\n",
    "ax.plot(x, cdf_eit[2, :], c=colors[2], label='EIT-304')\n",
    "x = (x_euvi_195_l[0, :-1] + x_euvi_195_l[0, 1:]) / 2\n",
    "ax.plot(x, cdf_euvil[0, :], c=colors[3], label='EUVI-171')\n",
    "x = (x_euvi_195_l[1, :-1] + x_euvi_195_l[1, 1:]) / 2\n",
    "ax.plot(x, cdf_euvil[1, :], c=colors[4], label='EUVI-195')\n",
    "x = (x_euvi_195_l[2, :-1] + x_euvi_195_l[2, 1:]) / 2\n",
    "ax.plot(x, cdf_euvil[2, :], c=colors[5], label='EUVI-304')\n",
    "ax.grid(True)\n",
    "ax.set_xlim(-5., 5.)\n",
    "ax.set_title('Cumulative Histograms')\n",
    "ax.set_xlabel('log(Intensity)')\n",
    "ax.set_ylabel('Cumulative Probability')\n",
    "ax.legend(loc='best', numpoints=1)\n",
    "plt.draw()"
   ]
  },
  {
   "cell_type": "code",
   "execution_count": null,
   "metadata": {},
   "outputs": [],
   "source": []
  }
 ],
 "metadata": {
  "kernelspec": {
   "display_name": "Python 3",
   "language": "python",
   "name": "python3"
  },
  "language_info": {
   "codemirror_mode": {
    "name": "ipython",
    "version": 3
   },
   "file_extension": ".py",
   "mimetype": "text/x-python",
   "name": "python",
   "nbconvert_exporter": "python",
   "pygments_lexer": "ipython3",
   "version": "3.7.4"
  }
 },
 "nbformat": 4,
 "nbformat_minor": 4
}
